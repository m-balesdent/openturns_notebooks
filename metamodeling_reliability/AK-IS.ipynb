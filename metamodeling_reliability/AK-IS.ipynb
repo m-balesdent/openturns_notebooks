{
 "cells": [
  {
   "cell_type": "code",
   "execution_count": 2,
   "metadata": {},
   "outputs": [],
   "source": [
    "import openturns as ot\n",
    "import numpy as np\n",
    "import matplotlib as mpl"
   ]
  },
  {
   "cell_type": "markdown",
   "metadata": {},
   "source": [
    "# Implementation of AK-IS\n",
    "\n",
    "## Sources :  \n",
    "* Echard, B.,Assessment by kriging of the reliability of structures subjected to fatigue stress, PhD Thesis, Université Blaise Pascal, 2012\n",
    "\n",
    "\n",
    "This notebook implements the AK- IS method which couples Gaussian Process based surrogate model and Importance Sampling by FORM.\n",
    "\n",
    "\n",
    "In case of rare event probability estimation, the surrogate model has to be accurate in the zones that are relevant to the failure probability estimation i.e. in the vicinity of failure threshold $T$ and in the high probability content regions. The use of the exact function $\\phi$ and its surrogate $\\hat{\\phi}$ in the probability calculation will lead to the same result if $\\forall \\mathbf{x} \\in \\mathbb{R}^d, \\mathbf{1}_{\\phi(\\mathbf{x})>T} = \\mathbf{1}_{\\hat{\\phi}(\\mathbf{x},\\mathcal{X})>T}$. In other words, the surrogate model might not be representative of the exact function outside the zones of interest as it does not take part of the probability estimation. From the initial training set $\\mathcal{X}$, the Gaussian process properties (i.e. estimation of the predicted error variance) are  valuable to determine the additional samples which have to be evaluated on $\\phi(\\cdot)$ to refine its surrogate model. Different refinement strategies have been developed in the literature. Here, the method described in [Echard 2012] is implemented  (\"U criterion\").\n",
    "\n",
    "\n",
    "This method determines a new sample point $\\mathbf{x}$ to add to the training set $\\mathcal{X}$ by solving the following optimisation problem:\n",
    "\\begin{equation}\n",
    "\\underset{\\mathbf{x}}{\\max}  \\left[1 - \\Phi_{0,1}\\left( \\frac{|T-\\hat{\\phi}(\\mathbf{x},\\mathcal{X})|}{\\hat{\\sigma}(\\mathbf{x},\\mathcal{X})}\\right)\\right], \\label{eq:echard}\n",
    "\\end{equation}\n",
    "where $\\Phi_{0,1}(\\cdot)$ is the cdf of the standard Gaussian distribution, $\\hat{\\phi}$ the mean prediction of the Kriging and $\\hat{\\sigma}$ the estimated standard deviation of the prediction error. The used criterion generates a sample for which the Kriging prediction is closed to the threshold  (numerator) and which presents a high prediction error (denominator). Due to the monotonicity of the involved cdf, the optimisation problem is equivalent to:\n",
    "\\begin{equation}\n",
    "\\underset{\\mathbf{x}}{\\min}\\;  \\frac{|T-\\hat{\\phi}(\\mathbf{x},\\mathcal{X})|}{\\hat{\\sigma}(\\mathbf{x},\\mathcal{X})}. \\label{eq:echard2}\n",
    "\\end{equation}\n",
    "This criterion has been coupled with Importance Sampling. In practice, the optimisation problem is not solved, and given a sample set $\\{\\mathbf{X}_1,\\dots, \\mathbf{X}_N\\}$ provided by IS the new sample which will be added to the training set is determined by\n",
    "\\begin{equation*}\n",
    "\\mathbf{X} = \\underset{\\mathbf{X}_1,\\dots,\\mathbf{X}_N}{\\text{argmin}}  \\left\\{\\frac{|T-\\hat{\\phi}(\\mathbf{X}_1,\\mathcal{X})|}{\\hat{\\sigma}(\\mathbf{X}_1,\\mathcal{X})},\\dots, \\frac{|T-\\hat{\\phi}(\\mathbf{X}_N,\\mathcal{X})|}{\\hat{\\sigma}(\\mathbf{X}_N,\\mathcal{X})}     \\right\\}.\n",
    "\\end{equation*}\n",
    "\n",
    "\n",
    "\n",
    "In this notebook, this criterion is implemented with Importance Sampling.\n",
    "\n",
    "First a FORM analysis is performed to get the design point. Then an auxiliary density is placed at this design point. Finally, adaptive refinement of Kriging model is performed from the samples generated with the auxiliary density."
   ]
  },
  {
   "cell_type": "markdown",
   "metadata": {},
   "source": [
    "## Definition of algorithm AK-IS  class (implemented here with \"U\" criterion, and FORM to find the MPP, see sources)"
   ]
  },
  {
   "cell_type": "code",
   "execution_count": 3,
   "metadata": {},
   "outputs": [],
   "source": [
    "### Definition of parameters\n",
    "# event : ThresholdEvent based on composite vector of input variables on limit state function \n",
    "# n_IS : number of IS samples at the MPP found by FORM\n",
    "# n_DoE : number of samples in initial Kriging DoE\n",
    "# sim_budget : total simulation budget available\n",
    "# basis : basis of kriging model\n",
    "# cov_model : covariance model of kriging\n",
    "# FORM_solver : FORM solver \n",
    "# u_criterion : threshold value for \"u criterion\"\n",
    "# verbose : verbosity parameter \n",
    "\n",
    "class AK_ISAlgorithm(object):\n",
    "    \n",
    "    def __init__(self,event,n_IS,n_DoE,sim_budget,basis,cov_model,FORM_solver,u_criterion=2,verbose = False):\n",
    "        self.n_IS = n_IS\n",
    "        self.n_DoE = n_DoE\n",
    "        self.limit_state_function = event.getFunction()\n",
    "        self.S = event.getThreshold()\n",
    "        self.basis = basis\n",
    "        self.cov_model = cov_model\n",
    "        self.dim = event.getAntecedent().getDimension()\n",
    "        self.proba = 0.\n",
    "        self.cv = 0.\n",
    "        self.distrib = event.getAntecedent().getDistribution()\n",
    "        self.tol_var_krig = cov_model.getNuggetFactor()\n",
    "        self.nb_eval = 0\n",
    "        self.U_criterion = u_criterion\n",
    "        self.DoE = None\n",
    "        self.kriging_model = None\n",
    "        self.verbose = verbose\n",
    "        self.samples = None\n",
    "        self.FORM_solver = FORM_solver\n",
    "        self.inv_isoprobtrans = self.distrib.getInverseIsoProbabilisticTransformation()\n",
    "        self.max_sim = sim_budget\n",
    "        self.FORM_result = None\n",
    "        self.operator =  event.getOperator()\n",
    "        \n",
    "    #Function determining the U criterion of AK -IS\n",
    "    def compute_U(self,my_krig,list_id_evaluated):\n",
    "        \n",
    "        y_pred = my_krig.getConditionalMean(self.samples)\n",
    "        y_var_pred = my_krig.getConditionalMarginalVariance(self.samples)\n",
    "        \n",
    "        U = np.abs(ot.Sample([ot.Point([self.S])]*int(self.n_IS))-y_pred)/np.sqrt(y_var_pred)\n",
    "            \n",
    "        if len(list_id_evaluated)>0:\n",
    "            U[list_id_evaluated] = 5e5\n",
    "        return U\n",
    "    \n",
    "    # FORM COMPUTATION\n",
    "    def compute_FORM(self):\n",
    "        vect = ot.RandomVector(self.distrib)\n",
    "        G = ot.CompositeRandomVector(self.limit_state_function, vect)\n",
    "        event = ot.ThresholdEvent(G,self.operator, self.S)\n",
    "        #FORM algorithm to get the MPP\n",
    "        algo = ot.FORM(self.FORM_solver, event, self.distrib.getMean())\n",
    "        algo.run()\n",
    "        result_FORM = algo.getResult()\n",
    "        if self.verbose == True:\n",
    "            print('Estimation of probability with FORM',result_FORM.getEventProbability())\n",
    "        self.FORM_result = result_FORM\n",
    "        \n",
    "    #Function computing the probability of failure\n",
    "    def compute_proba(self):\n",
    "\n",
    "            #Computation of FORM\n",
    "            self.compute_FORM()\n",
    "            # Derivation of auxiliary density and sampling\n",
    "            myImportance = ot.Normal(self.dim)\n",
    "            myImportance.setMean(self.FORM_result.getStandardSpaceDesignPoint())\n",
    "            samples_std_space = myImportance.getSample(self.n_IS)\n",
    "            self.samples_std_space = samples_std_space\n",
    "            self.samples = self.inv_isoprobtrans(samples_std_space)\n",
    "            \n",
    "            #Calculation of weights in standard space\n",
    "            norm_law = ot.Normal(np.zeros(self.dim), np.ones(self.dim), ot.IdentityMatrix(self.dim))\n",
    "            weights = [norm_law.computePDF(x)/myImportance.computePDF(x) for x in samples_std_space]\n",
    "\n",
    "            #Generation of DoE\n",
    "            DoE_inputs = self.samples[0:self.n_DoE]\n",
    "            #Calculation of True function of the DoE\n",
    "            DoE_responses =self.limit_state_function(DoE_inputs)\n",
    "            list_id_samples_evaluated = np.linspace(0,self.n_DoE-1,self.n_DoE,dtype = int).tolist()\n",
    "            \n",
    "            #Definition of Kriging algorithm\n",
    "            algokriging = ot.KrigingAlgorithm(DoE_inputs, \n",
    "                                              DoE_responses,\n",
    "                                              self.cov_model,\n",
    "                                              self.basis)\n",
    "            algokriging.run()\n",
    "            my_krig = algokriging.getResult()\n",
    "            updated_cov = my_krig.getCovarianceModel()\n",
    "            U_y_pred = self.compute_U(my_krig,list_id_samples_evaluated)\n",
    "            \n",
    "            id_opt_U=np.argmin(U_y_pred)\n",
    "            current_min_U = np.min(U_y_pred)\n",
    "            \n",
    "            nb_pt_sim = 0\n",
    "            \n",
    "            list_id_samples_evaluated.append(id_opt_U)\n",
    "            \n",
    "            while nb_pt_sim<self.max_sim and current_min_U < self.U_criterion:\n",
    "                    #evaluation of true function\n",
    "                    x_new = self.samples[int(id_opt_U)]\n",
    "                    y_new = self.limit_state_function(x_new)\n",
    "\n",
    "                    DoE_inputs.add(x_new)\n",
    "                    DoE_responses.add(y_new)\n",
    "                    # Definition of Kriging model\n",
    "\n",
    "                    startingPoint =updated_cov.getScale()\n",
    "                    algokriging = ot.KrigingAlgorithm(DoE_inputs, \n",
    "                                                      DoE_responses,\n",
    "                                                      covarianceModel,\n",
    "                                                      basis)\n",
    "                    \n",
    "                    solver_kriging = ot.NLopt('GN_DIRECT')\n",
    "                    \n",
    "                    solver_kriging.setStartingPoint(startingPoint)\n",
    "                    \n",
    "                    algokriging.setOptimizationAlgorithm(solver_kriging)\n",
    "                    \n",
    "                    algokriging.setOptimizationBounds(ot.Interval([0.01]*self.dim, [100]*self.dim))\n",
    "                    #self.algo_krig = algokriging\n",
    "\n",
    "                    algokriging.run()\n",
    "\n",
    "                    my_krig = algokriging.getResult()\n",
    "                    updated_cov = my_krig.getCovarianceModel()\n",
    "                    # computation of U\n",
    "                    U_y_pred = self.compute_U(my_krig,list_id_samples_evaluated)\n",
    "                    current_min_U=np.min(U_y_pred)\n",
    "                    id_opt_U = np.argmin(U_y_pred)         \n",
    "                    nb_pt_sim = nb_pt_sim+1\n",
    "                    list_id_samples_evaluated.append(id_opt_U)\n",
    "                   \n",
    "                    y = my_krig.getConditionalMean(self.samples)\n",
    "                    \n",
    "                    I = [self.operator(y[i][0],self.S) for i in range(self.n_IS)]\n",
    "                    \n",
    "                    #[print(y[i][0])for i in range(self.n_IS)]\n",
    "                    \n",
    "                    int_I = [int(i) for i in I]\n",
    "                    \n",
    "                    Pf = 1/self.n_IS*np.sum(np.array(int_I)*weights)\n",
    "                    self.proba = Pf\n",
    "                    self.nb_eval = self.n_DoE+nb_pt_sim\n",
    "                    self.DoE = [DoE_inputs,DoE_responses]\n",
    "                    self.kriging_model = my_krig\n",
    "\n",
    "                    if self.verbose == True:\n",
    "                        if nb_pt_sim == 1:\n",
    "                            print('current_min_U', '| Nb_sim',' | Probability estimate')\n",
    "                            print('{:9e}'.format(current_min_U),' | ','{:5d}'.format(int(nb_pt_sim)),' |      ','{:10e}'.format(Pf))\n",
    "\n",
    "                        else:\n",
    "                            print('{:9e}'.format(current_min_U),' | ','{:5d}'.format(int(nb_pt_sim)),' |      ','{:10e}'.format(Pf))\n",
    "                            \n",
    "            return \n",
    "                   \n",
    "    #Accessor to the number of evaluated samples             \n",
    "    def getSimBudget(self):\n",
    "        return self.nb_eval\n",
    "    \n",
    "    #Accessor to the kriging model \n",
    "    def getKrigingModel(self):\n",
    "        return self.kriging_model\n",
    "                   \n",
    "    #Accessor to the DoE\n",
    "    def getDoE(self):\n",
    "        return self.DoE\n",
    "    \n",
    "    #Accessor to the failure probability\n",
    "    def getFailureProbability(self):\n",
    "        return self.proba\n",
    "    \n",
    "    #Accessor to the MonteCarlo samples\n",
    "    def getIS_Samples(self):\n",
    "        return self.samples"
   ]
  },
  {
   "cell_type": "markdown",
   "metadata": {},
   "source": [
    "## Numerical experiments\n"
   ]
  },
  {
   "cell_type": "markdown",
   "metadata": {},
   "source": [
    "## Experiment 1 : \"Non linear oscillator\"\n",
    "\n",
    "$G(c_1,c_2,m,r,t_1,F_1)  = 3r-\\left|\\frac{2 F_1}{m \\omega_0^2}sin\\left(\\frac{\\omega_0 t_1}{2}\\right)\\right|$\n",
    "\n",
    "with : \n",
    "* $\\omega_0 = \\sqrt{\\left(\\frac{c_1+c_2}{m}\\right)}$\n",
    "* $m \\sim \\mathcal{N}(1,0.05)$\n",
    "* $c_1 \\sim \\mathcal{N}(1,0.1)$\n",
    "* $c_2 \\sim \\mathcal{N}(0.1,0.01)$\n",
    "* $r \\sim \\mathcal{N}(0.5,0.05)$\n",
    "* $F_1 \\sim \\mathcal{N}(1.,0.2)$\n",
    "* $r \\sim \\mathcal{N}(1.,0.2)$"
   ]
  },
  {
   "cell_type": "markdown",
   "metadata": {},
   "source": [
    "### Definition of input vector distribution"
   ]
  },
  {
   "cell_type": "code",
   "execution_count": 4,
   "metadata": {},
   "outputs": [],
   "source": [
    "dist_c1=ot.Normal(1, 0.1)\n",
    "dist_c2=ot.Normal(0.1, 0.01)\n",
    "dist_m=ot.Normal(1.,0.05 )\n",
    "dist_r =ot.Normal(0.5, 0.05)\n",
    "dist_t1 =ot.Normal(1., 0.2)\n",
    "dist_F1=ot.Normal(1., 0.2)\n",
    "std_dev = [dist_c1.getStandardDeviation()[0],dist_c2.getStandardDeviation()[0],dist_m.getStandardDeviation()[0],\n",
    "           dist_r.getStandardDeviation()[0],dist_t1.getStandardDeviation()[0],dist_F1.getStandardDeviation()[0]]\n",
    "dim_inputs=6\n",
    "marginals = [dist_c1,dist_c2,dist_m,dist_r,dist_t1,dist_F1]\n",
    "dist_x = ot.ComposedDistribution(marginals)"
   ]
  },
  {
   "cell_type": "markdown",
   "metadata": {},
   "source": [
    "### Definition of model"
   ]
  },
  {
   "cell_type": "code",
   "execution_count": 5,
   "metadata": {},
   "outputs": [],
   "source": [
    "#Definition of classical function\n",
    "def non_lin_osc(x):\n",
    "    c1 = x[0]\n",
    "    c2  = x[1]\n",
    "    m = x[2]\n",
    "    r = x[3]\n",
    "    t1 = x[4]\n",
    "    F1= x[5]\n",
    "    \n",
    "    omega = np.sqrt((c1+c2)/m)\n",
    "    \n",
    "    G = 3*r - np.abs(2*F1/(m*omega**2)*np.sin(omega*t1/2))\n",
    "    return [G]\n",
    "\n",
    "# Definition of pythonfunction\n",
    "non_lin_osc = ot.PythonFunction(6, 1, non_lin_osc)\n",
    "\n",
    "# Creation of event\n",
    "vect = ot.RandomVector(dist_x)\n",
    "G = ot.CompositeRandomVector(non_lin_osc, vect)\n",
    "event_osc = ot.ThresholdEvent(G, ot.Less(), 0.0)"
   ]
  },
  {
   "cell_type": "markdown",
   "metadata": {},
   "source": [
    "### Verification of true probability"
   ]
  },
  {
   "cell_type": "code",
   "execution_count": 6,
   "metadata": {},
   "outputs": [
    {
     "name": "stderr",
     "output_type": "stream",
     "text": [
      "D:\\mbalesde\\Logiciels\\Externes\\Anaconda3\\lib\\site-packages\\ipykernel_launcher.py:1: DeprecationWarning: `np.int` is a deprecated alias for the builtin `int`. To silence this warning, use `int` by itself. Doing this will not modify any behavior and is safe. When replacing `np.int`, you may wish to use e.g. `np.int64` or `np.int32` to specify the precision. If you wish to review your current use, check the release note link for additional information.\n",
      "Deprecated in NumPy 1.20; for more details and guidance: https://numpy.org/devdocs/release/1.20.0-notes.html#deprecations\n",
      "  \"\"\"Entry point for launching an IPython kernel.\n"
     ]
    },
    {
     "name": "stdout",
     "output_type": "stream",
     "text": [
      "Reference probability: 0.0284842319430315\n"
     ]
    }
   ],
   "source": [
    "n_MC = np.int(1e6)\n",
    "\n",
    "# create a Monte Carlo algorithm\n",
    "experiment = ot.MonteCarloExperiment()\n",
    "algo = ot.ProbabilitySimulationAlgorithm(event_osc, experiment)\n",
    "algo.setMaximumOuterSampling(int(n_MC))\n",
    "algo.setMaximumCoefficientOfVariation(0.01)\n",
    "algo.run()\n",
    "# retrieve results\n",
    "result = algo.getResult()\n",
    "probability = result.getProbabilityEstimate()\n",
    "print('Reference probability:', probability)"
   ]
  },
  {
   "cell_type": "markdown",
   "metadata": {},
   "source": [
    "### Definition of AK IS"
   ]
  },
  {
   "cell_type": "code",
   "execution_count": 7,
   "metadata": {},
   "outputs": [],
   "source": [
    "# Definition of Kriging model\n",
    "dim_osc = 6\n",
    "basis = ot.ConstantBasisFactory(dim_inputs).build()\n",
    "covarianceModel = ot.SquaredExponential([0.1]*dim_osc, [1.0])\n",
    "\n",
    "n_IS_osc = 1000\n",
    "n_DoE_osc = 40\n",
    "sim_budget_osc = 200\n",
    "verbose = True\n",
    "my_AK_non_lin_osc = AK_ISAlgorithm(event_osc,\n",
    "                                    n_IS_osc,\n",
    "                                    n_DoE_osc,\n",
    "                                    sim_budget_osc,                                                                   \n",
    "                                    basis,\n",
    "                                    covarianceModel,\n",
    "                                    ot.Cobyla(),\n",
    "                                    2,\n",
    "                                    verbose)\n"
   ]
  },
  {
   "cell_type": "markdown",
   "metadata": {},
   "source": [
    "### Computation of failure probability with AK-IS"
   ]
  },
  {
   "cell_type": "code",
   "execution_count": 8,
   "metadata": {},
   "outputs": [
    {
     "name": "stdout",
     "output_type": "stream",
     "text": [
      "Estimation of probability with FORM 0.031085156351391082\n",
      "current_min_U | Nb_sim  | Probability estimate\n",
      "1.171688e-02  |      1  |       3.011827e-02\n",
      "2.019080e-01  |      2  |       2.995356e-02\n",
      "4.458967e-01  |      3  |       3.011827e-02\n",
      "4.835248e-01  |      4  |       3.011827e-02\n",
      "2.369908e-01  |      5  |       3.001493e-02\n"
     ]
    },
    {
     "name": "stderr",
     "output_type": "stream",
     "text": [
      "D:\\mbalesde\\Logiciels\\Externes\\Anaconda3\\lib\\site-packages\\ipykernel_launcher.py:44: RuntimeWarning: invalid value encountered in sqrt\n"
     ]
    },
    {
     "name": "stdout",
     "output_type": "stream",
     "text": [
      "1.082952e+00  |      6  |       3.001493e-02\n",
      "2.488617e+00  |      7  |       3.001493e-02\n"
     ]
    }
   ],
   "source": [
    "#computation of probability with AK-IS\n",
    "my_AK_non_lin_osc.compute_proba()"
   ]
  },
  {
   "cell_type": "code",
   "execution_count": 9,
   "metadata": {},
   "outputs": [
    {
     "name": "stdout",
     "output_type": "stream",
     "text": [
      "Probability of failure: 0.030014925766454405\n",
      "Simulation budget: 47\n"
     ]
    }
   ],
   "source": [
    "print('Probability of failure:',my_AK_non_lin_osc.getFailureProbability())\n",
    "print('Simulation budget:',my_AK_non_lin_osc.getSimBudget())"
   ]
  },
  {
   "cell_type": "markdown",
   "metadata": {},
   "source": [
    "## Extension of experiment 1 to rare event\n",
    "\n",
    "$G(c_1,c_2,m,r,t_1,F_1)  = 3r-\\left|\\frac{2 F_1}{m \\omega_0^2}sin\\left(\\frac{\\omega_0 t_1}{2}\\right)\\right|$\n",
    "\n",
    "with : \n",
    "* $\\omega_0 = \\sqrt{\\left(\\frac{c_1+c_2}{m}\\right)}$\n",
    "* $m \\sim \\mathcal{N}(1,0.005)$\n",
    "* $c_1 \\sim \\mathcal{N}(1,0.0015)$\n",
    "* $c_2 \\sim \\mathcal{N}(0.1,0.01)$\n",
    "* $r \\sim \\mathcal{N}(0.5,0.02)$\n",
    "* $F_1 \\sim \\mathcal{N}(1.,0.1)$\n",
    "* $r \\sim \\mathcal{N}(1.,0.1)$"
   ]
  },
  {
   "cell_type": "code",
   "execution_count": 10,
   "metadata": {},
   "outputs": [],
   "source": [
    "# Definition of python function and input vector distribution\n",
    "non_lin_osc = ot.PythonFunction(6, 1, non_lin_osc)\n",
    "dist_c1=ot.Normal(1, 0.005)\n",
    "dist_c2=ot.Normal(0.1, 0.0015)\n",
    "dist_m=ot.Normal(1.,0.01 )\n",
    "dist_r =ot.Normal(0.5, 0.02)\n",
    "dist_t1 =ot.Normal(1., 0.1)\n",
    "dist_F1=ot.Normal(1., 0.1)\n",
    "std_dev = [dist_c1.getStandardDeviation()[0],dist_c2.getStandardDeviation()[0],dist_m.getStandardDeviation()[0],\n",
    "           dist_r.getStandardDeviation()[0],dist_t1.getStandardDeviation()[0],dist_F1.getStandardDeviation()[0]]\n",
    "dim_inputs=6\n",
    "marginals = [dist_c1,dist_c2,dist_m,dist_r,dist_t1,dist_F1]\n",
    "dist_x = ot.ComposedDistribution(marginals)\n",
    "\n",
    "# Creation of event\n",
    "vect = ot.RandomVector(dist_x)\n",
    "G = ot.CompositeRandomVector(non_lin_osc, vect)\n",
    "event_osc_rare = ot.ThresholdEvent(G, ot.Less(), 0.0)"
   ]
  },
  {
   "cell_type": "markdown",
   "metadata": {},
   "source": [
    "### Estimation of reference probability with Monte Carlo"
   ]
  },
  {
   "cell_type": "code",
   "execution_count": 11,
   "metadata": {},
   "outputs": [
    {
     "name": "stderr",
     "output_type": "stream",
     "text": [
      "D:\\mbalesde\\Logiciels\\Externes\\Anaconda3\\lib\\site-packages\\ipykernel_launcher.py:2: DeprecationWarning: `np.int` is a deprecated alias for the builtin `int`. To silence this warning, use `int` by itself. Doing this will not modify any behavior and is safe. When replacing `np.int`, you may wish to use e.g. `np.int64` or `np.int32` to specify the precision. If you wish to review your current use, check the release note link for additional information.\n",
      "Deprecated in NumPy 1.20; for more details and guidance: https://numpy.org/devdocs/release/1.20.0-notes.html#deprecations\n",
      "  \n"
     ]
    },
    {
     "name": "stdout",
     "output_type": "stream",
     "text": [
      "Reference probability: 3.7000000000000086e-05\n",
      "Coefficient of variation: 0.1643959458959584\n"
     ]
    }
   ],
   "source": [
    "#CMC estimation\n",
    "n_MC = np.int(1e6)\n",
    "# create a Monte Carlo algorithm\n",
    "experiment = ot.MonteCarloExperiment()\n",
    "algo = ot.ProbabilitySimulationAlgorithm(event_osc_rare, experiment)\n",
    "algo.setMaximumOuterSampling(int(n_MC))\n",
    "algo.run()\n",
    "\n",
    "# retrieve results\n",
    "result = algo.getResult()\n",
    "probability = result.getProbabilityEstimate()\n",
    "print('Reference probability:', probability)\n",
    "print('Coefficient of variation:',result.getCoefficientOfVariation())"
   ]
  },
  {
   "cell_type": "markdown",
   "metadata": {},
   "source": [
    "### Definition of AK-IS"
   ]
  },
  {
   "cell_type": "code",
   "execution_count": 12,
   "metadata": {},
   "outputs": [],
   "source": [
    "# Definition of Kriging model\n",
    "dim_osc = 6\n",
    "basis = ot.ConstantBasisFactory(dim_inputs).build()\n",
    "covarianceModel = ot.SquaredExponential([0.1]*dim_osc, [1.0])\n",
    "\n",
    "#covarianceModel = ot.MaternModel(dim_inputs)\n",
    "n_IS_osc = 5000\n",
    "n_DoE_osc = 40\n",
    "sim_budget_osc = 200\n",
    "verbose = True\n",
    "my_AK_non_lin_osc_rare = AK_ISAlgorithm(event_osc_rare,\n",
    "                                    n_IS_osc,\n",
    "                                    n_DoE_osc,\n",
    "                                    sim_budget_osc,                                                                   \n",
    "                                    basis,\n",
    "                                    covarianceModel,\n",
    "                                    ot.Cobyla(),\n",
    "                                    2,\n",
    "                                    verbose)"
   ]
  },
  {
   "cell_type": "markdown",
   "metadata": {},
   "source": [
    "### Estimation of probability with AK-IS"
   ]
  },
  {
   "cell_type": "code",
   "execution_count": 13,
   "metadata": {},
   "outputs": [
    {
     "name": "stdout",
     "output_type": "stream",
     "text": [
      "Estimation of probability with FORM 3.393401583515943e-05\n",
      "current_min_U | Nb_sim  | Probability estimate\n",
      "1.816446e-01  |      1  |       3.156165e-05\n"
     ]
    },
    {
     "name": "stderr",
     "output_type": "stream",
     "text": [
      "D:\\mbalesde\\Logiciels\\Externes\\Anaconda3\\lib\\site-packages\\ipykernel_launcher.py:44: RuntimeWarning: invalid value encountered in sqrt\n"
     ]
    },
    {
     "name": "stdout",
     "output_type": "stream",
     "text": [
      "6.271955e-01  |      2  |       3.163528e-05\n",
      "1.125826e+00  |      3  |       3.163528e-05\n",
      "1.670211e+00  |      4  |       3.163528e-05\n",
      "1.841905e+00  |      5  |       3.163528e-05\n",
      "1.819317e+00  |      6  |       3.163528e-05\n",
      "2.274399e+00  |      7  |       3.163528e-05\n"
     ]
    }
   ],
   "source": [
    "my_AK_non_lin_osc_rare.compute_proba()"
   ]
  },
  {
   "cell_type": "code",
   "execution_count": 14,
   "metadata": {},
   "outputs": [
    {
     "name": "stdout",
     "output_type": "stream",
     "text": [
      "Probability of failure: 3.163528089789451e-05\n",
      "Simulation budget: 47\n"
     ]
    }
   ],
   "source": [
    "print('Probability of failure:',my_AK_non_lin_osc_rare.getFailureProbability())\n",
    "print('Simulation budget:',my_AK_non_lin_osc_rare.getSimBudget())"
   ]
  },
  {
   "cell_type": "markdown",
   "metadata": {},
   "source": [
    "## Experiment 2 : \"four branch function\"\n",
    "\n",
    "$$G(x_1,x_2) = min \\begin{pmatrix}3+0.1(x_1-x_2)^2-\\frac{(x_1+x_2)}{\\sqrt{2}};\\\\3+0.1(x_1-x_2)^2+\\frac{(x_1+x_2)}{\\sqrt{2}};\\\\\n",
    "(x_1-x_2)+ \\frac{k}{\\sqrt{2}};\\\\\n",
    "(x_2-x_1)+ \\frac{k}{\\sqrt{2}}\n",
    "\\end{pmatrix}$$\n",
    "\n",
    "with : \n",
    "* $k$ is equal to 6 or 7\n",
    "* $x_1 \\sim \\mathcal{N}(0,1)$\n",
    "* $x_2 \\sim \\mathcal{N}(0,1)$\n",
    "\n",
    "\n",
    "This case involves 4 failure regions. It is expected that the algorithm finds only one region and consequently under estimate the failure probability"
   ]
  },
  {
   "cell_type": "markdown",
   "metadata": {},
   "source": [
    "### Definition of input variable probability distributions"
   ]
  },
  {
   "cell_type": "code",
   "execution_count": 15,
   "metadata": {},
   "outputs": [],
   "source": [
    "dim_inputs = 2\n",
    "dist_x = ot.Normal([0.0, 0.0], [1.0, 1.0], ot.CorrelationMatrix(dim_inputs))\n",
    "inputVector = ot.RandomVector(dist_x)"
   ]
  },
  {
   "cell_type": "markdown",
   "metadata": {},
   "source": [
    "### Definition of limit state function"
   ]
  },
  {
   "cell_type": "code",
   "execution_count": 16,
   "metadata": {},
   "outputs": [],
   "source": [
    "#Definition of limit state function\n",
    "def four_branch(x):\n",
    "    x1 = x[0]\n",
    "    x2  = x[1]\n",
    "    k = x[2]\n",
    "    \n",
    "    g1 = 3+0.1*(x1-x2)**2-(x1+x2)/np.sqrt(2)\n",
    "    g2 = 3+0.1*(x1-x2)**2+(x1+x2)/np.sqrt(2)\n",
    "    g3 = (x1-x2)+k/np.sqrt(2)\n",
    "    g4 =(x2-x1)+k/np.sqrt(2)\n",
    "    \n",
    "    return [min((g1,g2,g3,g4))]\n",
    "\n",
    "# Definition of python function\n",
    "my_four_branch = ot.PythonFunction(3, 1, four_branch)\n",
    "\n",
    "# Transformation of python function to parametric function\n",
    "index_frozen = [2]\n",
    "my_four_branch_6 = ot.ParametricFunction(my_four_branch, index_frozen, [6])\n",
    "my_four_branch_7 = ot.ParametricFunction(my_four_branch, index_frozen, [7])"
   ]
  },
  {
   "cell_type": "markdown",
   "metadata": {},
   "source": [
    "### Estimation of reference probability"
   ]
  },
  {
   "cell_type": "code",
   "execution_count": 17,
   "metadata": {},
   "outputs": [
    {
     "name": "stdout",
     "output_type": "stream",
     "text": [
      "Pf= 0.0024999999999999988\n"
     ]
    },
    {
     "name": "stderr",
     "output_type": "stream",
     "text": [
      "D:\\mbalesde\\Logiciels\\Externes\\Anaconda3\\lib\\site-packages\\ipykernel_launcher.py:1: DeprecationWarning: `np.int` is a deprecated alias for the builtin `int`. To silence this warning, use `int` by itself. Doing this will not modify any behavior and is safe. When replacing `np.int`, you may wish to use e.g. `np.int64` or `np.int32` to specify the precision. If you wish to review your current use, check the release note link for additional information.\n",
      "Deprecated in NumPy 1.20; for more details and guidance: https://numpy.org/devdocs/release/1.20.0-notes.html#deprecations\n",
      "  \"\"\"Entry point for launching an IPython kernel.\n"
     ]
    }
   ],
   "source": [
    "n_MC = np.int(1e4)\n",
    "\n",
    "# Creation of event\n",
    "ot.RandomGenerator.SetSeed(1)\n",
    "vect = ot.RandomVector(dist_x)\n",
    "G = ot.CompositeRandomVector(my_four_branch_7, vect)\n",
    "event_4b = ot.ThresholdEvent(G, ot.Less(), 0.0)\n",
    "\n",
    "# create a Monte Carlo algorithm\n",
    "experiment = ot.MonteCarloExperiment()\n",
    "algo = ot.ProbabilitySimulationAlgorithm(event_4b, experiment)\n",
    "algo.setMaximumOuterSampling(int(n_MC))\n",
    "algo.run()\n",
    "\n",
    "# retrieve results\n",
    "result = algo.getResult()\n",
    "probability = result.getProbabilityEstimate()\n",
    "print('Pf=', probability)"
   ]
  },
  {
   "cell_type": "markdown",
   "metadata": {},
   "source": [
    "### Definition of AK-IS experiment"
   ]
  },
  {
   "cell_type": "code",
   "execution_count": 18,
   "metadata": {},
   "outputs": [],
   "source": [
    "# Definition of Kriging model\n",
    "dim_4b = 2\n",
    "basis = ot.ConstantBasisFactory(dim_4b).build()\n",
    "\n",
    "FORM_solver = ot.Cobyla()\n",
    "covarianceModel = ot.MaternModel(dim_4b)\n",
    "n_MC_4b = 10000\n",
    "n_DoE_4b = 20\n",
    "verbose = True\n",
    "sim_budget = 100\n",
    "\n",
    "my_AK_four_branch = AK_ISAlgorithm(event_4b,\n",
    "                                    n_MC_4b,\n",
    "                                    n_DoE_4b,\n",
    "                                   sim_budget,\n",
    "                                    basis,\n",
    "                                    covarianceModel,\n",
    "                                    ot.Cobyla(),\n",
    "                                    2,\n",
    "                                    verbose)"
   ]
  },
  {
   "cell_type": "markdown",
   "metadata": {},
   "source": [
    "### Computation of the failure probability with AK-IS"
   ]
  },
  {
   "cell_type": "code",
   "execution_count": 19,
   "metadata": {},
   "outputs": [
    {
     "name": "stdout",
     "output_type": "stream",
     "text": [
      "Estimation of probability with FORM 0.001349942350880145\n",
      "current_min_U | Nb_sim  | Probability estimate\n",
      "8.113475e-03  |      1  |       8.907685e-04\n"
     ]
    },
    {
     "name": "stderr",
     "output_type": "stream",
     "text": [
      "D:\\mbalesde\\Logiciels\\Externes\\Anaconda3\\lib\\site-packages\\ipykernel_launcher.py:44: RuntimeWarning: invalid value encountered in sqrt\n",
      "D:\\mbalesde\\Logiciels\\Externes\\Anaconda3\\lib\\site-packages\\ipykernel_launcher.py:44: RuntimeWarning: divide by zero encountered in true_divide\n"
     ]
    },
    {
     "name": "stdout",
     "output_type": "stream",
     "text": [
      "4.639856e-02  |      2  |       8.907685e-04\n",
      "3.343982e-02  |      3  |       8.933861e-04\n",
      "3.827974e-03  |      4  |       8.930885e-04\n",
      "8.757914e-03  |      5  |       8.914099e-04\n",
      "4.119483e-02  |      6  |       8.914099e-04\n",
      "5.527834e-02  |      7  |       8.907162e-04\n",
      "3.471198e-02  |      8  |       8.891030e-04\n",
      "9.074630e-02  |      9  |       8.891030e-04\n",
      "1.804991e-01  |     10  |       8.891030e-04\n",
      "2.015137e-01  |     11  |       8.891030e-04\n",
      "8.822365e-02  |     12  |       8.894058e-04\n",
      "9.256547e-02  |     13  |       8.894605e-04\n",
      "1.509917e-01  |     14  |       8.894605e-04\n",
      "2.433702e-01  |     15  |       8.893424e-04\n",
      "2.639178e-01  |     16  |       8.893424e-04\n",
      "2.942870e-01  |     17  |       8.893424e-04\n",
      "3.691120e-01  |     18  |       8.893424e-04\n",
      "4.373355e-01  |     19  |       8.893424e-04\n",
      "5.771042e-02  |     20  |       8.893424e-04\n",
      "5.460006e-01  |     21  |       8.893424e-04\n",
      "6.175561e-01  |     22  |       8.893424e-04\n",
      "6.343442e-01  |     23  |       8.893424e-04\n",
      "7.058863e-01  |     24  |       8.893424e-04\n",
      "7.201857e-01  |     25  |       8.893424e-04\n",
      "8.681458e-01  |     26  |       8.893424e-04\n",
      "1.151553e+00  |     27  |       8.893282e-04\n",
      "1.334694e+00  |     28  |       8.893282e-04\n",
      "1.410844e+00  |     29  |       8.893282e-04\n",
      "1.446689e+00  |     30  |       8.893282e-04\n",
      "1.647824e+00  |     31  |       8.893282e-04\n",
      "1.700681e+00  |     32  |       8.893282e-04\n",
      "1.788513e+00  |     33  |       8.893282e-04\n",
      "2.094757e+00  |     34  |       8.893282e-04\n"
     ]
    }
   ],
   "source": [
    "#computation of probability with AK-MCS\n",
    "my_AK_four_branch.compute_proba()"
   ]
  },
  {
   "cell_type": "markdown",
   "metadata": {},
   "source": [
    " ### Post treatments"
   ]
  },
  {
   "cell_type": "code",
   "execution_count": 20,
   "metadata": {},
   "outputs": [
    {
     "name": "stdout",
     "output_type": "stream",
     "text": [
      "Probability of failure: 0.0008893282498174369\n",
      "Simulation budget: 54\n"
     ]
    }
   ],
   "source": [
    "print('Probability of failure:',my_AK_four_branch.getFailureProbability())\n",
    "print('Simulation budget:',my_AK_four_branch.getSimBudget())"
   ]
  },
  {
   "cell_type": "code",
   "execution_count": 21,
   "metadata": {},
   "outputs": [],
   "source": [
    "#Kriging model \n",
    "kr = my_AK_four_branch.getKrigingModel()\n",
    "[DoE_four_branch_x,DoE_four_branch_y]= my_AK_four_branch.getDoE()"
   ]
  },
  {
   "cell_type": "code",
   "execution_count": 22,
   "metadata": {},
   "outputs": [
    {
     "name": "stderr",
     "output_type": "stream",
     "text": [
      "D:\\mbalesde\\Logiciels\\Externes\\Anaconda3\\lib\\site-packages\\ipykernel_launcher.py:29: MatplotlibDeprecationWarning: shading='flat' when X and Y have the same dimensions as C is deprecated since 3.3.  Either specify the corners of the quadrilaterals with X and Y, or pass shading='auto', 'nearest' or 'gouraud', or set rcParams['pcolor.shading'].  This will become an error two minor releases later.\n",
      "D:\\mbalesde\\Logiciels\\Externes\\Anaconda3\\lib\\site-packages\\ipykernel_launcher.py:33: MatplotlibDeprecationWarning: shading='flat' when X and Y have the same dimensions as C is deprecated since 3.3.  Either specify the corners of the quadrilaterals with X and Y, or pass shading='auto', 'nearest' or 'gouraud', or set rcParams['pcolor.shading'].  This will become an error two minor releases later.\n",
      "D:\\mbalesde\\Logiciels\\Externes\\Anaconda3\\lib\\site-packages\\ipykernel_launcher.py:39: MatplotlibDeprecationWarning: shading='flat' when X and Y have the same dimensions as C is deprecated since 3.3.  Either specify the corners of the quadrilaterals with X and Y, or pass shading='auto', 'nearest' or 'gouraud', or set rcParams['pcolor.shading'].  This will become an error two minor releases later.\n"
     ]
    },
    {
     "data": {
      "image/png": "[encoded data removed]",
      "text/plain": [
       "<Figure size 1944x648 with 6 Axes>"
      ]
     },
     "metadata": {
      "needs_background": "light"
     },
     "output_type": "display_data"
    }
   ],
   "source": [
    "#Plot of surrogate model\n",
    "import matplotlib.pyplot as plt\n",
    "\n",
    "grid_size = 100\n",
    "x1 = np.linspace(-4,4,grid_size)\n",
    "x2 = np.linspace(-4,4,grid_size)\n",
    "\n",
    "xx1,xx2 = np.meshgrid(x1,x2)\n",
    "\n",
    "xx1_ = xx1.reshape((grid_size**2,1))\n",
    "xx2_ = xx2.reshape((grid_size**2,1))\n",
    "\n",
    "x = np.concatenate((xx1_,xx2_),1)\n",
    "                  \n",
    "                  \n",
    "y_true = np.array(my_four_branch_7(x))\n",
    "y_mean_krig =np.array(kr.getConditionalMean(x))     \n",
    "                   \n",
    "y_sigma_krig = np.array(np.sqrt(kr.getConditionalMarginalVariance(x)))\n",
    "\n",
    "y_true = y_true.reshape((grid_size,grid_size))\n",
    "y_mean_krig = y_mean_krig.reshape((grid_size,grid_size))\n",
    "y_sigma_krig= y_sigma_krig.reshape((grid_size,grid_size))\n",
    "\n",
    "cmap = mpl.cm.hsv\n",
    "norm = mpl.colors.Normalize(vmin=-10, vmax=10)\n",
    "%matplotlib inline \n",
    "fig, (ax0, ax1,ax2) = plt.subplots(ncols=3,figsize=(27,9))\n",
    "im1 = ax0.pcolormesh(xx1,xx2,y_true,norm = norm,cmap = cmap)\n",
    "fig.colorbar(im1, ax=ax0)\n",
    "ax0.title.set_text('True function')\n",
    "\n",
    "im2 = ax1.pcolormesh(xx1,xx2,y_mean_krig,norm = norm,cmap = cmap)\n",
    "ax1.scatter(DoE_four_branch_x[0:my_AK_four_branch.n_DoE,0],DoE_four_branch_x[0:my_AK_four_branch.n_DoE,1],color = 'r')\n",
    "ax1.scatter(DoE_four_branch_x[my_AK_four_branch.n_DoE:,0],DoE_four_branch_x[my_AK_four_branch.n_DoE:,1])\n",
    "fig.colorbar(im2, ax=ax1)\n",
    "ax1.title.set_text('Kriging response and added samples')\n",
    "\n",
    "im3 = ax2.pcolormesh(xx1,xx2,y_sigma_krig,norm = norm,cmap = cmap)\n",
    "fig.colorbar(im3, ax=ax2)\n",
    "ax2.title.set_text('Kriging error')"
   ]
  },
  {
   "cell_type": "code",
   "execution_count": null,
   "metadata": {},
   "outputs": [],
   "source": []
  },
  {
   "cell_type": "code",
   "execution_count": null,
   "metadata": {},
   "outputs": [],
   "source": []
  }
 ],
 "metadata": {
  "kernelspec": {
   "display_name": "Python 3",
   "language": "python",
   "name": "python3"
  },
  "language_info": {
   "codemirror_mode": {
    "name": "ipython",
    "version": 3
   },
   "file_extension": ".py",
   "mimetype": "text/x-python",
   "name": "python",
   "nbconvert_exporter": "python",
   "pygments_lexer": "ipython3",
   "version": "3.7.9"
  }
 },
 "nbformat": 4,
 "nbformat_minor": 4
}
