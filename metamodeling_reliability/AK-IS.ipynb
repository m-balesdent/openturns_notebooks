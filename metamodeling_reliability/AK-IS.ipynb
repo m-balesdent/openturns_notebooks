{
 "cells": [
  {
   "cell_type": "code",
   "execution_count": 51,
   "metadata": {},
   "outputs": [],
   "source": [
    "import openturns as ot\n",
    "import numpy as np\n",
    "import matplotlib as mpl"
   ]
  },
  {
   "cell_type": "markdown",
   "metadata": {},
   "source": [
    "# Implementation of AK-IS\n",
    "\n",
    "## Sources :  \n",
    "* Echard, B.,Assessment by kriging of the reliability of structures subjected to fatigue stress, PhD Thesis, Université Blaise Pascal, 2012\n",
    "\n",
    "\n",
    "This notebook implements the AK- IS method which couples Gaussian Process based surrogate model and Importance Sampling by FORM.\n",
    "\n",
    "\n",
    "In case of rare event probability estimation, the surrogate model has to be accurate in the zones that are relevant to the failure probability estimation i.e. in the vicinity of failure threshold $T$ and in the high probability content regions. The use of the exact function $\\phi$ and its surrogate $\\hat{\\phi}$ in the probability calculation will lead to the same result if $\\forall \\mathbf{x} \\in \\mathbb{R}^d, \\mathbf{1}_{\\phi(\\mathbf{x})>T} = \\mathbf{1}_{\\hat{\\phi}(\\mathbf{x},\\mathcal{X})>T}$. In other words, the surrogate model might not be representative of the exact function outside the zones of interest as it does not take part of the probability estimation. From the initial training set $\\mathcal{X}$, the Gaussian process properties (i.e. estimation of the predicted error variance) are  valuable to determine the additional samples which have to be evaluated on $\\phi(\\cdot)$ to refine its surrogate model. Different refinement strategies have been developed in the literature. Here, the method described in [Echard 2012] is implemented  (\"U criterion\").\n",
    "\n",
    "\n",
    "This method determines a new sample point $\\mathbf{x}$ to add to the training set $\\mathcal{X}$ by solving the following optimisation problem:\n",
    "\\begin{equation}\n",
    "\\underset{\\mathbf{x}}{\\max}  \\left[1 - \\Phi_{0,1}\\left( \\frac{|T-\\hat{\\phi}(\\mathbf{x},\\mathcal{X})|}{\\hat{\\sigma}(\\mathbf{x},\\mathcal{X})}\\right)\\right], \\label{eq:echard}\n",
    "\\end{equation}\n",
    "where $\\Phi_{0,1}(\\cdot)$ is the cdf of the standard Gaussian distribution, $\\hat{\\phi}$ the mean prediction of the Kriging and $\\hat{\\sigma}$ the estimated standard deviation of the prediction error. The used criterion generates a sample for which the Kriging prediction is closed to the threshold  (numerator) and which presents a high prediction error (denominator). Due to the monotonicity of the involved cdf, the optimisation problem is equivalent to:\n",
    "\\begin{equation}\n",
    "\\underset{\\mathbf{x}}{\\min}\\;  \\frac{|T-\\hat{\\phi}(\\mathbf{x},\\mathcal{X})|}{\\hat{\\sigma}(\\mathbf{x},\\mathcal{X})}. \\label{eq:echard2}\n",
    "\\end{equation}\n",
    "This criterion has been coupled with Importance Sampling. In practice, the optimisation problem is not solved, and given a sample set $\\{\\mathbf{X}_1,\\dots, \\mathbf{X}_N\\}$ provided by IS the new sample which will be added to the training set is determined by\n",
    "\\begin{equation*}\n",
    "\\mathbf{X} = \\underset{\\mathbf{X}_1,\\dots,\\mathbf{X}_N}{\\text{argmin}}  \\left\\{\\frac{|T-\\hat{\\phi}(\\mathbf{X}_1,\\mathcal{X})|}{\\hat{\\sigma}(\\mathbf{X}_1,\\mathcal{X})},\\dots, \\frac{|T-\\hat{\\phi}(\\mathbf{X}_N,\\mathcal{X})|}{\\hat{\\sigma}(\\mathbf{X}_N,\\mathcal{X})}     \\right\\}.\n",
    "\\end{equation*}\n",
    "\n",
    "\n",
    "\n",
    "In this notebook, this criterion is implemented with Importance Sampling.\n",
    "\n",
    "First a FORM analysis is performed to get the design point. Then an auxiliary density is placed at this design point. Finally, adaptive refinement of Kriging model is performed from the samples generated with the auxiliary density."
   ]
  },
  {
   "cell_type": "markdown",
   "metadata": {},
   "source": [
    "## Definition of algorithm AK-IS  class (implemented here with \"U\" criterion, and FORM to find the MPP, see sources)"
   ]
  },
  {
   "cell_type": "code",
   "execution_count": 52,
   "metadata": {},
   "outputs": [],
   "source": [
    "### Definition of parameters\n",
    "# event : ThresholdEvent based on composite vector of input variables on limit state function \n",
    "# n_IS : number of IS samples at the MPP found by FORM\n",
    "# n_DoE : number of samples in initial Kriging DoE\n",
    "# sim_budget : total simulation budget available\n",
    "# basis : basis of kriging model\n",
    "# cov_model : covariance model of kriging\n",
    "# FORM_solver : FORM solver \n",
    "# u_criterion : threshold value for \"u criterion\"\n",
    "# verbose : verbosity parameter \n",
    "\n",
    "class AK_ISAlgorithm(object):\n",
    "    \n",
    "    def __init__(self,event,n_IS,n_DoE,sim_budget,basis,cov_model,FORM_solver,u_criterion=2,verbose = False):\n",
    "        self.n_IS = n_IS\n",
    "        self.n_DoE = n_DoE\n",
    "        self.limit_state_function = event.getFunction()\n",
    "        self.S = event.getThreshold()\n",
    "        self.basis = basis\n",
    "        self.cov_model = cov_model\n",
    "        self.dim = event.getAntecedent().getDimension()\n",
    "        self.proba = 0.\n",
    "        self.cv = 0.\n",
    "        self.distrib = event.getAntecedent().getDistribution()\n",
    "        self.tol_var_krig = cov_model.getNuggetFactor()\n",
    "        self.nb_eval = 0\n",
    "        self.U_criterion = u_criterion\n",
    "        self.DoE = None\n",
    "        self.kriging_model = None\n",
    "        self.verbose = verbose\n",
    "        self.samples = None\n",
    "        self.FORM_solver = FORM_solver\n",
    "        self.inv_isoprobtrans = self.distrib.getInverseIsoProbabilisticTransformation()\n",
    "        self.max_sim = sim_budget\n",
    "        self.FORM_result = None\n",
    "        self.operator =  event.getOperator()\n",
    "        \n",
    "    #Function determining the U criterion of AK -IS\n",
    "    def compute_U(self,my_krig,list_id_evaluated):\n",
    "        \n",
    "        y_pred = my_krig.getConditionalMean(self.samples)\n",
    "        y_var_pred = my_krig.getConditionalMarginalVariance(self.samples)\n",
    "        \n",
    "        U = np.abs(ot.Point([self.S]*int(self.n_IS))-y_pred)/np.sqrt(y_var_pred)\n",
    "            \n",
    "        if len(list_id_evaluated)>0:\n",
    "            U[list_id_evaluated] = 5e5\n",
    "        return U\n",
    "    \n",
    "    # FORM COMPUTATION\n",
    "    def compute_FORM(self):\n",
    "        vect = ot.RandomVector(self.distrib)\n",
    "        G = ot.CompositeRandomVector(self.limit_state_function, vect)\n",
    "        event = ot.ThresholdEvent(G,self.operator, self.S)\n",
    "        #FORM algorithm to get the MPP\n",
    "        algo = ot.FORM(self.FORM_solver, event, self.distrib.getMean())\n",
    "        algo.run()\n",
    "        result_FORM = algo.getResult()\n",
    "        if self.verbose == True:\n",
    "            print('Estimation of probability with FORM',result_FORM.getEventProbability())\n",
    "        self.FORM_result = result_FORM\n",
    "        \n",
    "    #Function computing the probability of failure\n",
    "    def compute_proba(self):\n",
    "\n",
    "\n",
    "            #Computation of FORM\n",
    "            self.compute_FORM()\n",
    "            # Derivation of auxiliary density and sampling\n",
    "            myImportance = ot.Normal(self.dim)\n",
    "            myImportance.setMean(self.FORM_result.getStandardSpaceDesignPoint())\n",
    "            samples_std_space = myImportance.getSample(self.n_IS)\n",
    "            self.samples = self.inv_isoprobtrans(samples_std_space)\n",
    "            \n",
    "            #Calculation of weights in standard space\n",
    "            norm_law = ot.Normal(np.zeros(self.dim), np.ones(self.dim), ot.IdentityMatrix(self.dim))\n",
    "            weights = [norm_law.computePDF(x)/myImportance.computePDF(x) for x in samples_std_space]\n",
    "\n",
    "            #Generation of DoE\n",
    "            DoE_inputs = self.samples[0:self.n_DoE]\n",
    "            # Calculation of True function of the DoE\n",
    "            DoE_responses =self.limit_state_function(DoE_inputs)\n",
    "            list_id_samples_evaluated = np.linspace(0,self.n_DoE-1,self.n_DoE,dtype = int).tolist()\n",
    "            \n",
    "            #Definition of Kriging algorithm\n",
    "            algokriging = ot.KrigingAlgorithm(DoE_inputs, \n",
    "                                              DoE_responses,\n",
    "                                              self.cov_model,\n",
    "                                              self.basis)\n",
    "            algokriging.run()\n",
    "            my_krig = algokriging.getResult()\n",
    "            updated_cov = my_krig.getCovarianceModel()\n",
    "            U_y_pred = self.compute_U(my_krig,list_id_samples_evaluated)\n",
    "            id_opt_U=np.argmin(U_y_pred)\n",
    "            current_min_U = np.min(U_y_pred)\n",
    "            nb_pt_sim = 0\n",
    "            list_id_samples_evaluated.append(id_opt_U)\n",
    "            \n",
    "            while nb_pt_sim<self.max_sim and current_min_U < self.U_criterion:\n",
    "                    #evaluation of true function\n",
    "                    x_new = self.samples[int(id_opt_U)]\n",
    "                    y_new = self.limit_state_function(x_new)\n",
    "\n",
    "                    DoE_inputs.add(x_new)\n",
    "                    DoE_responses.add(y_new)\n",
    "                    # Definition of Kriging model\n",
    "\n",
    "                    startingPoint =updated_cov.getScale()\n",
    "                    algokriging = ot.KrigingAlgorithm(DoE_inputs, \n",
    "                                                      DoE_responses,\n",
    "                                                      covarianceModel,\n",
    "                                                      basis)\n",
    "                    solver_kriging = ot.NLopt('GN_DIRECT')\n",
    "                    solver_kriging.setStartingPoint(startingPoint)\n",
    "                    algokriging.setOptimizationAlgorithm(solver_kriging)\n",
    "                    algokriging.setOptimizationBounds(ot.Interval([0.01]*self.dim, [100]*self.dim))\n",
    "                    algokriging.run()\n",
    "                    my_krig = algokriging.getResult()\n",
    "                    updated_cov = my_krig.getCovarianceModel()\n",
    "                    # computation of U\n",
    "                    U_y_pred = self.compute_U(my_krig,list_id_samples_evaluated)\n",
    "                    current_min_U=np.min(U_y_pred)\n",
    "                    id_opt_U = np.argmin(U_y_pred)         \n",
    "                    nb_pt_sim = nb_pt_sim+1\n",
    "                    list_id_samples_evaluated.append(id_opt_U)\n",
    "                   \n",
    "                    y = my_krig.getConditionalMean(self.samples)\n",
    "                    I = [self.operator(y[i],self.S) for i in range(self.n_IS)]\n",
    "                    int_I = [int(i) for i in I]\n",
    "                    Pf = 1/self.n_IS*np.sum(np.array(int_I)*weights)\n",
    "                    self.proba = Pf\n",
    "                    self.nb_eval = self.n_DoE+nb_pt_sim\n",
    "                    self.DoE = [DoE_inputs,DoE_responses]\n",
    "                    self.kriging_model = my_krig\n",
    "\n",
    "                    if self.verbose == True:\n",
    "                        if nb_pt_sim == 1:\n",
    "                            print('current_min_U', '| Nb_sim',' | Probability estimate')\n",
    "                            print('{:9e}'.format(current_min_U),' | ','{:5d}'.format(int(nb_pt_sim)),' |      ','{:10e}'.format(Pf))\n",
    "\n",
    "                        else:\n",
    "                            print('{:9e}'.format(current_min_U),' | ','{:5d}'.format(int(nb_pt_sim)),' |      ','{:10e}'.format(Pf))\n",
    "                            \n",
    "            return \n",
    "                   \n",
    "    #Accessor to the number of evaluated samples             \n",
    "    def getSimBudget(self):\n",
    "        return self.nb_eval\n",
    "    \n",
    "    #Accessor to the kriging model \n",
    "    def getKrigingModel(self):\n",
    "        \n",
    "        return self.kriging_model\n",
    "                   \n",
    "    #Accessor to the DoE\n",
    "    def getDoE(self):\n",
    "        return self.DoE\n",
    "    \n",
    "    #Accessor to the failure probability\n",
    "    def getFailureProbability(self):\n",
    "        return self.proba\n",
    "    \n",
    "    #Accessor to the MonteCarlo samples\n",
    "    def getIS_Samples(self):\n",
    "        return self.samples"
   ]
  },
  {
   "cell_type": "markdown",
   "metadata": {},
   "source": [
    "## Numerical experiments\n"
   ]
  },
  {
   "cell_type": "markdown",
   "metadata": {},
   "source": [
    "## Experiment 1 : Probability estimation on cantilever beam example\n",
    "\n",
    "http://openturns.github.io/openturns/latest/examples/reliability_sensitivity/estimate_probability_importance_sampling.html\n",
    "\n",
    "\n",
    "Analytical example of a cantilever beam, with Young’s modulus E, length L and section modulus I.\n",
    "\n",
    "One end of the cantilever beam is built in a wall and we apply a concentrated bending load F at the other end of the beam, resulting in a deviation:\n",
    "\n",
    "$$d = \\frac{FL^3}{3EI}$$\n",
    "\n",
    "Failure occurs when the beam deviation is too large:\n",
    "\n",
    "$$d \\ge 30 (cm)$$\n",
    "\n",
    "Four independent random variables are considered:\n",
    "* E: Young’s modulus [Pa]\n",
    "* F: load [N]\n",
    "* L: length [m]\n",
    "* I: section [m^4]\n",
    "\n",
    "Stochastic model (simplified model, no units):\n",
    "\n",
    "    E ~ Beta(0.93, 2.27, 2.8e7, 4.8e7)\n",
    "\n",
    "    F ~ LogNormal(30000, 9000, 15000)\n",
    "\n",
    "    L ~ Uniform(250, 260)\n",
    "\n",
    "    I ~ Beta(2.5, 1.5, 3.1e2, 4.5e2)\n"
   ]
  },
  {
   "cell_type": "markdown",
   "metadata": {},
   "source": [
    "### Definition of input vector distribution"
   ]
  },
  {
   "cell_type": "code",
   "execution_count": 53,
   "metadata": {},
   "outputs": [],
   "source": [
    "# Create the marginal distributions of the parameters\n",
    "dist_E = ot.Beta(0.93, 2.27, 2.8e7, 4.8e7)\n",
    "dist_F = ot.LogNormalMuSigma(30000, 9000, 15000).getDistribution()\n",
    "dist_L = ot.Uniform(250, 260)\n",
    "dist_I = ot.Beta(2.5, 1.5, 3.1e2, 4.5e2)\n",
    "marginals = [dist_E, dist_F, dist_L, dist_I]\n",
    "\n",
    "# Create the Copula\n",
    "RS = ot.CorrelationMatrix(4)\n",
    "RS[2, 3] = -0.2\n",
    "# Evaluate the correlation matrix of the Normal copula from RS\n",
    "R = ot.NormalCopula.GetCorrelationFromSpearmanCorrelation(RS)\n",
    "# Create the Normal copula parametrized by R\n",
    "copula = ot.NormalCopula(R)\n",
    "# Create the joint probability distribution\n",
    "dist_x = ot.ComposedDistribution(marginals, copula)"
   ]
  },
  {
   "cell_type": "markdown",
   "metadata": {},
   "source": [
    "### Definition of model"
   ]
  },
  {
   "cell_type": "code",
   "execution_count": 54,
   "metadata": {},
   "outputs": [],
   "source": [
    "# create the model\n",
    "beam = ot.SymbolicFunction(['E', 'F', 'L', 'I'], ['F*L^3/(3*E*I)'])\n",
    "\n",
    "vect = ot.RandomVector(dist_x)\n",
    "G = ot.CompositeRandomVector(beam, vect)\n",
    "event_beam = ot.ThresholdEvent(G, ot.Greater(),30)"
   ]
  },
  {
   "cell_type": "markdown",
   "metadata": {},
   "source": [
    "### Probability reference assessment with Monte Carlo simulations"
   ]
  },
  {
   "cell_type": "code",
   "execution_count": 55,
   "metadata": {},
   "outputs": [
    {
     "name": "stdout",
     "output_type": "stream",
     "text": [
      "Reference probability : 0.005997046680529187\n"
     ]
    }
   ],
   "source": [
    "#MonteCarlo experiment\n",
    "n_MC = 1e6\n",
    "# create a Monte Carlo algorithm\n",
    "experiment = ot.MonteCarloExperiment()\n",
    "algo = ot.ProbabilitySimulationAlgorithm(event_beam, experiment)\n",
    "algo.setMaximumOuterSampling(int(n_MC))\n",
    "algo.setMaximumCoefficientOfVariation(0.05)\n",
    "algo.run()\n",
    "# retrieve results\n",
    "result = algo.getResult()\n",
    "probability = result.getProbabilityEstimate()\n",
    "print('Reference probability :', probability)"
   ]
  },
  {
   "cell_type": "markdown",
   "metadata": {},
   "source": [
    "### Definition of AK-IS"
   ]
  },
  {
   "cell_type": "code",
   "execution_count": 56,
   "metadata": {},
   "outputs": [],
   "source": [
    "# Definition of Kriging model\n",
    "dim_b = 4\n",
    "basis = ot.ConstantBasisFactory(dim_b).build()\n",
    "FORM_solver = ot.Cobyla()\n",
    "covarianceModel = ot.MaternModel(dim_b)\n",
    "n_IS_b = 10000\n",
    "n_DoE_b = 40\n",
    "verbose = True\n",
    "sim_budget = 100\n",
    "\n",
    "my_AK_beam = AK_ISAlgorithm(event_beam,\n",
    "                                    n_IS_b,\n",
    "                                    n_DoE_b,\n",
    "                                    sim_budget,\n",
    "                                    basis,\n",
    "                                    covarianceModel,\n",
    "                                    ot.Cobyla(),\n",
    "                                    2,\n",
    "                                    verbose)"
   ]
  },
  {
   "cell_type": "markdown",
   "metadata": {},
   "source": [
    "### Probability estimation with of AK-IS"
   ]
  },
  {
   "cell_type": "code",
   "execution_count": 57,
   "metadata": {},
   "outputs": [
    {
     "name": "stdout",
     "output_type": "stream",
     "text": [
      "Estimation of probability with FORM 0.006709818231978216\n"
     ]
    },
    {
     "name": "stderr",
     "output_type": "stream",
     "text": [
      "D:\\mbalesde\\Logiciels\\Externes\\Anaconda3\\lib\\site-packages\\ipykernel_launcher.py:44: RuntimeWarning: invalid value encountered in sqrt\n",
      "D:\\mbalesde\\Logiciels\\Externes\\Anaconda3\\lib\\site-packages\\ipykernel_launcher.py:44: RuntimeWarning: divide by zero encountered in true_divide\n"
     ]
    },
    {
     "name": "stdout",
     "output_type": "stream",
     "text": [
      "current_min_U | Nb_sim  | Probability estimate\n",
      "1.190233e-02  |      1  |       5.698693e-03\n",
      "1.650407e-02  |      2  |       5.698693e-03\n",
      "2.125054e-02  |      3  |       5.698693e-03\n",
      "5.562383e-03  |      4  |       5.707583e-03\n",
      "7.872982e-03  |      5  |       5.703340e-03\n",
      "1.023799e-02  |      6  |       5.702910e-03\n",
      "1.259458e-02  |      7  |       5.712623e-03\n",
      "1.421203e-02  |      8  |       5.703299e-03\n",
      "7.765183e-04  |      9  |       5.700582e-03\n",
      "6.230650e-03  |     10  |       5.700049e-03\n",
      "8.276467e-03  |     11  |       5.700049e-03\n",
      "3.643844e-02  |     12  |       5.705162e-03\n",
      "9.559469e-04  |     13  |       5.690464e-03\n",
      "2.551886e-03  |     14  |       5.686145e-03\n",
      "2.485663e-02  |     15  |       5.690464e-03\n",
      "1.349325e-02  |     16  |       5.690464e-03\n",
      "8.891497e-02  |     17  |       5.690464e-03\n",
      "9.309475e-02  |     18  |       5.690464e-03\n",
      "1.630574e-01  |     19  |       5.690464e-03\n",
      "1.758837e-01  |     20  |       5.690464e-03\n",
      "1.781279e-01  |     21  |       5.687084e-03\n",
      "2.474906e-01  |     22  |       5.687084e-03\n",
      "2.457948e-01  |     23  |       5.687084e-03\n",
      "2.595703e-01  |     24  |       5.687084e-03\n",
      "3.037338e-01  |     25  |       5.687084e-03\n",
      "3.420090e-01  |     26  |       5.687084e-03\n",
      "3.598458e-01  |     27  |       5.687084e-03\n",
      "3.809407e-01  |     28  |       5.687084e-03\n",
      "4.317896e-01  |     29  |       5.687084e-03\n",
      "4.310789e-01  |     30  |       5.687084e-03\n",
      "4.343129e-01  |     31  |       5.687084e-03\n",
      "4.554722e-01  |     32  |       5.687084e-03\n",
      "4.546836e-01  |     33  |       5.687084e-03\n",
      "3.972599e-01  |     34  |       5.687084e-03\n",
      "4.930454e-01  |     35  |       5.687084e-03\n",
      "5.257211e-01  |     36  |       5.687084e-03\n",
      "5.852812e-01  |     37  |       5.687084e-03\n",
      "5.921041e-01  |     38  |       5.687084e-03\n",
      "6.156494e-01  |     39  |       5.687084e-03\n",
      "6.251332e-01  |     40  |       5.687084e-03\n",
      "6.354704e-01  |     41  |       5.687084e-03\n",
      "6.750148e-01  |     42  |       5.687084e-03\n",
      "7.061415e-01  |     43  |       5.687084e-03\n",
      "7.870100e-01  |     44  |       5.687084e-03\n",
      "8.463630e-01  |     45  |       5.687084e-03\n",
      "8.737395e-01  |     46  |       5.687084e-03\n",
      "8.869952e-01  |     47  |       5.687084e-03\n",
      "9.873240e-01  |     48  |       5.687084e-03\n",
      "1.038415e+00  |     49  |       5.687084e-03\n",
      "1.049270e+00  |     50  |       5.687084e-03\n",
      "1.033000e+00  |     51  |       5.687084e-03\n",
      "1.154760e+00  |     52  |       5.687084e-03\n",
      "1.221301e+00  |     53  |       5.687084e-03\n",
      "1.267256e+00  |     54  |       5.687084e-03\n",
      "1.285524e+00  |     55  |       5.687084e-03\n",
      "1.377853e+00  |     56  |       5.687084e-03\n",
      "1.385435e+00  |     57  |       5.687084e-03\n",
      "1.399693e+00  |     58  |       5.687084e-03\n",
      "1.455942e+00  |     59  |       5.687084e-03\n",
      "1.520736e+00  |     60  |       5.687084e-03\n",
      "1.536487e+00  |     61  |       5.687084e-03\n",
      "1.556598e+00  |     62  |       5.687084e-03\n",
      "1.618793e+00  |     63  |       5.687084e-03\n",
      "1.473811e+00  |     64  |       5.687084e-03\n",
      "1.679972e+00  |     65  |       5.687084e-03\n",
      "1.746105e+00  |     66  |       5.687084e-03\n",
      "1.760666e+00  |     67  |       5.687084e-03\n",
      "1.792733e+00  |     68  |       5.687084e-03\n",
      "1.811038e+00  |     69  |       5.687084e-03\n",
      "1.835134e+00  |     70  |       5.687084e-03\n",
      "2.044825e+00  |     71  |       5.687084e-03\n"
     ]
    }
   ],
   "source": [
    "#computation of probability with AK-IS\n",
    "my_AK_beam.compute_proba()"
   ]
  },
  {
   "cell_type": "code",
   "execution_count": 11,
   "metadata": {},
   "outputs": [
    {
     "name": "stdout",
     "output_type": "stream",
     "text": [
      "Probability of failure: 0.005647153697672213\n",
      "Simulation budget: 114\n"
     ]
    }
   ],
   "source": [
    "print('Probability of failure:',my_AK_beam.getFailureProbability())\n",
    "print('Simulation budget:',my_AK_beam.getSimBudget())"
   ]
  },
  {
   "cell_type": "markdown",
   "metadata": {},
   "source": [
    "## Experiment 2 : \"Non linear oscillator\"\n",
    "\n",
    "$G(c_1,c_2,m,r,t_1,F_1)  = 3r-\\left|\\frac{2 F_1}{m \\omega_0^2}sin\\left(\\frac{\\omega_0 t_1}{2}\\right)\\right|$\n",
    "\n",
    "with : \n",
    "* $\\omega_0 = \\sqrt{\\left(\\frac{c_1+c_2}{m}\\right)}$\n",
    "* $m \\sim \\mathcal{N}(1,0.05)$\n",
    "* $c_1 \\sim \\mathcal{N}(1,0.1)$\n",
    "* $c_2 \\sim \\mathcal{N}(0.1,0.01)$\n",
    "* $r \\sim \\mathcal{N}(0.5,0.05)$\n",
    "* $F_1 \\sim \\mathcal{N}(1.,0.2)$\n",
    "* $r \\sim \\mathcal{N}(1.,0.2)$"
   ]
  },
  {
   "cell_type": "markdown",
   "metadata": {},
   "source": [
    "### Definition of input vector distribution"
   ]
  },
  {
   "cell_type": "code",
   "execution_count": 12,
   "metadata": {},
   "outputs": [],
   "source": [
    "dist_c1=ot.Normal(1, 0.1)\n",
    "dist_c2=ot.Normal(0.1, 0.01)\n",
    "dist_m=ot.Normal(1.,0.05 )\n",
    "dist_r =ot.Normal(0.5, 0.05)\n",
    "dist_t1 =ot.Normal(1., 0.2)\n",
    "dist_F1=ot.Normal(1., 0.2)\n",
    "std_dev = [dist_c1.getStandardDeviation()[0],dist_c2.getStandardDeviation()[0],dist_m.getStandardDeviation()[0],\n",
    "           dist_r.getStandardDeviation()[0],dist_t1.getStandardDeviation()[0],dist_F1.getStandardDeviation()[0]]\n",
    "dim_inputs=6\n",
    "marginals = [dist_c1,dist_c2,dist_m,dist_r,dist_t1,dist_F1]\n",
    "dist_x = ot.ComposedDistribution(marginals)"
   ]
  },
  {
   "cell_type": "markdown",
   "metadata": {},
   "source": [
    "### Definition of model"
   ]
  },
  {
   "cell_type": "code",
   "execution_count": 14,
   "metadata": {},
   "outputs": [],
   "source": [
    "#Definition of classical function\n",
    "def non_lin_osc(x):\n",
    "    c1 = x[0]\n",
    "    c2  = x[1]\n",
    "    m = x[2]\n",
    "    r = x[3]\n",
    "    t1 = x[4]\n",
    "    F1= x[5]\n",
    "    \n",
    "    omega = np.sqrt((c1+c2)/m)\n",
    "    \n",
    "    G = 3*r - np.abs(2*F1/(m*omega**2)*np.sin(omega*t1/2))\n",
    "    return [G]\n",
    "\n",
    "# Definition of pythonfunction\n",
    "non_lin_osc = ot.PythonFunction(6, 1, non_lin_osc)\n",
    "\n",
    "# Creation of event\n",
    "vect = ot.RandomVector(dist_x)\n",
    "G = ot.CompositeRandomVector(non_lin_osc, vect)\n",
    "event_osc = ot.ThresholdEvent(G, ot.Less(), 0.0)"
   ]
  },
  {
   "cell_type": "markdown",
   "metadata": {},
   "source": [
    "### Verification of true probability"
   ]
  },
  {
   "cell_type": "code",
   "execution_count": 15,
   "metadata": {},
   "outputs": [
    {
     "name": "stdout",
     "output_type": "stream",
     "text": [
      "Reference probability: 0.02844761960531729\n"
     ]
    }
   ],
   "source": [
    "n_MC = np.int(1e6)\n",
    "\n",
    "# create a Monte Carlo algorithm\n",
    "experiment = ot.MonteCarloExperiment()\n",
    "algo = ot.ProbabilitySimulationAlgorithm(event_osc, experiment)\n",
    "algo.setMaximumOuterSampling(int(n_MC))\n",
    "algo.setMaximumCoefficientOfVariation(0.01)\n",
    "algo.run()\n",
    "# retrieve results\n",
    "result = algo.getResult()\n",
    "probability = result.getProbabilityEstimate()\n",
    "print('Reference probability:', probability)"
   ]
  },
  {
   "cell_type": "markdown",
   "metadata": {},
   "source": [
    "### Definition of AK IS"
   ]
  },
  {
   "cell_type": "code",
   "execution_count": 16,
   "metadata": {},
   "outputs": [],
   "source": [
    "# Definition of Kriging model\n",
    "dim_osc = 6\n",
    "basis = ot.ConstantBasisFactory(dim_inputs).build()\n",
    "covarianceModel = ot.SquaredExponential([0.1]*dim_osc, [1.0])\n",
    "\n",
    "#covarianceModel = ot.MaternModel(dim_inputs)\n",
    "n_IS_osc = 5000\n",
    "n_DoE_osc = 40\n",
    "sim_budget_osc = 200\n",
    "verbose = True\n",
    "my_AK_non_lin_osc = AK_ISAlgorithm(event_osc,\n",
    "                                    n_IS_osc,\n",
    "                                    n_DoE_osc,\n",
    "                                    sim_budget_osc,                                                                   \n",
    "                                    basis,\n",
    "                                    covarianceModel,\n",
    "                                    ot.Cobyla(),\n",
    "                                    2,\n",
    "                                    verbose)\n"
   ]
  },
  {
   "cell_type": "markdown",
   "metadata": {},
   "source": [
    "### Computation of failure probability with AK-IS"
   ]
  },
  {
   "cell_type": "code",
   "execution_count": 17,
   "metadata": {},
   "outputs": [
    {
     "name": "stdout",
     "output_type": "stream",
     "text": [
      "Estimation of probability with FORM 0.031085112863122637\n",
      "current_min_U | Nb_sim  | Probability estimate\n",
      "4.735083e-03  |      1  |       2.843765e-02\n",
      "9.837080e-02  |      2  |       2.837348e-02\n"
     ]
    },
    {
     "name": "stderr",
     "output_type": "stream",
     "text": [
      "D:\\mbalesde\\Logiciels\\Externes\\Anaconda3\\lib\\site-packages\\ipykernel_launcher.py:43: RuntimeWarning: invalid value encountered in sqrt\n"
     ]
    },
    {
     "name": "stdout",
     "output_type": "stream",
     "text": [
      "2.061848e-01  |      3  |       2.837872e-02\n",
      "6.713523e-02  |      4  |       2.838346e-02\n",
      "5.797304e-03  |      5  |       2.840339e-02\n",
      "9.894131e-01  |      6  |       2.843765e-02\n",
      "4.788682e-01  |      7  |       2.843765e-02\n",
      "8.132262e-01  |      8  |       2.843765e-02\n",
      "8.773388e-01  |      9  |       2.840283e-02\n",
      "1.077985e+00  |     10  |       2.840283e-02\n",
      "1.153492e+00  |     11  |       2.840283e-02\n",
      "1.341604e+00  |     12  |       2.837693e-02\n",
      "1.435645e+00  |     13  |       2.837693e-02\n",
      "2.138605e+00  |     14  |       2.837693e-02\n"
     ]
    }
   ],
   "source": [
    "#computation of probability with AK-IS\n",
    "my_AK_non_lin_osc.compute_proba()"
   ]
  },
  {
   "cell_type": "code",
   "execution_count": 22,
   "metadata": {},
   "outputs": [
    {
     "name": "stdout",
     "output_type": "stream",
     "text": [
      "Probability of failure: 0.028376934087426687\n",
      "Simulation budget: 54\n"
     ]
    }
   ],
   "source": [
    "print('Probability of failure:',my_AK_non_lin_osc.getFailureProbability())\n",
    "print('Simulation budget:',my_AK_non_lin_osc.getSimBudget())"
   ]
  },
  {
   "cell_type": "markdown",
   "metadata": {},
   "source": [
    "## Extension of experiment 2 to rare event\n",
    "\n",
    "$G(c_1,c_2,m,r,t_1,F_1)  = 3r-\\left|\\frac{2 F_1}{m \\omega_0^2}sin\\left(\\frac{\\omega_0 t_1}{2}\\right)\\right|$\n",
    "\n",
    "with : \n",
    "* $\\omega_0 = \\sqrt{\\left(\\frac{c_1+c_2}{m}\\right)}$\n",
    "* $m \\sim \\mathcal{N}(1,0.005)$\n",
    "* $c_1 \\sim \\mathcal{N}(1,0.0015)$\n",
    "* $c_2 \\sim \\mathcal{N}(0.1,0.01)$\n",
    "* $r \\sim \\mathcal{N}(0.5,0.02)$\n",
    "* $F_1 \\sim \\mathcal{N}(1.,0.1)$\n",
    "* $r \\sim \\mathcal{N}(1.,0.1)$"
   ]
  },
  {
   "cell_type": "code",
   "execution_count": 23,
   "metadata": {},
   "outputs": [],
   "source": [
    "# Definition of python function and input vector distribution\n",
    "non_lin_osc = ot.PythonFunction(6, 1, non_lin_osc)\n",
    "dist_c1=ot.Normal(1, 0.005)\n",
    "dist_c2=ot.Normal(0.1, 0.0015)\n",
    "dist_m=ot.Normal(1.,0.01 )\n",
    "dist_r =ot.Normal(0.5, 0.02)\n",
    "dist_t1 =ot.Normal(1., 0.1)\n",
    "dist_F1=ot.Normal(1., 0.1)\n",
    "std_dev = [dist_c1.getStandardDeviation()[0],dist_c2.getStandardDeviation()[0],dist_m.getStandardDeviation()[0],\n",
    "           dist_r.getStandardDeviation()[0],dist_t1.getStandardDeviation()[0],dist_F1.getStandardDeviation()[0]]\n",
    "dim_inputs=6\n",
    "marginals = [dist_c1,dist_c2,dist_m,dist_r,dist_t1,dist_F1]\n",
    "dist_x = ot.ComposedDistribution(marginals)\n",
    "\n",
    "# Creation of event\n",
    "vect = ot.RandomVector(dist_x)\n",
    "G = ot.CompositeRandomVector(non_lin_osc, vect)\n",
    "event_osc_rare = ot.ThresholdEvent(G, ot.Less(), 0.0)"
   ]
  },
  {
   "cell_type": "markdown",
   "metadata": {},
   "source": [
    "### Estimation of reference probability with Monte Carlo"
   ]
  },
  {
   "cell_type": "code",
   "execution_count": 24,
   "metadata": {},
   "outputs": [
    {
     "name": "stdout",
     "output_type": "stream",
     "text": [
      "Reference probability: 4.00000000000006e-05\n",
      "Coefficient of variation: 0.158110720699133\n"
     ]
    }
   ],
   "source": [
    "#CMC estimation\n",
    "n_MC = np.int(1e6)\n",
    "# create a Monte Carlo algorithm\n",
    "experiment = ot.MonteCarloExperiment()\n",
    "algo = ot.ProbabilitySimulationAlgorithm(event_osc_rare, experiment)\n",
    "algo.setMaximumOuterSampling(int(n_MC))\n",
    "algo.run()\n",
    "\n",
    "# retrieve results\n",
    "result = algo.getResult()\n",
    "probability = result.getProbabilityEstimate()\n",
    "print('Reference probability:', probability)\n",
    "print('Coefficient of variation:',result.getCoefficientOfVariation())"
   ]
  },
  {
   "cell_type": "markdown",
   "metadata": {},
   "source": [
    "### Definition of AK-IS"
   ]
  },
  {
   "cell_type": "code",
   "execution_count": 28,
   "metadata": {},
   "outputs": [],
   "source": [
    "# Definition of Kriging model\n",
    "dim_osc = 6\n",
    "basis = ot.ConstantBasisFactory(dim_inputs).build()\n",
    "covarianceModel = ot.SquaredExponential([0.1]*dim_osc, [1.0])\n",
    "\n",
    "#covarianceModel = ot.MaternModel(dim_inputs)\n",
    "n_IS_osc = 10000\n",
    "n_DoE_osc = 40\n",
    "sim_budget_osc = 200\n",
    "verbose = True\n",
    "my_AK_non_lin_osc_rare = AK_ISAlgorithm(event_osc_rare,\n",
    "                                    n_IS_osc,\n",
    "                                    n_DoE_osc,\n",
    "                                    sim_budget_osc,                                                                   \n",
    "                                    basis,\n",
    "                                    covarianceModel,\n",
    "                                    ot.Cobyla(),\n",
    "                                    2,\n",
    "                                    verbose)"
   ]
  },
  {
   "cell_type": "markdown",
   "metadata": {},
   "source": [
    "### Estimation of probability with AK-IS"
   ]
  },
  {
   "cell_type": "code",
   "execution_count": 29,
   "metadata": {},
   "outputs": [
    {
     "name": "stdout",
     "output_type": "stream",
     "text": [
      "Estimation of probability with FORM 3.38125440467327e-05\n"
     ]
    },
    {
     "name": "stderr",
     "output_type": "stream",
     "text": [
      "D:\\mbalesde\\Logiciels\\Externes\\Anaconda3\\lib\\site-packages\\ipykernel_launcher.py:43: RuntimeWarning: invalid value encountered in sqrt\n"
     ]
    },
    {
     "name": "stdout",
     "output_type": "stream",
     "text": [
      "current_min_U | Nb_sim  | Probability estimate\n",
      "2.284468e-02  |      1  |       3.208714e-05\n",
      "8.881326e-01  |      2  |       3.202709e-05\n",
      "9.418572e-01  |      3  |       3.202709e-05\n",
      "1.107353e+00  |      4  |       3.202709e-05\n",
      "1.587558e+00  |      5  |       3.202709e-05\n",
      "1.757565e+00  |      6  |       3.202709e-05\n",
      "1.776366e+00  |      7  |       3.202709e-05\n",
      "1.596459e+00  |      8  |       3.202709e-05\n",
      "1.731564e+00  |      9  |       3.202709e-05\n",
      "2.852681e+00  |     10  |       3.202709e-05\n"
     ]
    }
   ],
   "source": [
    "my_AK_non_lin_osc_rare.compute_proba()"
   ]
  },
  {
   "cell_type": "code",
   "execution_count": 30,
   "metadata": {},
   "outputs": [
    {
     "name": "stdout",
     "output_type": "stream",
     "text": [
      "Probability of failure: 3.202709073005167e-05\n",
      "Simulation budget: 50\n"
     ]
    }
   ],
   "source": [
    "print('Probability of failure:',my_AK_non_lin_osc_rare.getFailureProbability())\n",
    "print('Simulation budget:',my_AK_non_lin_osc_rare.getSimBudget())"
   ]
  },
  {
   "cell_type": "markdown",
   "metadata": {},
   "source": [
    "## Experiment 3 : \"four branch function\"\n",
    "\n",
    "$$G(x_1,x_2) = min \\begin{pmatrix}3+0.1(x_1-x_2)^2-\\frac{(x_1+x_2)}{\\sqrt{2}};\\\\3+0.1(x_1-x_2)^2+\\frac{(x_1+x_2)}{\\sqrt{2}};\\\\\n",
    "(x_1-x_2)+ \\frac{k}{\\sqrt{2}};\\\\\n",
    "(x_2-x_1)+ \\frac{k}{\\sqrt{2}}\n",
    "\\end{pmatrix}$$\n",
    "\n",
    "with : \n",
    "* $k$ is equal to 6 or 7\n",
    "* $x_1 \\sim \\mathcal{N}(0,1)$\n",
    "* $x_2 \\sim \\mathcal{N}(0,1)$\n",
    "\n",
    "\n",
    "This case involves 4 failure regions. It is expected that the algorithm finds only one region and consequently under estimate the failure probability"
   ]
  },
  {
   "cell_type": "markdown",
   "metadata": {},
   "source": [
    "### Definition of input variable probability distributions"
   ]
  },
  {
   "cell_type": "code",
   "execution_count": 31,
   "metadata": {},
   "outputs": [],
   "source": [
    "dim_inputs = 2\n",
    "dist_x = ot.Normal([0.0, 0.0], [1.0, 1.0], ot.CorrelationMatrix(dim_inputs))\n",
    "inputVector = ot.RandomVector(dist_x)"
   ]
  },
  {
   "cell_type": "markdown",
   "metadata": {},
   "source": [
    "### Definition of limit state function"
   ]
  },
  {
   "cell_type": "code",
   "execution_count": 32,
   "metadata": {},
   "outputs": [],
   "source": [
    "#Definition of limit state function\n",
    "def four_branch(x):\n",
    "    x1 = x[0]\n",
    "    x2  = x[1]\n",
    "    k = x[2]\n",
    "    \n",
    "    g1 = 3+0.1*(x1-x2)**2-(x1+x2)/np.sqrt(2)\n",
    "    g2 = 3+0.1*(x1-x2)**2+(x1+x2)/np.sqrt(2)\n",
    "    g3 = (x1-x2)+k/np.sqrt(2)\n",
    "    g4 =(x2-x1)+k/np.sqrt(2)\n",
    "    \n",
    "    return [min((g1,g2,g3,g4))]\n",
    "\n",
    "# Definition of python function\n",
    "my_four_branch = ot.PythonFunction(3, 1, four_branch)\n",
    "\n",
    "# Transformation of python function to parametric function\n",
    "index_frozen = [2]\n",
    "my_four_branch_6 = ot.ParametricFunction(my_four_branch, index_frozen, [6])\n",
    "my_four_branch_7 = ot.ParametricFunction(my_four_branch, index_frozen, [7])"
   ]
  },
  {
   "cell_type": "markdown",
   "metadata": {},
   "source": [
    "### Estimation of reference probability"
   ]
  },
  {
   "cell_type": "code",
   "execution_count": 34,
   "metadata": {},
   "outputs": [
    {
     "name": "stdout",
     "output_type": "stream",
     "text": [
      "Pf= 0.0024999999999999988\n"
     ]
    }
   ],
   "source": [
    "n_MC = np.int(1e4)\n",
    "\n",
    "# Creation of event\n",
    "ot.RandomGenerator.SetSeed(1)\n",
    "vect = ot.RandomVector(dist_x)\n",
    "G = ot.CompositeRandomVector(my_four_branch_7, vect)\n",
    "event_4b = ot.ThresholdEvent(G, ot.Less(), 0.0)\n",
    "\n",
    "# create a Monte Carlo algorithm\n",
    "experiment = ot.MonteCarloExperiment()\n",
    "algo = ot.ProbabilitySimulationAlgorithm(event_4b, experiment)\n",
    "algo.setMaximumOuterSampling(int(n_MC))\n",
    "algo.run()\n",
    "\n",
    "# retrieve results\n",
    "result = algo.getResult()\n",
    "probability = result.getProbabilityEstimate()\n",
    "print('Pf=', probability)"
   ]
  },
  {
   "cell_type": "markdown",
   "metadata": {},
   "source": [
    "### Definition of AK-IS experiment"
   ]
  },
  {
   "cell_type": "code",
   "execution_count": 35,
   "metadata": {},
   "outputs": [],
   "source": [
    "# Definition of Kriging model\n",
    "dim_4b = 2\n",
    "basis = ot.ConstantBasisFactory(dim_4b).build()\n",
    "\n",
    "FORM_solver = ot.Cobyla()\n",
    "covarianceModel = ot.MaternModel(dim_4b)\n",
    "n_MC_4b = 10000\n",
    "n_DoE_4b = 20\n",
    "verbose = True\n",
    "sim_budget = 100\n",
    "\n",
    "my_AK_four_branch = AK_ISAlgorithm(event_4b,\n",
    "                                    n_MC_4b,\n",
    "                                    n_DoE_4b,\n",
    "                                   sim_budget,\n",
    "                                    basis,\n",
    "                                    covarianceModel,\n",
    "                                    ot.Cobyla(),\n",
    "                                    2,\n",
    "                                    verbose)"
   ]
  },
  {
   "cell_type": "markdown",
   "metadata": {},
   "source": [
    "### Computation of the failure probability with AK-IS"
   ]
  },
  {
   "cell_type": "code",
   "execution_count": 36,
   "metadata": {},
   "outputs": [
    {
     "name": "stdout",
     "output_type": "stream",
     "text": [
      "Estimation of probability with FORM 0.001349942350880145\n",
      "current_min_U | Nb_sim  | Probability estimate\n",
      "6.935734e-03  |      1  |       8.907685e-04\n",
      "4.569901e-02"
     ]
    },
    {
     "name": "stderr",
     "output_type": "stream",
     "text": [
      "D:\\mbalesde\\Logiciels\\Externes\\Anaconda3\\lib\\site-packages\\ipykernel_launcher.py:43: RuntimeWarning: invalid value encountered in sqrt\n",
      "D:\\mbalesde\\Logiciels\\Externes\\Anaconda3\\lib\\site-packages\\ipykernel_launcher.py:43: RuntimeWarning: divide by zero encountered in true_divide\n"
     ]
    },
    {
     "name": "stdout",
     "output_type": "stream",
     "text": [
      "  |      2  |       8.907685e-04\n",
      "3.334595e-02  |      3  |       8.933861e-04\n",
      "3.662870e-03  |      4  |       8.930885e-04\n",
      "1.222184e-02  |      5  |       8.914099e-04\n",
      "4.056734e-02  |      6  |       8.914099e-04\n",
      "5.585886e-02  |      7  |       8.907162e-04\n",
      "3.480543e-02  |      8  |       8.891030e-04\n",
      "9.223628e-02  |      9  |       8.891030e-04\n",
      "1.815725e-01  |     10  |       8.891030e-04\n",
      "2.036557e-01  |     11  |       8.891030e-04\n",
      "9.139030e-02  |     12  |       8.894058e-04\n",
      "8.732198e-02  |     13  |       8.894605e-04\n",
      "1.510924e-01  |     14  |       8.894605e-04\n",
      "2.429521e-01  |     15  |       8.893424e-04\n",
      "2.643758e-01  |     16  |       8.893424e-04\n",
      "2.942318e-01  |     17  |       8.893424e-04\n",
      "3.688135e-01  |     18  |       8.893424e-04\n",
      "4.405370e-01  |     19  |       8.893424e-04\n",
      "5.387293e-02  |     20  |       8.893424e-04\n",
      "5.448009e-01  |     21  |       8.893424e-04\n",
      "6.183839e-01  |     22  |       8.893424e-04\n",
      "6.378168e-01  |     23  |       8.893424e-04\n",
      "7.052624e-01  |     24  |       8.893424e-04\n",
      "7.211386e-01  |     25  |       8.893424e-04\n",
      "8.831898e-01  |     26  |       8.893424e-04\n",
      "1.190823e+00  |     27  |       8.893282e-04\n",
      "1.337282e+00  |     28  |       8.893282e-04\n",
      "1.409983e+00  |     29  |       8.893282e-04\n",
      "1.450120e+00  |     30  |       8.893282e-04\n",
      "1.652449e+00  |     31  |       8.893282e-04\n",
      "1.699749e+00  |     32  |       8.893282e-04\n",
      "1.789375e+00  |     33  |       8.893282e-04\n",
      "2.083915e+00  |     34  |       8.893282e-04\n"
     ]
    }
   ],
   "source": [
    "#computation of probability with AK-MCS\n",
    "my_AK_four_branch.compute_proba()"
   ]
  },
  {
   "cell_type": "markdown",
   "metadata": {},
   "source": [
    " ### Post treatments"
   ]
  },
  {
   "cell_type": "code",
   "execution_count": 37,
   "metadata": {},
   "outputs": [
    {
     "name": "stdout",
     "output_type": "stream",
     "text": [
      "Probability of failure: 0.0008893282498174369\n",
      "Simulation budget: 54\n"
     ]
    }
   ],
   "source": [
    "print('Probability of failure:',my_AK_four_branch.getFailureProbability())\n",
    "print('Simulation budget:',my_AK_four_branch.getSimBudget())"
   ]
  },
  {
   "cell_type": "code",
   "execution_count": 38,
   "metadata": {},
   "outputs": [],
   "source": [
    "#Kriging model \n",
    "kr = my_AK_four_branch.getKrigingModel()\n",
    "[DoE_four_branch_x,DoE_four_branch_y]= my_AK_four_branch.getDoE()"
   ]
  },
  {
   "cell_type": "code",
   "execution_count": 39,
   "metadata": {},
   "outputs": [
    {
     "data": {
      "image/png": "[encoded data removed]",
      "text/plain": [
       "<Figure size 1944x648 with 6 Axes>"
      ]
     },
     "metadata": {
      "needs_background": "light"
     },
     "output_type": "display_data"
    }
   ],
   "source": [
    "#Plot of surrogate model\n",
    "import matplotlib.pyplot as plt\n",
    "\n",
    "grid_size = 100\n",
    "x1 = np.linspace(-4,4,grid_size)\n",
    "x2 = np.linspace(-4,4,grid_size)\n",
    "\n",
    "xx1,xx2 = np.meshgrid(x1,x2)\n",
    "\n",
    "xx1_ = xx1.reshape((grid_size**2,1))\n",
    "xx2_ = xx2.reshape((grid_size**2,1))\n",
    "\n",
    "x = np.concatenate((xx1_,xx2_),1)\n",
    "                  \n",
    "                  \n",
    "y_true = np.array(my_four_branch_7(x))\n",
    "y_mean_krig =np.array(kr.getConditionalMean(x))     \n",
    "                   \n",
    "y_sigma_krig = np.array(np.sqrt(kr.getConditionalMarginalVariance(x)))\n",
    "\n",
    "y_true = y_true.reshape((grid_size,grid_size))\n",
    "y_mean_krig = y_mean_krig.reshape((grid_size,grid_size))\n",
    "y_sigma_krig= y_sigma_krig.reshape((grid_size,grid_size))\n",
    "\n",
    "cmap = mpl.cm.hsv\n",
    "norm = mpl.colors.Normalize(vmin=-10, vmax=10)\n",
    "%matplotlib inline \n",
    "fig, (ax0, ax1,ax2) = plt.subplots(ncols=3,figsize=(27,9))\n",
    "im1 = ax0.pcolormesh(xx1,xx2,y_true,norm = norm,cmap = cmap)\n",
    "fig.colorbar(im1, ax=ax0)\n",
    "ax0.title.set_text('True function')\n",
    "\n",
    "im2 = ax1.pcolormesh(xx1,xx2,y_mean_krig,norm = norm,cmap = cmap)\n",
    "ax1.scatter(DoE_four_branch_x[0:my_AK_four_branch.n_DoE,0],DoE_four_branch_x[0:my_AK_four_branch.n_DoE,1],color = 'r')\n",
    "ax1.scatter(DoE_four_branch_x[my_AK_four_branch.n_DoE:,0],DoE_four_branch_x[my_AK_four_branch.n_DoE:,1])\n",
    "fig.colorbar(im2, ax=ax1)\n",
    "ax1.title.set_text('Kriging response and added samples')\n",
    "\n",
    "im3 = ax2.pcolormesh(xx1,xx2,y_sigma_krig,norm = norm,cmap = cmap)\n",
    "fig.colorbar(im3, ax=ax2)\n",
    "ax2.title.set_text('Kriging error')"
   ]
  },
  {
   "cell_type": "code",
   "execution_count": null,
   "metadata": {},
   "outputs": [],
   "source": []
  }
 ],
 "metadata": {
  "kernelspec": {
   "display_name": "Python 3",
   "language": "python",
   "name": "python3"
  },
  "language_info": {
   "codemirror_mode": {
    "name": "ipython",
    "version": 3
   },
   "file_extension": ".py",
   "mimetype": "text/x-python",
   "name": "python",
   "nbconvert_exporter": "python",
   "pygments_lexer": "ipython3",
   "version": "3.7.1"
  }
 },
 "nbformat": 4,
 "nbformat_minor": 4
}
