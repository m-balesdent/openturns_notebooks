{
 "cells": [
  {
   "cell_type": "code",
   "execution_count": 2,
   "metadata": {},
   "outputs": [],
   "source": [
    "import openturns as ot\n",
    "import numpy as np\n",
    "import matplotlib as mpl"
   ]
  },
  {
   "cell_type": "markdown",
   "metadata": {},
   "source": [
    "# Implementation of AK-SS\n",
    "\n",
    "Sources :  Huan 2016 - Assessing small failure probabilities by AK–SS: An active learning method combining Kriging and Subset Simulation, Structural Safety 59 (2016) 86–95\n",
    "\n",
    "This notebook implements the AK- SS method which couples Gaussian Process based surrogate model and Subset simulation algorithm.\n",
    "\n",
    "\n",
    "In case of rare event probability estimation, the surrogate model has to be accurate in the zones that are relevant to the failure probability estimation i.e. in the vicinity of failure threshold $T$ and in the high probability content regions. The use of the exact function $\\phi$ and its surrogate $\\hat{\\phi}$ in the probability calculation will lead to the same result if $\\forall \\mathbf{x} \\in \\mathbb{R}^d, \\mathbf{1}_{\\phi(\\mathbf{x})>T} = \\mathbf{1}_{\\hat{\\phi}(\\mathbf{x},\\mathcal{X})>T}$. In other words, the surrogate model might not be representative of the exact function outside the zones of interest as it does not take part of the probability estimation. From the initial training set $\\mathcal{X}$, the Gaussian process properties (i.e. estimation of the predicted error variance) are  valuable to determine the additional samples which have to be evaluated on $\\phi(\\cdot)$ to refine its surrogate model. Different refinement strategies have been developed in the literature. Here, the method described in [Echard 2011] is implemented  (\"U criterion\").\n",
    "\n",
    "\n",
    "This method determines a new sample point $\\mathbf{x}$ to add to the training set $\\mathcal{X}$ by solving the following optimisation problem:\n",
    "\\begin{equation}\n",
    "\\underset{\\mathbf{x}}{\\max}  \\left[1 - \\Phi_{0,1}\\left( \\frac{|T-\\hat{\\phi}(\\mathbf{x},\\mathcal{X})|}{\\hat{\\sigma}(\\mathbf{x},\\mathcal{X})}\\right)\\right], \\label{eq:echard}\n",
    "\\end{equation}\n",
    "where $\\Phi_{0,1}(\\cdot)$ is the cdf of the standard Gaussian distribution, $\\hat{\\phi}$ the mean prediction of the Kriging and $\\hat{\\sigma}$ the estimated standard deviation of the prediction error. The used criterion generates a sample for which the Kriging prediction is closed to the threshold  (numerator) and which presents a high prediction error (denominator). Due to the monotonicity of the involved cdf, the optimisation problem is equivalent to:\n",
    "\\begin{equation}\n",
    "\\underset{\\mathbf{x}}{\\min}\\;  \\frac{|T-\\hat{\\phi}(\\mathbf{x},\\mathcal{X})|}{\\hat{\\sigma}(\\mathbf{x},\\mathcal{X})}. \\label{eq:echard2}\n",
    "\\end{equation}\n",
    "This criterion has been coupled with CMC. In practice, the optimisation problem is not solved, and given a sample set $\\{\\mathbf{X}_1,\\dots, \\mathbf{X}_N\\}$ provided by CMC the new sample which will be added to the training set is determined by\n",
    "\\begin{equation*}\n",
    "\\mathbf{X} = \\underset{\\mathbf{X}_1,\\dots,\\mathbf{X}_N}{\\text{argmin}}  \\left\\{\\frac{|T-\\hat{\\phi}(\\mathbf{X}_1,\\mathcal{X})|}{\\hat{\\sigma}(\\mathbf{X}_1,\\mathcal{X})},\\dots, \\frac{|T-\\hat{\\phi}(\\mathbf{X}_N,\\mathcal{X})|}{\\hat{\\sigma}(\\mathbf{X}_N,\\mathcal{X})}     \\right\\}.\n",
    "\\end{equation*}\n",
    "\n",
    "\n",
    "In this notebook, this criterion is implemented with subset simulation.\n"
   ]
  },
  {
   "cell_type": "markdown",
   "metadata": {},
   "source": [
    "## Definition of algorithm AK-SS  class (implemented here with \"U\" criterion, see sources)"
   ]
  },
  {
   "cell_type": "code",
   "execution_count": 44,
   "metadata": {
    "scrolled": true
   },
   "outputs": [],
   "source": [
    "### Definition of parameters\n",
    "# event : ThresholdEvent based on composite vector of input variables on limit state function \n",
    "# n_MC : number of CMC samples\n",
    "# n_DoE : number of elements in initial Kriging DoE\n",
    "# basis : basis of kriging model\n",
    "# cov_model : covariance model of kriging\n",
    "# sim_budget : maximal number of evaluation of limit state function\n",
    "# criterion : criterion to stop AK-SS (U criterion, default value : 2)\n",
    "# verbose : verbosity parameter \n",
    "# proposal_range : proposal_range of SS\n",
    "# target_proba : target_proba of SS\n",
    "# cv_target : target coefficient of variation\n",
    "\n",
    "class AK_SSAlgorithm(object):\n",
    "    \n",
    "    def __init__(self,event,n_MC,n_DoE,sim_budget,basis, cov_model,proposal_range = 1.,target_proba=0.5,cv_target = 0.05,criterion = 2,verbose = False):\n",
    "        self.n_MC = n_MC\n",
    "        self.n_DoE = n_DoE\n",
    "        self.limit_state_function = event.getFunction()\n",
    "        self.S = event.getThreshold()\n",
    "        self.basis = basis\n",
    "        self.cov_model = cov_model\n",
    "        self.dim = event.getAntecedent().getDimension()\n",
    "        self.proba = 0.\n",
    "        self.distrib = event.getAntecedent().getDistribution()\n",
    "        self.nb_eval = 0\n",
    "        self.cv = 1e4\n",
    "        self.max_sim = sim_budget\n",
    "        self.U_criterion = criterion\n",
    "        self.DoE = None\n",
    "        self.kriging_model = None\n",
    "        self.verbose = verbose\n",
    "        self.samples_MC = None\n",
    "        self.operator = event.getOperator()\n",
    "        self.event = event\n",
    "        self.cv_target = cv_target\n",
    "        self.proposal_range = proposal_range\n",
    "        self.target_proba = target_proba\n",
    "        self.discrepancy_LHS = 5\n",
    "        \n",
    "        \n",
    "    #Function determining the U criterion of AK -SS\n",
    "    def compute_U(self,my_krig,list_id_evaluated):\n",
    "        \n",
    "        y_pred = my_krig.getConditionalMean(self.samples_MC)\n",
    "        y_var_pred = my_krig.getConditionalMarginalVariance(self.samples_MC)\n",
    "        U = np.abs(ot.Point([self.S]*int(self.n_MC))-y_pred)/np.sqrt(y_var_pred)\n",
    "            \n",
    "        if len(list_id_evaluated)>0:\n",
    "            U[list_id_evaluated] = 5e5\n",
    "        return U\n",
    "\n",
    "    #Function computing the probability of failure\n",
    "    def compute_proba(self):\n",
    "                       \n",
    "            #Generation of DoE using LHS\n",
    "            liste_densite = []\n",
    "            for i in range(self.distrib.getDimension()):\n",
    "                liste_densite.append(ot.Uniform(self.distrib.getMarginal(i).getMean()[0]- self.discrepancy_LHS*self.distrib.getMarginal(i).getStandardDeviation()[0],\n",
    "                                                self.distrib.getMarginal(i).getMean()[0]+ self.discrepancy_LHS*self.distrib.getMarginal(i).getStandardDeviation()[0]))\n",
    "\n",
    "            dist_LHS = ot.ComposedDistribution(liste_densite)   \n",
    "            exp_LHS = ot.LHSExperiment(dist_LHS,self.n_DoE)    \n",
    "            \n",
    "            DoE_inputs = exp_LHS.generate()\n",
    "    \n",
    "            # Calculation of True function of the DoE\n",
    "            DoE_responses = self.limit_state_function(DoE_inputs)\n",
    "            \n",
    "            current_iter = 1\n",
    "            nb_pt_sim=0\n",
    "            \n",
    "            while (self.cv>self.cv_target and nb_pt_sim<self.max_sim) :                \n",
    "                if current_iter ==1: #first iter\n",
    "                    #Generation of experiment\n",
    "                    ot.RandomGenerator.SetSeed(1)\n",
    "                    myExperiment = ot.MonteCarloExperiment(self.distrib, self.n_MC)\n",
    "                    self.samples_MC = myExperiment.generate()\n",
    "                    \n",
    "                    list_id_samples_evaluated=[]\n",
    "                    \n",
    "                    #Generation of Kriging model\n",
    "                        \n",
    "                    algokriging = ot.KrigingAlgorithm(DoE_inputs, \n",
    "                                                      DoE_responses,\n",
    "                                                      self.cov_model,\n",
    "                                                      self.basis)\n",
    "                    \n",
    "                    \n",
    "                    solver_kriging = ot.NLopt('GN_DIRECT')\n",
    "                    algokriging.setOptimizationAlgorithm(solver_kriging)\n",
    "                    algokriging.setOptimizationBounds(ot.Interval([0.01]*self.dim, [100]*self.dim))\n",
    "                    algokriging.run()\n",
    "                    my_krig = algokriging.getResult()\n",
    "                    metamodel = my_krig.getMetaModel()\n",
    "\n",
    "                    updated_cov = my_krig.getCovarianceModel()\n",
    "                    U_y_pred = self.compute_U(my_krig,list_id_samples_evaluated)\n",
    "                    id_opt_U=np.argmin(U_y_pred)\n",
    "                    current_min_U = np.min(U_y_pred)\n",
    "                    list_id_samples_evaluated.append(id_opt_U)\n",
    "                    \n",
    "                else: # Add points to current first iter of MC algo\n",
    "                    samples_additional_MC = myExperiment.generate()\n",
    "                    self.samples_MC = ot.Sample(np.concatenate((self.samples_MC,samples_additional_MC)))\n",
    "                    self.n_MC=  self.samples_MC.getSize()\n",
    "                    #Compute u criterion on these samples\n",
    "                    U_y_pred = self.compute_U(my_krig,list_id_samples_evaluated)\n",
    "                    id_opt_U=np.argmin(U_y_pred)\n",
    "                    current_min_U = np.min(U_y_pred)\n",
    "                    list_id_samples_evaluated.append(id_opt_U)\n",
    "\n",
    "                while nb_pt_sim<self.max_sim and current_min_U < self.U_criterion:\n",
    "                        #evaluation of true function\n",
    "                        x_new = self.samples_MC[int(id_opt_U)]\n",
    "                        y_new = self.limit_state_function(x_new)\n",
    "\n",
    "                        DoE_inputs.add(x_new)\n",
    "                        DoE_responses.add(y_new)\n",
    "                        # Definition of Kriging model\n",
    "\n",
    "                        startingPoint = updated_cov.getScale()\n",
    "                        algokriging = ot.KrigingAlgorithm(DoE_inputs, \n",
    "                                                          DoE_responses,\n",
    "                                                          covarianceModel,\n",
    "                                                          basis)\n",
    "                        \n",
    "                        solver_kriging = ot.NLopt('GN_DIRECT')\n",
    "                        solver_kriging.setStartingPoint(startingPoint)\n",
    "                        algokriging.setOptimizationAlgorithm(solver_kriging)\n",
    "                        algokriging.setOptimizationBounds(ot.Interval([0.01]*self.dim, [100]*self.dim))\n",
    "                        algokriging.run()\n",
    "                        my_krig = algokriging.getResult()\n",
    "                        metamodel = my_krig.getMetaModel()\n",
    "                \n",
    "                        updated_cov = my_krig.getCovarianceModel()\n",
    "                        # computation of U\n",
    "                        U_y_pred = self.compute_U(my_krig,list_id_samples_evaluated)\n",
    "                        current_min_U = np.min(U_y_pred)\n",
    "                        id_opt_U = np.argmin(U_y_pred)         \n",
    "                        nb_pt_sim = nb_pt_sim+1\n",
    "                        list_id_samples_evaluated.append(id_opt_U)\n",
    "                        \n",
    "\n",
    "                        self.nb_eval = self.n_DoE+nb_pt_sim\n",
    "                        self.DoE = [DoE_inputs,DoE_responses]\n",
    "                        self.kriging_model = my_krig\n",
    "\n",
    "                        '''if self.verbose == True:\n",
    "                            if nb_pt_sim == 1:\n",
    "                                print('current_min_U', '| Nb_sim')\n",
    "                                print('{:9e}'.format(current_min_U),' | ','{:5d}'.format(int(nb_pt_sim)))\n",
    "\n",
    "                            else:\n",
    "                                print('{:9e}'.format(current_min_U),' | ','{:5d}'.format(int(nb_pt_sim)))'''\n",
    "\n",
    "                #run of subsetsampling algorithm\n",
    "                \n",
    "                inputVector = ot.RandomVector(self.distrib)\n",
    "                Y_kr = ot.CompositeRandomVector(metamodel, inputVector)\n",
    "                my_eventkriging = ot.ThresholdEvent(Y_kr,self.operator,self.S)               \n",
    "                SS_kr = ot.SubsetSampling(my_eventkriging,self.proposal_range,self.target_proba)\n",
    "                SS_kr.setMaximumOuterSampling(self.n_MC)\n",
    "                SS_kr.setKeepEventSample(True)\n",
    "                SS_kr.run()\n",
    "                res = SS_kr.getResult()\n",
    "                self.proba = res.getProbabilityEstimate()\n",
    "                self.cv = res.getCoefficientOfVariation()\n",
    "                self.samples = SS_kr.getEventInputSample()\n",
    "                if self.verbose == True:\n",
    "                    if current_iter ==1 :\n",
    "\n",
    "                        print('current_iter', '| Nb_sim',' | Probability estimate', ' | Coefficient of variation')\n",
    "                        print('{:9d}'.format(int(current_iter)),'   | ','{:5d}'.format(int(nb_pt_sim)),' |      ','{:11e}'.format(self.proba),'   |      ','{:11e}'.format(self.cv))\n",
    "                    \n",
    "                    else: \n",
    "                        print('{:9d}'.format(int(current_iter)),'   | ','{:5d}'.format(int(nb_pt_sim)),' |      ','{:11e}'.format(self.proba),'   |      ','{:11e}'.format(self.cv))\n",
    "                        \n",
    "                \n",
    "                current_iter+=1\n",
    "\n",
    "            return \n",
    "                   \n",
    "    #Accessor to the number of evaluated samples             \n",
    "    def getSimBudget(self):\n",
    "        return self.nb_eval\n",
    "    \n",
    "    #Accessor to the kriging model \n",
    "    def getKrigingModel(self):\n",
    "        \n",
    "        return self.kriging_model\n",
    "                   \n",
    "    #Accessor to the DoE\n",
    "    def getDoE(self):\n",
    "        return self.DoE\n",
    "    \n",
    "    #Accessor to the failure probability\n",
    "    def getFailureProbability(self):\n",
    "        return self.proba\n",
    "    \n",
    "    #Accessor to the failure probability\n",
    "    def getCoefficientOfVariation(self):\n",
    "        return self.cv      \n",
    "    \n",
    "    #Accessor to the MonteCarlo samples\n",
    "    def getEventSamples(self):\n",
    "        return self.samples"
   ]
  },
  {
   "cell_type": "markdown",
   "metadata": {},
   "source": [
    "# Numerical experiments"
   ]
  },
  {
   "cell_type": "markdown",
   "metadata": {},
   "source": [
    "## Experiment 1 : Probability estimation on cantilever beam example\n",
    "\n",
    "http://openturns.github.io/openturns/latest/examples/reliability_sensitivity/estimate_probability_importance_sampling.html\n",
    "\n",
    "\n",
    "Analytical example of a cantilever beam, with Young’s modulus E, length L and section modulus I.\n",
    "\n",
    "One end of the cantilever beam is built in a wall and we apply a concentrated bending load F at the other end of the beam, resulting in a deviation:\n",
    "\n",
    "$$d = \\frac{FL^3}{3EI}$$\n",
    "\n",
    "Failure occurs when the beam deviation is too large:\n",
    "\n",
    "$$d \\ge 30 (cm)$$\n",
    "\n",
    "Four independent random variables are considered:\n",
    "* E: Young’s modulus [Pa]\n",
    "* F: load [N]\n",
    "* L: length [m]\n",
    "* I: section [m^4]\n",
    "\n",
    "Stochastic model (simplified model, no units):\n",
    "\n",
    "    E ~ Beta(0.93, 2.27, 2.8e7, 4.8e7)\n",
    "\n",
    "    F ~ LogNormal(30000, 9000, 15000)\n",
    "\n",
    "    L ~ Uniform(250, 260)\n",
    "\n",
    "    I ~ Beta(2.5, 1.5, 3.1e2, 4.5e2)"
   ]
  },
  {
   "cell_type": "markdown",
   "metadata": {},
   "source": [
    "### Definition of input vector distribution"
   ]
  },
  {
   "cell_type": "code",
   "execution_count": 5,
   "metadata": {},
   "outputs": [],
   "source": [
    "# Create the marginal distributions of the parameters\n",
    "dist_E = ot.Beta(0.93, 2.27, 2.8e7, 4.8e7)\n",
    "dist_F = ot.LogNormalMuSigma(30000, 9000, 15000).getDistribution()\n",
    "dist_L = ot.Uniform(250, 260)\n",
    "dist_I = ot.Beta(2.5, 1.5, 3.1e2, 4.5e2)\n",
    "marginals = [dist_E, dist_F, dist_L, dist_I]\n",
    "\n",
    "# Create the Copula\n",
    "RS = ot.CorrelationMatrix(4)\n",
    "RS[2, 3] = -0.2\n",
    "# Evaluate the correlation matrix of the Normal copula from RS\n",
    "R = ot.NormalCopula.GetCorrelationFromSpearmanCorrelation(RS)\n",
    "# Create the Normal copula parametrized by R\n",
    "copula = ot.NormalCopula(R)\n",
    "# Create the joint probability distribution\n",
    "dist_x = ot.ComposedDistribution(marginals, copula)"
   ]
  },
  {
   "cell_type": "markdown",
   "metadata": {},
   "source": [
    "### Definition of model"
   ]
  },
  {
   "cell_type": "code",
   "execution_count": 6,
   "metadata": {},
   "outputs": [],
   "source": [
    "# create the model\n",
    "beam = ot.SymbolicFunction(['E', 'F', 'L', 'I'], ['F*L^3/(3*E*I)'])\n",
    "\n",
    "vect = ot.RandomVector(dist_x)\n",
    "G = ot.CompositeRandomVector(beam, vect)\n",
    "event_beam = ot.Event(G, ot.Greater(),30)"
   ]
  },
  {
   "cell_type": "markdown",
   "metadata": {},
   "source": [
    "## Estimation of reference probability with Monte Carlo"
   ]
  },
  {
   "cell_type": "code",
   "execution_count": 21,
   "metadata": {},
   "outputs": [
    {
     "name": "stdout",
     "output_type": "stream",
     "text": [
      "Pf: 0.004855547462976457\n",
      "Coefficient of variation: 0.09975692720493265\n"
     ]
    }
   ],
   "source": [
    "#MonteCarlo experiment\n",
    "n_MC_cantilever = int(1e6)\n",
    "# create a Monte Carlo algorithm\n",
    "experiment = ot.MonteCarloExperiment()\n",
    "algo = ot.ProbabilitySimulationAlgorithm(event_beam, experiment)\n",
    "algo.setMaximumOuterSampling(n_MC_cantilever)\n",
    "algo.run()\n",
    "# retrieve results\n",
    "result = algo.getResult()\n",
    "probability = result.getProbabilityEstimate()\n",
    "print('Pf:', probability)\n",
    "print('Coefficient of variation:',result.getCoefficientOfVariation())"
   ]
  },
  {
   "cell_type": "markdown",
   "metadata": {},
   "source": [
    "## Application of AK-SS "
   ]
  },
  {
   "cell_type": "code",
   "execution_count": 9,
   "metadata": {},
   "outputs": [],
   "source": [
    "# Definition of Kriging model\n",
    "dim_cantilever = 4\n",
    "basis = ot.LinearBasisFactory(dim_cantilever).build()\n",
    "covarianceModel = ot.MaternModel([.1],[.1],1.5)\n",
    "n_DoE_cantilever = 20\n",
    "sim_budget_cantilever = 100\n",
    "verbose = True\n",
    "criterion = 2\n",
    "proposal_range = 1.\n",
    "target_proba=0.1\n",
    "cv_target = 0.05\n",
    "\n",
    "n_SS_cantilever = int(1e3)\n",
    "\n",
    "my_AK_beam = AK_SSAlgorithm(event_beam,\n",
    "                                    n_SS_cantilever,\n",
    "                                    n_DoE_cantilever,\n",
    "                                    sim_budget_cantilever,\n",
    "                                    basis,\n",
    "                                    covarianceModel,\n",
    "                                   proposal_range,\n",
    "                                   target_proba,\n",
    "                                    cv_target,\n",
    "                                    criterion,\n",
    "                                    verbose)"
   ]
  },
  {
   "cell_type": "markdown",
   "metadata": {},
   "source": [
    "### Probability estimation with of AK-IS"
   ]
  },
  {
   "cell_type": "code",
   "execution_count": 10,
   "metadata": {},
   "outputs": [
    {
     "name": "stderr",
     "output_type": "stream",
     "text": [
      "D:\\mbalesde\\Logiciels\\Externes\\Anaconda3\\lib\\site-packages\\ipykernel_launcher.py:48: RuntimeWarning: invalid value encountered in sqrt\n"
     ]
    },
    {
     "name": "stdout",
     "output_type": "stream",
     "text": [
      "current_iter | Nb_sim  | Probability estimate  | Coefficient of variation\n",
      "        1    |      7  |       7.720000e-03    |       2.318867e-01\n",
      "        2    |      8  |       5.750000e-03    |       1.569553e-01\n",
      "        3    |     10  |       5.486667e-03    |       1.270467e-01\n",
      "        4    |     10  |       6.837500e-03    |       1.109737e-01\n",
      "        5    |     15  |       5.074000e-03    |       1.007985e-01\n",
      "        6    |     16  |       5.380000e-03    |       9.499281e-02\n",
      "        7    |     18  |       4.795714e-03    |       8.606560e-02\n",
      "        8    |     19  |       5.716250e-03    |       8.189346e-02\n",
      "        9    |     20  |       5.393333e-03    |       7.787494e-02\n",
      "       10    |     20  |       5.803000e-03    |       7.163009e-02\n",
      "       11    |     21  |       5.033636e-03    |       6.852054e-02\n",
      "       12    |     21  |       5.800000e-03    |       6.707737e-02\n",
      "       13    |     22  |       5.492308e-03    |       6.313226e-02\n",
      "       14    |     23  |       5.722857e-03    |       5.945238e-02\n",
      "       15    |     23  |       5.482000e-03    |       5.890722e-02\n",
      "       16    |     25  |       5.894375e-03    |       5.754821e-02\n",
      "       17    |     26  |       5.458824e-03    |       5.496897e-02\n",
      "       18    |     26  |       5.432778e-03    |       5.495125e-02\n",
      "       19    |     26  |       5.808421e-03    |       5.321941e-02\n",
      "       20    |     27  |       6.078500e-03    |       5.197507e-02\n",
      "       21    |     28  |       5.108571e-03    |       5.001364e-02\n",
      "       22    |     29  |       5.120455e-03    |       4.877253e-02\n"
     ]
    }
   ],
   "source": [
    "#computation of probability with AK-MCS\n",
    "my_AK_beam.compute_proba()"
   ]
  },
  {
   "cell_type": "code",
   "execution_count": 20,
   "metadata": {},
   "outputs": [
    {
     "name": "stdout",
     "output_type": "stream",
     "text": [
      "Probability of failure: 0.005120454545454581\n",
      "Coefficient of variation: 0.04877252676718537\n",
      "Simulation budget: 49\n"
     ]
    }
   ],
   "source": [
    "print('Probability of failure:',my_AK_beam.getFailureProbability())\n",
    "print('Coefficient of variation:',my_AK_beam.getCoefficientOfVariation())\n",
    "print('Simulation budget:',my_AK_beam.getSimBudget())"
   ]
  },
  {
   "cell_type": "markdown",
   "metadata": {},
   "source": [
    "## Experiment 2 : \"four branch function\"\n",
    "\n",
    "$$G(x_1,x_2) = min \\begin{pmatrix}3+0.1(x_1-x_2)^2-\\frac{(x_1+x_2)}{\\sqrt{2}};\\\\3+0.1(x_1-x_2)^2+\\frac{(x_1+x_2)}{\\sqrt{2}};\\\\\n",
    "(x_1-x_2)+ \\frac{k}{\\sqrt{2}};\\\\\n",
    "(x_2-x_1)+ \\frac{k}{\\sqrt{2}}\n",
    "\\end{pmatrix}$$\n",
    "\n",
    "with : \n",
    "* $k$ is equal to 6 or 7\n",
    "* $x_1 \\sim \\mathcal{N}(0,1)$\n",
    "* $x_2 \\sim \\mathcal{N}(0,1)$\n"
   ]
  },
  {
   "cell_type": "markdown",
   "metadata": {},
   "source": [
    "### Definition of input variable probability distributions"
   ]
  },
  {
   "cell_type": "code",
   "execution_count": 22,
   "metadata": {},
   "outputs": [],
   "source": [
    "dim_inputs = 2\n",
    "dist_x = ot.Normal([0.0, 0.0], [1., 1.], ot.CorrelationMatrix(dim_inputs))\n",
    "inputVector = ot.RandomVector(dist_x)"
   ]
  },
  {
   "cell_type": "markdown",
   "metadata": {},
   "source": [
    "### Definition of limit state function"
   ]
  },
  {
   "cell_type": "code",
   "execution_count": 32,
   "metadata": {},
   "outputs": [],
   "source": [
    "#Definition of limit state function\n",
    "def four_branch(x):\n",
    "    x1 = x[0]\n",
    "    x2  = x[1]\n",
    "    k = x[2]\n",
    "    g1 = 3+0.1*(x1-x2)**2-(x1+x2)/np.sqrt(2)\n",
    "    g2 = 3+0.1*(x1-x2)**2+(x1+x2)/np.sqrt(2)\n",
    "    g3 = (x1-x2)+k/np.sqrt(2)\n",
    "    g4 =(x2-x1)+k/np.sqrt(2)\n",
    "    return [min((g1,g2,g3,g4))]\n",
    "\n",
    "# Definition of pythonfunction\n",
    "my_four_branch = ot.PythonFunction(3, 1, four_branch)\n",
    "index_frozen = [2]\n",
    "my_four_branch_6 = ot.ParametricFunction(my_four_branch, index_frozen, [6])\n",
    "my_four_branch_7 = ot.ParametricFunction(my_four_branch, index_frozen, [7])\n",
    "\n",
    "\n",
    "# Definition of event\n",
    "Y = ot.CompositeRandomVector(my_four_branch_6, inputVector)\n",
    "my_event4b = ot.ThresholdEvent(Y,ot.Less(),0.0)"
   ]
  },
  {
   "cell_type": "markdown",
   "metadata": {},
   "source": [
    "### Estimation of reference probability with Monte Carlo"
   ]
  },
  {
   "cell_type": "code",
   "execution_count": 24,
   "metadata": {},
   "outputs": [
    {
     "name": "stdout",
     "output_type": "stream",
     "text": [
      "Failure probability 0.004399999999999991\n",
      "Coefficient of variation 0.1504236441762826\n"
     ]
    }
   ],
   "source": [
    "n_MC = np.int(1e4)\n",
    "\n",
    "# Creation of event\n",
    "ot.RandomGenerator.SetSeed(1)\n",
    "# create a Monte Carlo algorithm\n",
    "experiment = ot.MonteCarloExperiment()\n",
    "algo = ot.ProbabilitySimulationAlgorithm(my_event4b, experiment)\n",
    "algo.setMaximumOuterSampling(int(n_MC))\n",
    "algo.run()\n",
    "\n",
    "# retrieve results\n",
    "result = algo.getResult()\n",
    "probability = result.getProbabilityEstimate()\n",
    "print('Failure probability', probability)\n",
    "print('Coefficient of variation', result.getCoefficientOfVariation())"
   ]
  },
  {
   "cell_type": "markdown",
   "metadata": {},
   "source": [
    "### Estimation of reference probability with Subset simulation"
   ]
  },
  {
   "cell_type": "code",
   "execution_count": 25,
   "metadata": {},
   "outputs": [],
   "source": [
    "algo = ot.SubsetSampling(my_event4b,1.,0.5)\n",
    "algo.run()"
   ]
  },
  {
   "cell_type": "code",
   "execution_count": 26,
   "metadata": {},
   "outputs": [
    {
     "name": "stdout",
     "output_type": "stream",
     "text": [
      "Failure probability with subset simulation 0.004373437500000062\n",
      "coeff variation 0.03297748538188446\n"
     ]
    }
   ],
   "source": [
    "res = algo.getResult()\n",
    "print('Failure probability with subset simulation',res.getProbabilityEstimate())\n",
    "print('coeff variation',res.getCoefficientOfVariation())"
   ]
  },
  {
   "cell_type": "markdown",
   "metadata": {},
   "source": [
    "## Definition of AK-SS experiment"
   ]
  },
  {
   "cell_type": "code",
   "execution_count": 27,
   "metadata": {},
   "outputs": [],
   "source": [
    "# Definition of Kriging model\n",
    "dim_4b = 2\n",
    "basis = ot.ConstantBasisFactory(dim_4b).build()\n",
    "covarianceModel = ot.MaternModel(dim_4b)\n",
    "n_MC_4b = 1000\n",
    "n_DoE_4b = 10\n",
    "sim_budget_4b = 200\n",
    "verbose = True\n",
    "criterion = 2\n",
    "\n",
    "proposal_range = 1.\n",
    "target_proba=0.1\n",
    "cv_target = 0.05\n",
    "\n",
    "my_AK_four_branch = AK_SSAlgorithm(my_event4b,\n",
    "                                    n_MC_4b,\n",
    "                                    n_DoE_4b,\n",
    "                                    sim_budget_4b,\n",
    "                                    basis,\n",
    "                                    covarianceModel,\n",
    "                                   proposal_range,\n",
    "                                   target_proba,\n",
    "                                    cv_target,\n",
    "                                    criterion,\n",
    "                                    verbose)"
   ]
  },
  {
   "cell_type": "markdown",
   "metadata": {},
   "source": [
    "### Computation of the failure probability with AK-SS"
   ]
  },
  {
   "cell_type": "code",
   "execution_count": 28,
   "metadata": {},
   "outputs": [
    {
     "name": "stderr",
     "output_type": "stream",
     "text": [
      "D:\\mbalesde\\Logiciels\\Externes\\Anaconda3\\lib\\site-packages\\ipykernel_launcher.py:48: RuntimeWarning: invalid value encountered in sqrt\n",
      "D:\\mbalesde\\Logiciels\\Externes\\Anaconda3\\lib\\site-packages\\ipykernel_launcher.py:48: RuntimeWarning: divide by zero encountered in true_divide\n"
     ]
    },
    {
     "name": "stdout",
     "output_type": "stream",
     "text": [
      "current_iter | Nb_sim  | Probability estimate  | Coefficient of variation\n",
      "        1    |      8  |       3.390000e-03    |       2.332856e-01\n",
      "        2    |     16  |       3.560000e-03    |       1.538088e-01\n",
      "        3    |     24  |       3.293333e-03    |       1.265661e-01\n",
      "        4    |     26  |       4.380000e-03    |       1.146095e-01\n",
      "        5    |     28  |       4.322000e-03    |       1.007448e-01\n",
      "        6    |     31  |       4.065000e-03    |       9.047040e-02\n",
      "        7    |     36  |       4.928571e-03    |       8.367859e-02\n",
      "        8    |     40  |       5.400000e-03    |       7.890272e-02\n",
      "        9    |     40  |       3.417310e-03    |       7.198107e-02\n",
      "       10    |     40  |       4.010000e-03    |       7.147779e-02\n",
      "       11    |     41  |       4.642727e-03    |       6.831203e-02\n",
      "       12    |     42  |       3.745000e-03    |       6.439972e-02\n",
      "       13    |     44  |       4.167692e-03    |       6.266665e-02\n",
      "       14    |     46  |       4.858571e-03    |       6.018404e-02\n",
      "       15    |     52  |       4.288000e-03    |       5.786159e-02\n",
      "       16    |     52  |       3.916875e-03    |       5.597162e-02\n",
      "       17    |     54  |       4.609412e-03    |       5.503904e-02\n",
      "       18    |     56  |       5.079444e-03    |       5.271284e-02\n",
      "       19    |     56  |       4.338947e-03    |       5.079491e-02\n",
      "       20    |     56  |       4.412000e-03    |       5.002389e-02\n",
      "       21    |     57  |       4.251429e-03    |       4.878468e-02\n"
     ]
    }
   ],
   "source": [
    "#computation of probability with AK-SS\n",
    "my_AK_four_branch.compute_proba()"
   ]
  },
  {
   "cell_type": "code",
   "execution_count": 29,
   "metadata": {},
   "outputs": [
    {
     "name": "stdout",
     "output_type": "stream",
     "text": [
      "Probability of failure 0.004251428571428577\n",
      "Simulation budget 67\n",
      "Coefficient of variation 0.048784683958249815\n"
     ]
    }
   ],
   "source": [
    "print('Probability of failure',my_AK_four_branch.getFailureProbability())\n",
    "print('Simulation budget',my_AK_four_branch.getSimBudget())\n",
    "print('Coefficient of variation',my_AK_four_branch.getCoefficientOfVariation())"
   ]
  },
  {
   "cell_type": "markdown",
   "metadata": {},
   "source": [
    " ### Post treatments"
   ]
  },
  {
   "cell_type": "code",
   "execution_count": 30,
   "metadata": {},
   "outputs": [],
   "source": [
    "#Kriging model \n",
    "kr = my_AK_four_branch.getKrigingModel()\n",
    "[DoE_four_branch_x,DoE_four_branch_y]= my_AK_four_branch.getDoE()\n",
    "ss_samples = my_AK_four_branch.getEventSamples()"
   ]
  },
  {
   "cell_type": "code",
   "execution_count": 31,
   "metadata": {},
   "outputs": [
    {
     "data": {
      "image/png": "[encoded data removed]",
      "text/plain": [
       "<Figure size 1944x648 with 6 Axes>"
      ]
     },
     "metadata": {
      "needs_background": "light"
     },
     "output_type": "display_data"
    }
   ],
   "source": [
    "#Plot of surrogate model\n",
    "import matplotlib.pyplot as plt\n",
    "\n",
    "grid_size = 100\n",
    "x1 = np.linspace(-4,4,grid_size)\n",
    "x2 = np.linspace(-4,4,grid_size)\n",
    "\n",
    "xx1,xx2 = np.meshgrid(x1,x2)\n",
    "\n",
    "xx1_ = xx1.reshape((grid_size**2,1))\n",
    "xx2_ = xx2.reshape((grid_size**2,1))\n",
    "\n",
    "x = np.concatenate((xx1_,xx2_),1)\n",
    "                  \n",
    "y_true = np.array(my_four_branch_7(x))\n",
    "y_mean_krig =np.array(kr.getConditionalMean(x))     \n",
    "                   \n",
    "y_sigma_krig = np.array(np.sqrt(kr.getConditionalMarginalVariance(x)))\n",
    "\n",
    "y_true = y_true.reshape((grid_size,grid_size))\n",
    "y_mean_krig = y_mean_krig.reshape((grid_size,grid_size))\n",
    "y_sigma_krig= y_sigma_krig.reshape((grid_size,grid_size))\n",
    "\n",
    "cmap = mpl.cm.hsv\n",
    "norm = mpl.colors.Normalize(vmin=-10, vmax=10)\n",
    "%matplotlib inline \n",
    "fig, (ax0, ax1,ax2) = plt.subplots(ncols=3,figsize=(27,9))\n",
    "im1 = ax0.pcolormesh(xx1,xx2,y_true,norm = norm,cmap = cmap)\n",
    "fig.colorbar(im1, ax=ax0)\n",
    "ax0.title.set_text('True function')\n",
    "\n",
    "im2 = ax1.pcolormesh(xx1,xx2,y_mean_krig,norm = norm,cmap = cmap)\n",
    "ax1.scatter(DoE_four_branch_x[0:my_AK_four_branch.n_DoE,0],DoE_four_branch_x[0:my_AK_four_branch.n_DoE,1],color = 'r')\n",
    "ax1.scatter(DoE_four_branch_x[my_AK_four_branch.n_DoE:,0],DoE_four_branch_x[my_AK_four_branch.n_DoE:,1])\n",
    "\n",
    "ax1.scatter(np.array(ss_samples)[:,0],np.array(ss_samples)[:,1],marker  = '+')\n",
    "\n",
    "fig.colorbar(im2, ax=ax1)\n",
    "ax1.title.set_text('Kriging response and added samples')\n",
    "\n",
    "im3 = ax2.pcolormesh(xx1,xx2,y_sigma_krig,norm = norm,cmap = cmap)\n",
    "fig.colorbar(im3, ax=ax2)\n",
    "ax2.title.set_text('Kriging error')"
   ]
  },
  {
   "cell_type": "markdown",
   "metadata": {},
   "source": [
    "## Experiment 3 : \"Non linear oscillator\"\n",
    "\n",
    "$G(c_1,c_2,m,r,t_1,F_1)  = 3r-\\left|\\frac{2 F_1}{m \\omega_0^2}sin\\left(\\frac{\\omega_0 t_1}{2}\\right)\\right|$\n",
    "\n",
    "with : \n",
    "* $\\omega_0 = \\sqrt{\\left(\\frac{c_1+c_2}{m}\\right)}$\n",
    "* $m \\sim \\mathcal{N}(1,0.05)$\n",
    "* $c_1 \\sim \\mathcal{N}(1,0.1)$\n",
    "* $c_2 \\sim \\mathcal{N}(0.1,0.01)$\n",
    "* $r \\sim \\mathcal{N}(0.5,0.05)$\n",
    "* $F_1 \\sim \\mathcal{N}(1.,0.2)$\n",
    "* $r \\sim \\mathcal{N}(1.,0.2)$"
   ]
  },
  {
   "cell_type": "markdown",
   "metadata": {},
   "source": [
    "### Definition of input variable probability distributions"
   ]
  },
  {
   "cell_type": "code",
   "execution_count": 34,
   "metadata": {},
   "outputs": [],
   "source": [
    "dist_c1=ot.Normal(1, 0.1)\n",
    "dist_c2=ot.Normal(0.1, 0.01)\n",
    "dist_m=ot.Normal(1.,0.05 )\n",
    "dist_r =ot.Normal(0.5, 0.05)\n",
    "dist_t1 =ot.Normal(1., 0.2)\n",
    "dist_F1=ot.Normal(1., 0.2)\n",
    "std_dev = [dist_c1.getStandardDeviation()[0],dist_c2.getStandardDeviation()[0],dist_m.getStandardDeviation()[0],\n",
    "           dist_r.getStandardDeviation()[0],dist_t1.getStandardDeviation()[0],dist_F1.getStandardDeviation()[0]]\n",
    "dim_inputs=6\n",
    "marginals = [dist_c1,dist_c2,dist_m,dist_r,dist_t1,dist_F1]\n",
    "dist_x = ot.ComposedDistribution(marginals)\n"
   ]
  },
  {
   "cell_type": "markdown",
   "metadata": {},
   "source": [
    "### Definition of model"
   ]
  },
  {
   "cell_type": "code",
   "execution_count": 35,
   "metadata": {},
   "outputs": [],
   "source": [
    "#Definition of classical function\n",
    "def non_lin_osc(x):\n",
    "    c1 = x[0]\n",
    "    c2  = x[1]\n",
    "    m = x[2]\n",
    "    r = x[3]\n",
    "    t1 = x[4]\n",
    "    F1= x[5]\n",
    "    \n",
    "    omega = np.sqrt((c1+c2)/m)\n",
    "    \n",
    "    G = 3*r - np.abs(2*F1/(m*omega**2)*np.sin(omega*t1/2))\n",
    "    return [G]\n",
    "\n",
    "# Definition of python function\n",
    "non_lin_osc = ot.PythonFunction(6, 1, non_lin_osc)\n",
    "\n",
    "# Creation of event\n",
    "vect = ot.RandomVector(dist_x)\n",
    "G = ot.CompositeRandomVector(non_lin_osc, vect)\n",
    "event_osc = ot.Event(G, ot.Less(), 0.0)"
   ]
  },
  {
   "cell_type": "markdown",
   "metadata": {},
   "source": [
    "### Estimation of reference probability with Monte Carlo"
   ]
  },
  {
   "cell_type": "code",
   "execution_count": 36,
   "metadata": {},
   "outputs": [
    {
     "name": "stdout",
     "output_type": "stream",
     "text": [
      "Failure probability 0.030000000000000006\n",
      "Coefficient of variation 0.05686240703077324\n"
     ]
    }
   ],
   "source": [
    "n_MC = np.int(1e4)\n",
    "# create a Monte Carlo algorithm\n",
    "experiment = ot.MonteCarloExperiment()\n",
    "algo = ot.ProbabilitySimulationAlgorithm(event_osc, experiment)\n",
    "algo.setMaximumOuterSampling(int(n_MC))\n",
    "algo.setMaximumCoefficientOfVariation(0.01)\n",
    "\n",
    "algo.run()\n",
    "\n",
    "# retrieve results\n",
    "result = algo.getResult()\n",
    "probability = result.getProbabilityEstimate()\n",
    "print('Failure probability', probability)\n",
    "print('Coefficient of variation', result.getCoefficientOfVariation())"
   ]
  },
  {
   "cell_type": "markdown",
   "metadata": {},
   "source": [
    "## Definition of AK SS experiment"
   ]
  },
  {
   "cell_type": "code",
   "execution_count": 37,
   "metadata": {},
   "outputs": [],
   "source": [
    "# Definition of Kriging model\n",
    "dim_osc = 6\n",
    "\n",
    "basis = ot.ConstantBasisFactory(dim_osc).build()\n",
    "covarianceModel = ot.SquaredExponential([0.1]*dim_osc, [1.0])\n",
    "n_MC_osc = 1000\n",
    "n_DoE_osc = 40\n",
    "sim_budget_osc = 200\n",
    "verbose = True\n",
    "criterion = 2\n",
    "proposal_range = 1.\n",
    "target_proba=0.1\n",
    "cv_target = 0.05\n",
    "my_AK_non_lin_osc = AK_SSAlgorithm(event_osc,\n",
    "                                    n_MC_osc,\n",
    "                                    n_DoE_osc,\n",
    "                                    sim_budget_osc,\n",
    "                                    basis,\n",
    "                                    covarianceModel,\n",
    "                                   proposal_range,\n",
    "                                   target_proba,\n",
    "                                    cv_target,\n",
    "                                    criterion,\n",
    "                                    verbose)"
   ]
  },
  {
   "cell_type": "markdown",
   "metadata": {},
   "source": [
    "## Computation of failure probability"
   ]
  },
  {
   "cell_type": "code",
   "execution_count": 38,
   "metadata": {},
   "outputs": [
    {
     "name": "stderr",
     "output_type": "stream",
     "text": [
      "D:\\mbalesde\\Logiciels\\Externes\\Anaconda3\\lib\\site-packages\\ipykernel_launcher.py:48: RuntimeWarning: invalid value encountered in sqrt\n"
     ]
    },
    {
     "name": "stdout",
     "output_type": "stream",
     "text": [
      "current_iter | Nb_sim  | Probability estimate  | Coefficient of variation\n",
      "        1    |      5  |       2.750000e-02    |       1.198760e-01\n",
      "        2    |      6  |       3.025000e-02    |       7.103353e-02\n",
      "        3    |      6  |       3.270000e-02    |       6.014383e-02\n",
      "        4    |      9  |       3.005000e-02    |       5.474431e-02\n",
      "        5    |     11  |       2.840000e-02    |       4.901935e-02\n"
     ]
    }
   ],
   "source": [
    "#computation of probability with AK-MCS\n",
    "my_AK_non_lin_osc.compute_proba()"
   ]
  },
  {
   "cell_type": "code",
   "execution_count": 39,
   "metadata": {},
   "outputs": [
    {
     "name": "stdout",
     "output_type": "stream",
     "text": [
      "Probability of failure: 0.028399999999999957\n",
      "Coefficient of variation: 0.04901934567845547\n",
      "Simulation budget: 51\n"
     ]
    }
   ],
   "source": [
    "print('Probability of failure:',my_AK_non_lin_osc.getFailureProbability())\n",
    "print('Coefficient of variation:',my_AK_non_lin_osc.getCoefficientOfVariation())\n",
    "print('Simulation budget:',my_AK_non_lin_osc.getSimBudget())"
   ]
  }
 ],
 "metadata": {
  "kernelspec": {
   "display_name": "Python 3",
   "language": "python",
   "name": "python3"
  },
  "language_info": {
   "codemirror_mode": {
    "name": "ipython",
    "version": 3
   },
   "file_extension": ".py",
   "mimetype": "text/x-python",
   "name": "python",
   "nbconvert_exporter": "python",
   "pygments_lexer": "ipython3",
   "version": "3.7.1"
  }
 },
 "nbformat": 4,
 "nbformat_minor": 4
}
