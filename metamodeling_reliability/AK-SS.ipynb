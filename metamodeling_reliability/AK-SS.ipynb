{
 "cells": [
  {
   "cell_type": "code",
   "execution_count": 1,
   "metadata": {},
   "outputs": [],
   "source": [
    "import openturns as ot\n",
    "import numpy as np\n",
    "import matplotlib as mpl"
   ]
  },
  {
   "cell_type": "markdown",
   "metadata": {},
   "source": [
    "# Implementation of AK-SS\n",
    "\n",
    "Sources :  Huan 2016 - Assessing small failure probabilities by AK–SS: An active learning method combining Kriging and Subset Simulation, Structural Safety 59 (2016) 86–95\n",
    "\n",
    "This notebook implements the AK- SS method which couples Gaussian Process based surrogate model and Subset simulation algorithm.\n",
    "\n",
    "\n",
    "In case of rare event probability estimation, the surrogate model has to be accurate in the zones that are relevant to the failure probability estimation i.e. in the vicinity of failure threshold $T$ and in the high probability content regions. The use of the exact function $\\phi$ and its surrogate $\\hat{\\phi}$ in the probability calculation will lead to the same result if $\\forall \\mathbf{x} \\in \\mathbb{R}^d, \\mathbf{1}_{\\phi(\\mathbf{x})>T} = \\mathbf{1}_{\\hat{\\phi}(\\mathbf{x},\\mathcal{X})>T}$. In other words, the surrogate model might not be representative of the exact function outside the zones of interest as it does not take part of the probability estimation. From the initial training set $\\mathcal{X}$, the Gaussian process properties (i.e. estimation of the predicted error variance) are  valuable to determine the additional samples which have to be evaluated on $\\phi(\\cdot)$ to refine its surrogate model. Different refinement strategies have been developed in the literature. Here, the method described in [Echard 2011] is implemented  (\"U criterion\").\n",
    "\n",
    "\n",
    "This method determines a new sample point $\\mathbf{x}$ to add to the training set $\\mathcal{X}$ by solving the following optimisation problem:\n",
    "\\begin{equation}\n",
    "\\underset{\\mathbf{x}}{\\max}  \\left[1 - \\Phi_{0,1}\\left( \\frac{|T-\\hat{\\phi}(\\mathbf{x},\\mathcal{X})|}{\\hat{\\sigma}(\\mathbf{x},\\mathcal{X})}\\right)\\right], \\label{eq:echard}\n",
    "\\end{equation}\n",
    "where $\\Phi_{0,1}(\\cdot)$ is the cdf of the standard Gaussian distribution, $\\hat{\\phi}$ the mean prediction of the Kriging and $\\hat{\\sigma}$ the estimated standard deviation of the prediction error. The used criterion generates a sample for which the Kriging prediction is closed to the threshold  (numerator) and which presents a high prediction error (denominator). Due to the monotonicity of the involved cdf, the optimisation problem is equivalent to:\n",
    "\\begin{equation}\n",
    "\\underset{\\mathbf{x}}{\\min}\\;  \\frac{|T-\\hat{\\phi}(\\mathbf{x},\\mathcal{X})|}{\\hat{\\sigma}(\\mathbf{x},\\mathcal{X})}. \\label{eq:echard2}\n",
    "\\end{equation}\n",
    "This criterion has been coupled with Subset Sampling. In practice, the optimisation problem is not solved, and given a sample set $\\{\\mathbf{X}_1,\\dots, \\mathbf{X}_N\\}$ provided by the simulation algorithme the new sample which will be added to the training set is determined by\n",
    "\\begin{equation*}\n",
    "\\mathbf{X} = \\underset{\\mathbf{X}_1,\\dots,\\mathbf{X}_N}{\\text{argmin}}  \\left\\{\\frac{|T-\\hat{\\phi}(\\mathbf{X}_1,\\mathcal{X})|}{\\hat{\\sigma}(\\mathbf{X}_1,\\mathcal{X})},\\dots, \\frac{|T-\\hat{\\phi}(\\mathbf{X}_N,\\mathcal{X})|}{\\hat{\\sigma}(\\mathbf{X}_N,\\mathcal{X})}     \\right\\}.\n",
    "\\end{equation*}\n",
    "\n",
    "\n",
    "In this notebook, this criterion is implemented with subset simulation.\n"
   ]
  },
  {
   "cell_type": "code",
   "execution_count": 2,
   "metadata": {
    "scrolled": true
   },
   "outputs": [],
   "source": [
    "\n",
    "class AK_SSAlgorithm(object):\n",
    "    \"\"\"\n",
    "    Class implementing AK SS algorithm\n",
    "\t \n",
    "    :event: ThresholdEvent based on composite vector of input variables on limit state function \n",
    "    \n",
    "    :n_SS: integer, number of SS samples\n",
    "    \n",
    "    :n_DoE: integer, number of samples in initial Kriging DoE\n",
    "    \n",
    "    :sim_budget: integer, total simulation budget available\n",
    "    \n",
    "    :basis: basis of kriging model\n",
    "    \n",
    "    :cov_model: covariance model of kriging\n",
    "\t\n",
    "    :proposal_range: proposal range of SubsetSampling\n",
    "    \n",
    "    :target_proba: targetProbability of SubsetSampling\n",
    "    \n",
    "    :cv_target: target coefficient of variation \n",
    "        \n",
    "    :u_criterion: float, threshold value for `u criterion`\n",
    "    \n",
    "    :verbose: verbosity parameter \n",
    "        \n",
    "    \"\"\"\n",
    "    \n",
    "    def __init__(self,event,n_SS,n_DoE,sim_budget,basis, cov_model,proposal_range = 1.,target_proba=0.5,cv_target = 0.05,criterion = 2,verbose = False):\n",
    "        self.n_SS = n_SS\n",
    "        self.n_DoE = n_DoE\n",
    "        self.limit_state_function = event.getFunction()\n",
    "        self.S = event.getThreshold()\n",
    "        self.basis = basis\n",
    "        self.cov_model = cov_model\n",
    "        self.dim = event.getAntecedent().getDimension()\n",
    "        self.proba = 0.\n",
    "        self.distrib = event.getAntecedent().getDistribution()\n",
    "        self.nb_eval = 0\n",
    "        self.cv = 1e4\n",
    "        self.max_sim = sim_budget\n",
    "        self.U_criterion = criterion\n",
    "        self.DoE = None\n",
    "        self.kriging_model = None\n",
    "        self.verbose = verbose\n",
    "        self.samples_SS = None\n",
    "        self.operator = event.getOperator()\n",
    "        self.event = event\n",
    "        self.cv_target = cv_target\n",
    "        self.proposal_range = proposal_range\n",
    "        self.target_proba = target_proba\n",
    "        self.discrepancy_LHS = 5\n",
    "        \n",
    "        \n",
    "    #Function determining the U criterion of AK -SS\n",
    "    def compute_U(self,my_krig,list_id_evaluated):\n",
    "        \"\"\"\n",
    "        Function computing the infill criterion\n",
    "        \n",
    "        :my_krig: Kriging model :py:class:`openturns.KrigingResult`\n",
    "        \n",
    "        :list_id_evaluated: list of evaluated :py:class:`openturns.Sample`\n",
    "        \"\"\"        \n",
    "        y_pred = my_krig.getConditionalMean(self.samples_SS)\n",
    "        y_var_pred = my_krig.getConditionalMarginalVariance(self.samples_SS)\n",
    "        \n",
    "        list_id_non_evaluated = np.setdiff1d(np.arange(self.n_SS),list_id_evaluated)\n",
    "        U = np.zeros((self.n_SS,1))\n",
    "        \n",
    "        U[list_id_non_evaluated] = np.abs(ot.Sample([ot.Point([self.S])]*int(len(list_id_non_evaluated)))-y_pred[list_id_non_evaluated])/np.sqrt(y_var_pred[list_id_non_evaluated])\n",
    "       \n",
    "        if len(list_id_evaluated)>0:\n",
    "            U[list_id_evaluated] = 5e5\n",
    "        return U\n",
    "\n",
    "    #Function computing the probability of failure\n",
    "    def compute_proba(self):\n",
    "        \"\"\"\n",
    "        Function computing failure probability using AK-SS\n",
    "        \n",
    "        \n",
    "        \"\"\"                       \n",
    "        #Generation of DoE using LHS\n",
    "        liste_densite = []\n",
    "        for i in range(self.distrib.getDimension()):\n",
    "            liste_densite.append(ot.Uniform(self.distrib.getMarginal(i).getMean()[0]- self.discrepancy_LHS*self.distrib.getMarginal(i).getStandardDeviation()[0],\n",
    "                                            self.distrib.getMarginal(i).getMean()[0]+ self.discrepancy_LHS*self.distrib.getMarginal(i).getStandardDeviation()[0]))\n",
    "\n",
    "        dist_LHS = ot.ComposedDistribution(liste_densite)   \n",
    "        exp_LHS = ot.LHSExperiment(dist_LHS,self.n_DoE)    \n",
    "        \n",
    "        DoE_inputs = exp_LHS.generate()\n",
    "    \n",
    "        # Calculation of True function of the DoE\n",
    "        DoE_responses = self.limit_state_function(DoE_inputs)\n",
    "        \n",
    "        current_iter = 1\n",
    "        nb_pt_sim=0\n",
    "        \n",
    "        while (self.cv>self.cv_target and nb_pt_sim<self.max_sim) :                \n",
    "            if current_iter ==1: #first iter\n",
    "                #Generation of experiment ### modification of initial algorithm --> not taking into account the first iteration of SS but another sampling \n",
    "                \n",
    "                ot.RandomGenerator.SetSeed(1)\n",
    "                myExperiment = ot.MonteCarloExperiment(self.distrib, self.n_SS)\n",
    "                self.samples_SS = myExperiment.generate()\n",
    "                \n",
    "                list_id_samples_evaluated=[]\n",
    "                \n",
    "                #Generation of Kriging model\n",
    "                    \n",
    "                algokriging = ot.KrigingAlgorithm(DoE_inputs, \n",
    "                                                  DoE_responses,\n",
    "                                                  self.cov_model,\n",
    "                                                  self.basis)\n",
    "                \n",
    "                \n",
    "                solver_kriging = ot.NLopt('GN_DIRECT')\n",
    "                algokriging.setOptimizationAlgorithm(solver_kriging)\n",
    "                algokriging.setOptimizationBounds(ot.Interval([0.01]*self.dim, [100]*self.dim))\n",
    "                algokriging.run()\n",
    "                my_krig = algokriging.getResult()\n",
    "                metamodel = my_krig.getMetaModel()\n",
    "\n",
    "                updated_cov = my_krig.getCovarianceModel()\n",
    "                U_y_pred = self.compute_U(my_krig,list_id_samples_evaluated)\n",
    "                id_opt_U=np.argmin(U_y_pred)\n",
    "                current_min_U = np.min(U_y_pred)\n",
    "                list_id_samples_evaluated.append(id_opt_U)\n",
    "                \n",
    "            else: # Add points to current first iter of MC algo\n",
    "                samples_additional_MC = myExperiment.generate()\n",
    "                self.samples_SS = ot.Sample(np.concatenate((self.samples_SS,samples_additional_MC)))\n",
    "                self.n_SS=  self.samples_SS.getSize()\n",
    "                #Compute u criterion on these samples\n",
    "                U_y_pred = self.compute_U(my_krig,list_id_samples_evaluated)\n",
    "                id_opt_U=np.argmin(U_y_pred)\n",
    "                current_min_U = np.min(U_y_pred)\n",
    "                list_id_samples_evaluated.append(id_opt_U)\n",
    "\n",
    "            while nb_pt_sim<self.max_sim and current_min_U < self.U_criterion:\n",
    "                    #evaluation of true function\n",
    "                    x_new = self.samples_SS[int(id_opt_U)]\n",
    "                    y_new = self.limit_state_function(x_new)\n",
    "\n",
    "                    DoE_inputs.add(x_new)\n",
    "                    DoE_responses.add(y_new)\n",
    "                    # Definition of Kriging model\n",
    "\n",
    "                    startingPoint = updated_cov.getScale()\n",
    "                    algokriging = ot.KrigingAlgorithm(DoE_inputs, \n",
    "                                                      DoE_responses,\n",
    "                                                      self.cov_model,\n",
    "                                                      self.basis)\n",
    "                    \n",
    "                    solver_kriging = ot.NLopt('GN_DIRECT')\n",
    "                    solver_kriging.setStartingPoint(startingPoint)\n",
    "                    algokriging.setOptimizationAlgorithm(solver_kriging)\n",
    "                    algokriging.setOptimizationBounds(ot.Interval([0.01]*self.dim, [100]*self.dim))\n",
    "                    algokriging.run()\n",
    "                    my_krig = algokriging.getResult()\n",
    "                    metamodel = my_krig.getMetaModel()\n",
    "            \n",
    "                    updated_cov = my_krig.getCovarianceModel()\n",
    "                    # computation of U\n",
    "                    U_y_pred = self.compute_U(my_krig,list_id_samples_evaluated)\n",
    "                    current_min_U = np.min(U_y_pred)\n",
    "                    id_opt_U = np.argmin(U_y_pred)         \n",
    "                    nb_pt_sim = nb_pt_sim+1\n",
    "                    list_id_samples_evaluated.append(id_opt_U)\n",
    "                    \n",
    "\n",
    "                    self.nb_eval = self.n_DoE+nb_pt_sim\n",
    "                    self.DoE = [DoE_inputs,DoE_responses]\n",
    "                    self.kriging_model = my_krig\n",
    "\n",
    "                    '''if self.verbose == True:\n",
    "                        if nb_pt_sim == 1:\n",
    "                            print('current_min_U', '| Nb_sim')\n",
    "                            print('{:9e}'.format(current_min_U),' | ','{:5d}'.format(int(nb_pt_sim)))\n",
    "\n",
    "                        else:\n",
    "                            print('{:9e}'.format(current_min_U),' | ','{:5d}'.format(int(nb_pt_sim)))'''\n",
    "\n",
    "            #run of subsetsampling algorithm\n",
    "            \n",
    "            inputVector = ot.RandomVector(self.distrib)\n",
    "            Y_kr = ot.CompositeRandomVector(metamodel, inputVector)\n",
    "            my_eventkriging = ot.ThresholdEvent(Y_kr,self.operator,self.S)               \n",
    "            SS_kr = ot.SubsetSampling(my_eventkriging,self.proposal_range,self.target_proba)\n",
    "            SS_kr.setMaximumOuterSampling(self.n_SS)\n",
    "            SS_kr.setKeepEventSample(True)\n",
    "            SS_kr.run()\n",
    "            res = SS_kr.getResult()\n",
    "            self.proba = res.getProbabilityEstimate()\n",
    "            self.cv = res.getCoefficientOfVariation()\n",
    "            self.samples = SS_kr.getEventInputSample()\n",
    "            if self.verbose == True:\n",
    "                if current_iter ==1 :\n",
    "\n",
    "                    print('current_iter', '| Nb_sim',' | Probability estimate', ' | Coefficient of variation')\n",
    "                    print('{:9d}'.format(int(current_iter)),'   | ','{:5d}'.format(int(nb_pt_sim)),' |      ','{:11e}'.format(self.proba),'   |      ','{:11e}'.format(self.cv))\n",
    "                \n",
    "                else: \n",
    "                    print('{:9d}'.format(int(current_iter)),'   | ','{:5d}'.format(int(nb_pt_sim)),' |      ','{:11e}'.format(self.proba),'   |      ','{:11e}'.format(self.cv))\n",
    "                    \n",
    "            \n",
    "            current_iter+=1\n",
    "\n",
    "        return \n",
    "                   \n",
    "    #Accessor to the number of evaluated samples             \n",
    "    def getSimBudget(self):\n",
    "        \"\"\"\n",
    "        Accessor to the simulation budget\n",
    "        \n",
    "        \"\"\"     \n",
    "        return self.nb_eval\n",
    "    \n",
    "    #Accessor to the kriging model \n",
    "    def getKrigingModel(self):\n",
    "        \"\"\"\n",
    "        Accessor to Kriging model,  :py:class:`openturns.KrigingResult`         \n",
    "        \n",
    "        \"\"\"        \n",
    "        return self.kriging_model\n",
    "                   \n",
    "    #Accessor to the DoE\n",
    "    def getDoE(self):\n",
    "        \"\"\"\n",
    "        Accessor to the Design of Experiments, :py:class:`openturns.Sample`\n",
    "        \n",
    "        \"\"\"\n",
    "        return self.DoE\n",
    "    \n",
    "    #Accessor to the failure probability\n",
    "    def getFailureProbability(self):\n",
    "        \"\"\"\n",
    "        Accessor to failure probability\n",
    "        \n",
    "        \"\"\"\n",
    "        return self.proba\n",
    "    \n",
    "    #Accessor to the failure probability\n",
    "    def getCoefficientOfVariation(self):\n",
    "        \"\"\"\n",
    "        Accessor to coefficient of variation\n",
    "        \n",
    "        \"\"\"\n",
    "        return self.cv      \n",
    "    \n",
    "    #Accessor to the SubsetSampling samples\n",
    "    def getEventSamples(self):\n",
    "        \n",
    "        \"\"\"\n",
    "        Accessor to Event samples,  :py:class:`openturns.Sample`\n",
    "        \n",
    "        \"\"\"\n",
    "        return self.samples"
   ]
  },
  {
   "cell_type": "markdown",
   "metadata": {},
   "source": [
    "# Numerical experiments"
   ]
  },
  {
   "cell_type": "markdown",
   "metadata": {},
   "source": [
    "## Experiment 1 : \"four branch function\"\n",
    "\n",
    "$$G(x_1,x_2) = min \\begin{pmatrix}3+0.1(x_1-x_2)^2-\\frac{(x_1+x_2)}{\\sqrt{2}};\\\\3+0.1(x_1-x_2)^2+\\frac{(x_1+x_2)}{\\sqrt{2}};\\\\\n",
    "(x_1-x_2)+ \\frac{k}{\\sqrt{2}};\\\\\n",
    "(x_2-x_1)+ \\frac{k}{\\sqrt{2}}\n",
    "\\end{pmatrix}$$\n",
    "\n",
    "with : \n",
    "* $k$ is equal to 6 or 7\n",
    "* $x_1 \\sim \\mathcal{N}(0,1)$\n",
    "* $x_2 \\sim \\mathcal{N}(0,1)$\n"
   ]
  },
  {
   "cell_type": "markdown",
   "metadata": {},
   "source": [
    "### Definition of input variable probability distributions"
   ]
  },
  {
   "cell_type": "code",
   "execution_count": 3,
   "metadata": {},
   "outputs": [],
   "source": [
    "dim_inputs = 2\n",
    "dist_x = ot.Normal([0.0, 0.0], [1., 1.], ot.CorrelationMatrix(dim_inputs))\n",
    "inputVector = ot.RandomVector(dist_x)"
   ]
  },
  {
   "cell_type": "markdown",
   "metadata": {},
   "source": [
    "### Definition of limit state function"
   ]
  },
  {
   "cell_type": "code",
   "execution_count": 4,
   "metadata": {},
   "outputs": [],
   "source": [
    "#Definition of limit state function\n",
    "def four_branch(x):\n",
    "    x1 = x[0]\n",
    "    x2  = x[1]\n",
    "    k = x[2]\n",
    "    g1 = 3+0.1*(x1-x2)**2-(x1+x2)/np.sqrt(2)\n",
    "    g2 = 3+0.1*(x1-x2)**2+(x1+x2)/np.sqrt(2)\n",
    "    g3 = (x1-x2)+k/np.sqrt(2)\n",
    "    g4 =(x2-x1)+k/np.sqrt(2)\n",
    "    return [min((g1,g2,g3,g4))]\n",
    "\n",
    "# Definition of pythonfunction\n",
    "my_four_branch = ot.PythonFunction(3, 1, four_branch)\n",
    "index_frozen = [2]\n",
    "my_four_branch_6 = ot.ParametricFunction(my_four_branch, index_frozen, [6])\n",
    "my_four_branch_7 = ot.ParametricFunction(my_four_branch, index_frozen, [7])\n",
    "\n",
    "\n",
    "# Definition of event\n",
    "Y = ot.CompositeRandomVector(my_four_branch_6, inputVector)\n",
    "my_event4b = ot.ThresholdEvent(Y,ot.Less(),0.0)"
   ]
  },
  {
   "cell_type": "markdown",
   "metadata": {},
   "source": [
    "### Estimation of reference probability with Monte Carlo"
   ]
  },
  {
   "cell_type": "code",
   "execution_count": 5,
   "metadata": {},
   "outputs": [
    {
     "name": "stdout",
     "output_type": "stream",
     "text": [
      "Failure probability 0.004399999999999991\n",
      "Coefficient of variation 0.1504236441762826\n"
     ]
    },
    {
     "name": "stderr",
     "output_type": "stream",
     "text": [
      "D:\\mbalesde\\Logiciels\\Externes\\Anaconda3\\lib\\site-packages\\ipykernel_launcher.py:1: DeprecationWarning: `np.int` is a deprecated alias for the builtin `int`. To silence this warning, use `int` by itself. Doing this will not modify any behavior and is safe. When replacing `np.int`, you may wish to use e.g. `np.int64` or `np.int32` to specify the precision. If you wish to review your current use, check the release note link for additional information.\n",
      "Deprecated in NumPy 1.20; for more details and guidance: https://numpy.org/devdocs/release/1.20.0-notes.html#deprecations\n",
      "  \"\"\"Entry point for launching an IPython kernel.\n"
     ]
    }
   ],
   "source": [
    "n_MC = np.int(1e4)\n",
    "\n",
    "# Creation of event\n",
    "ot.RandomGenerator.SetSeed(1)\n",
    "# create a Monte Carlo algorithm\n",
    "experiment = ot.MonteCarloExperiment()\n",
    "algo = ot.ProbabilitySimulationAlgorithm(my_event4b, experiment)\n",
    "algo.setMaximumOuterSampling(int(n_MC))\n",
    "algo.run()\n",
    "\n",
    "# retrieve results\n",
    "result = algo.getResult()\n",
    "probability = result.getProbabilityEstimate()\n",
    "print('Failure probability', probability)\n",
    "print('Coefficient of variation', result.getCoefficientOfVariation())"
   ]
  },
  {
   "cell_type": "markdown",
   "metadata": {},
   "source": [
    "### Estimation of reference probability with Subset simulation"
   ]
  },
  {
   "cell_type": "code",
   "execution_count": 6,
   "metadata": {},
   "outputs": [],
   "source": [
    "algo = ot.SubsetSampling(my_event4b,1.,0.5)\n",
    "algo.run()"
   ]
  },
  {
   "cell_type": "code",
   "execution_count": 7,
   "metadata": {},
   "outputs": [
    {
     "name": "stdout",
     "output_type": "stream",
     "text": [
      "Failure probability with subset simulation 0.004373437500000062\n",
      "coeff variation 0.03297748538188446\n"
     ]
    }
   ],
   "source": [
    "res = algo.getResult()\n",
    "print('Failure probability with subset simulation',res.getProbabilityEstimate())\n",
    "print('coeff variation',res.getCoefficientOfVariation())"
   ]
  },
  {
   "cell_type": "markdown",
   "metadata": {},
   "source": [
    "## Definition of AK-SS experiment"
   ]
  },
  {
   "cell_type": "code",
   "execution_count": 8,
   "metadata": {},
   "outputs": [],
   "source": [
    "# Definition of Kriging model\n",
    "dim_4b = 2\n",
    "basis = ot.ConstantBasisFactory(dim_4b).build()\n",
    "covarianceModel = ot.MaternModel(dim_4b)\n",
    "n_MC_4b = 1000\n",
    "n_DoE_4b = 10\n",
    "sim_budget_4b = 200\n",
    "verbose = True\n",
    "criterion = 2\n",
    "\n",
    "proposal_range = 1.\n",
    "target_proba=0.1\n",
    "cv_target = 0.05\n",
    "\n",
    "my_AK_four_branch = AK_SSAlgorithm(my_event4b,\n",
    "                                    n_MC_4b,\n",
    "                                    n_DoE_4b,\n",
    "                                    sim_budget_4b,\n",
    "                                    basis,\n",
    "                                    covarianceModel,\n",
    "                                   proposal_range,\n",
    "                                   target_proba,\n",
    "                                    cv_target,\n",
    "                                    criterion,\n",
    "                                    verbose)"
   ]
  },
  {
   "cell_type": "markdown",
   "metadata": {},
   "source": [
    "### Computation of the failure probability with AK-SS"
   ]
  },
  {
   "cell_type": "code",
   "execution_count": 9,
   "metadata": {},
   "outputs": [
    {
     "name": "stdout",
     "output_type": "stream",
     "text": [
      "current_iter | Nb_sim  | Probability estimate  | Coefficient of variation\n",
      "        1    |     11  |       3.370000e-03    |       2.202809e-01\n",
      "        2    |     16  |       3.660000e-03    |       1.543370e-01\n",
      "        3    |     26  |       3.543333e-03    |       1.303058e-01\n",
      "        4    |     28  |       4.660000e-03    |       1.080701e-01\n",
      "        5    |     30  |       4.554000e-03    |       1.012129e-01\n",
      "        6    |     33  |       3.938333e-03    |       8.713807e-02\n",
      "        7    |     38  |       4.575714e-03    |       8.385247e-02\n",
      "        8    |     42  |       5.388750e-03    |       7.800110e-02\n",
      "        9    |     42  |       3.747778e-03    |       7.122927e-02\n",
      "       10    |     42  |       4.731000e-03    |       7.053764e-02\n",
      "       11    |     43  |       4.251818e-03    |       6.538979e-02\n",
      "       12    |     44  |       3.962500e-03    |       6.720151e-02\n",
      "       13    |     46  |       4.456154e-03    |       6.282221e-02\n",
      "       14    |     48  |       4.355000e-03    |       5.930285e-02\n",
      "       15    |     54  |       4.189333e-03    |       5.769056e-02\n",
      "       16    |     54  |       4.243750e-03    |       5.556823e-02\n",
      "       17    |     56  |       4.631765e-03    |       5.439271e-02\n",
      "       18    |     58  |       4.847222e-03    |       5.279304e-02\n",
      "       19    |     58  |       4.589474e-03    |       5.130081e-02\n",
      "       20    |     58  |       4.350000e-03    |       5.011552e-02\n",
      "       21    |     59  |       4.420952e-03    |       4.973072e-02\n"
     ]
    }
   ],
   "source": [
    "#computation of probability with AK-SS\n",
    "my_AK_four_branch.compute_proba()"
   ]
  },
  {
   "cell_type": "code",
   "execution_count": 10,
   "metadata": {},
   "outputs": [
    {
     "name": "stdout",
     "output_type": "stream",
     "text": [
      "Probability of failure 0.004420952380952374\n",
      "Simulation budget 69\n",
      "Coefficient of variation 0.04973071817915218\n"
     ]
    }
   ],
   "source": [
    "print('Probability of failure',my_AK_four_branch.getFailureProbability())\n",
    "print('Simulation budget',my_AK_four_branch.getSimBudget())\n",
    "print('Coefficient of variation',my_AK_four_branch.getCoefficientOfVariation())"
   ]
  },
  {
   "cell_type": "markdown",
   "metadata": {},
   "source": [
    " ### Post treatments"
   ]
  },
  {
   "cell_type": "code",
   "execution_count": 11,
   "metadata": {},
   "outputs": [],
   "source": [
    "#Kriging model \n",
    "kr = my_AK_four_branch.getKrigingModel()\n",
    "[DoE_four_branch_x,DoE_four_branch_y]= my_AK_four_branch.getDoE()\n",
    "ss_samples = my_AK_four_branch.getEventSamples()"
   ]
  },
  {
   "cell_type": "code",
   "execution_count": 12,
   "metadata": {},
   "outputs": [
    {
     "name": "stderr",
     "output_type": "stream",
     "text": [
      "D:\\mbalesde\\Logiciels\\Externes\\Anaconda3\\lib\\site-packages\\ipykernel_launcher.py:28: MatplotlibDeprecationWarning: shading='flat' when X and Y have the same dimensions as C is deprecated since 3.3.  Either specify the corners of the quadrilaterals with X and Y, or pass shading='auto', 'nearest' or 'gouraud', or set rcParams['pcolor.shading'].  This will become an error two minor releases later.\n",
      "D:\\mbalesde\\Logiciels\\Externes\\Anaconda3\\lib\\site-packages\\ipykernel_launcher.py:32: MatplotlibDeprecationWarning: shading='flat' when X and Y have the same dimensions as C is deprecated since 3.3.  Either specify the corners of the quadrilaterals with X and Y, or pass shading='auto', 'nearest' or 'gouraud', or set rcParams['pcolor.shading'].  This will become an error two minor releases later.\n",
      "D:\\mbalesde\\Logiciels\\Externes\\Anaconda3\\lib\\site-packages\\ipykernel_launcher.py:41: MatplotlibDeprecationWarning: shading='flat' when X and Y have the same dimensions as C is deprecated since 3.3.  Either specify the corners of the quadrilaterals with X and Y, or pass shading='auto', 'nearest' or 'gouraud', or set rcParams['pcolor.shading'].  This will become an error two minor releases later.\n"
     ]
    },
    {
     "data": {
      "image/png": "[encoded data removed]",
      "text/plain": [
       "<Figure size 1944x648 with 6 Axes>"
      ]
     },
     "metadata": {
      "needs_background": "light"
     },
     "output_type": "display_data"
    }
   ],
   "source": [
    "#Plot of surrogate model\n",
    "import matplotlib.pyplot as plt\n",
    "\n",
    "grid_size = 100\n",
    "x1 = np.linspace(-4,4,grid_size)\n",
    "x2 = np.linspace(-4,4,grid_size)\n",
    "\n",
    "xx1,xx2 = np.meshgrid(x1,x2)\n",
    "\n",
    "xx1_ = xx1.reshape((grid_size**2,1))\n",
    "xx2_ = xx2.reshape((grid_size**2,1))\n",
    "\n",
    "x = np.concatenate((xx1_,xx2_),1)\n",
    "                  \n",
    "y_true = np.array(my_four_branch_7(x))\n",
    "y_mean_krig =np.array(kr.getConditionalMean(x))     \n",
    "                   \n",
    "y_sigma_krig = np.array(np.sqrt(kr.getConditionalMarginalVariance(x)))\n",
    "\n",
    "y_true = y_true.reshape((grid_size,grid_size))\n",
    "y_mean_krig = y_mean_krig.reshape((grid_size,grid_size))\n",
    "y_sigma_krig= y_sigma_krig.reshape((grid_size,grid_size))\n",
    "\n",
    "cmap = mpl.cm.hsv\n",
    "norm = mpl.colors.Normalize(vmin=-10, vmax=10)\n",
    "%matplotlib inline \n",
    "fig, (ax0, ax1,ax2) = plt.subplots(ncols=3,figsize=(27,9))\n",
    "im1 = ax0.pcolormesh(xx1,xx2,y_true,norm = norm,cmap = cmap)\n",
    "fig.colorbar(im1, ax=ax0)\n",
    "ax0.title.set_text('True function')\n",
    "\n",
    "im2 = ax1.pcolormesh(xx1,xx2,y_mean_krig,norm = norm,cmap = cmap)\n",
    "ax1.scatter(DoE_four_branch_x[0:my_AK_four_branch.n_DoE,0],DoE_four_branch_x[0:my_AK_four_branch.n_DoE,1],color = 'r')\n",
    "ax1.scatter(DoE_four_branch_x[my_AK_four_branch.n_DoE:,0],DoE_four_branch_x[my_AK_four_branch.n_DoE:,1])\n",
    "\n",
    "ax1.scatter(np.array(ss_samples)[:,0],np.array(ss_samples)[:,1],marker  = '+')\n",
    "\n",
    "fig.colorbar(im2, ax=ax1)\n",
    "ax1.title.set_text('Kriging response and added samples')\n",
    "\n",
    "im3 = ax2.pcolormesh(xx1,xx2,y_sigma_krig,norm = norm,cmap = cmap)\n",
    "fig.colorbar(im3, ax=ax2)\n",
    "ax2.title.set_text('Kriging error')"
   ]
  },
  {
   "cell_type": "markdown",
   "metadata": {},
   "source": [
    "## Experiment 2 : \"Non linear oscillator\"\n",
    "\n",
    "$G(c_1,c_2,m,r,t_1,F_1)  = 3r-\\left|\\frac{2 F_1}{m \\omega_0^2}sin\\left(\\frac{\\omega_0 t_1}{2}\\right)\\right|$\n",
    "\n",
    "with : \n",
    "* $\\omega_0 = \\sqrt{\\left(\\frac{c_1+c_2}{m}\\right)}$\n",
    "* $m \\sim \\mathcal{N}(1,0.05)$\n",
    "* $c_1 \\sim \\mathcal{N}(1,0.1)$\n",
    "* $c_2 \\sim \\mathcal{N}(0.1,0.01)$\n",
    "* $r \\sim \\mathcal{N}(0.5,0.05)$\n",
    "* $F_1 \\sim \\mathcal{N}(1.,0.2)$\n",
    "* $r \\sim \\mathcal{N}(1.,0.2)$"
   ]
  },
  {
   "cell_type": "markdown",
   "metadata": {},
   "source": [
    "### Definition of input variable probability distributions"
   ]
  },
  {
   "cell_type": "code",
   "execution_count": 13,
   "metadata": {},
   "outputs": [],
   "source": [
    "dist_c1=ot.Normal(1, 0.1)\n",
    "dist_c2=ot.Normal(0.1, 0.01)\n",
    "dist_m=ot.Normal(1.,0.05 )\n",
    "dist_r =ot.Normal(0.5, 0.05)\n",
    "dist_t1 =ot.Normal(1., 0.2)\n",
    "dist_F1=ot.Normal(1., 0.2)\n",
    "std_dev = [dist_c1.getStandardDeviation()[0],dist_c2.getStandardDeviation()[0],dist_m.getStandardDeviation()[0],\n",
    "           dist_r.getStandardDeviation()[0],dist_t1.getStandardDeviation()[0],dist_F1.getStandardDeviation()[0]]\n",
    "dim_inputs=6\n",
    "marginals = [dist_c1,dist_c2,dist_m,dist_r,dist_t1,dist_F1]\n",
    "dist_x = ot.ComposedDistribution(marginals)\n"
   ]
  },
  {
   "cell_type": "markdown",
   "metadata": {},
   "source": [
    "### Definition of model"
   ]
  },
  {
   "cell_type": "code",
   "execution_count": 14,
   "metadata": {},
   "outputs": [],
   "source": [
    "#Definition of classical function\n",
    "def non_lin_osc(x):\n",
    "    c1 = x[0]\n",
    "    c2  = x[1]\n",
    "    m = x[2]\n",
    "    r = x[3]\n",
    "    t1 = x[4]\n",
    "    F1= x[5]\n",
    "    \n",
    "    omega = np.sqrt((c1+c2)/m)\n",
    "    \n",
    "    G = 3*r - np.abs(2*F1/(m*omega**2)*np.sin(omega*t1/2))\n",
    "    return [G]\n",
    "\n",
    "# Definition of python function\n",
    "non_lin_osc = ot.PythonFunction(6, 1, non_lin_osc)\n",
    "\n",
    "# Creation of event\n",
    "vect = ot.RandomVector(dist_x)\n",
    "G = ot.CompositeRandomVector(non_lin_osc, vect)\n",
    "event_osc = ot.ThresholdEvent(G, ot.Less(), 0.0)"
   ]
  },
  {
   "cell_type": "markdown",
   "metadata": {},
   "source": [
    "### Estimation of reference probability with Monte Carlo"
   ]
  },
  {
   "cell_type": "code",
   "execution_count": 15,
   "metadata": {},
   "outputs": [
    {
     "name": "stdout",
     "output_type": "stream",
     "text": [
      "Failure probability 0.030000000000000006\n",
      "Coefficient of variation 0.05686240703077324\n"
     ]
    },
    {
     "name": "stderr",
     "output_type": "stream",
     "text": [
      "D:\\mbalesde\\Logiciels\\Externes\\Anaconda3\\lib\\site-packages\\ipykernel_launcher.py:1: DeprecationWarning: `np.int` is a deprecated alias for the builtin `int`. To silence this warning, use `int` by itself. Doing this will not modify any behavior and is safe. When replacing `np.int`, you may wish to use e.g. `np.int64` or `np.int32` to specify the precision. If you wish to review your current use, check the release note link for additional information.\n",
      "Deprecated in NumPy 1.20; for more details and guidance: https://numpy.org/devdocs/release/1.20.0-notes.html#deprecations\n",
      "  \"\"\"Entry point for launching an IPython kernel.\n"
     ]
    }
   ],
   "source": [
    "n_MC = np.int(1e4)\n",
    "# create a Monte Carlo algorithm\n",
    "experiment = ot.MonteCarloExperiment()\n",
    "algo = ot.ProbabilitySimulationAlgorithm(event_osc, experiment)\n",
    "algo.setMaximumOuterSampling(int(n_MC))\n",
    "algo.setMaximumCoefficientOfVariation(0.01)\n",
    "\n",
    "algo.run()\n",
    "\n",
    "# retrieve results\n",
    "result = algo.getResult()\n",
    "probability = result.getProbabilityEstimate()\n",
    "print('Failure probability', probability)\n",
    "print('Coefficient of variation', result.getCoefficientOfVariation())"
   ]
  },
  {
   "cell_type": "markdown",
   "metadata": {},
   "source": [
    "## Definition of AK SS experiment"
   ]
  },
  {
   "cell_type": "code",
   "execution_count": 16,
   "metadata": {},
   "outputs": [],
   "source": [
    "# Definition of Kriging model\n",
    "dim_osc = 6\n",
    "\n",
    "basis = ot.ConstantBasisFactory(dim_osc).build()\n",
    "covarianceModel = ot.SquaredExponential([0.1]*dim_osc, [1.0])\n",
    "n_MC_osc = 1000\n",
    "n_DoE_osc = 40\n",
    "sim_budget_osc = 200\n",
    "verbose = True\n",
    "criterion = 2\n",
    "proposal_range = 1.\n",
    "target_proba=0.1\n",
    "cv_target = 0.05\n",
    "my_AK_non_lin_osc = AK_SSAlgorithm(event_osc,\n",
    "                                    n_MC_osc,\n",
    "                                    n_DoE_osc,\n",
    "                                    sim_budget_osc,\n",
    "                                    basis,\n",
    "                                    covarianceModel,\n",
    "                                    proposal_range,\n",
    "                                    target_proba,\n",
    "                                    cv_target,\n",
    "                                    criterion,\n",
    "                                    verbose)"
   ]
  },
  {
   "cell_type": "markdown",
   "metadata": {},
   "source": [
    "## Computation of failure probability"
   ]
  },
  {
   "cell_type": "code",
   "execution_count": 17,
   "metadata": {},
   "outputs": [
    {
     "name": "stdout",
     "output_type": "stream",
     "text": [
      "current_iter | Nb_sim  | Probability estimate  | Coefficient of variation\n",
      "        1    |      3  |       2.650000e-02    |       1.162332e-01\n",
      "        2    |      4  |       2.790000e-02    |       7.698129e-02\n",
      "        3    |      4  |       3.203333e-02    |       6.082379e-02\n",
      "        4    |      6  |       2.967500e-02    |       5.415765e-02\n",
      "        5    |      9  |       2.934000e-02    |       4.828189e-02\n"
     ]
    }
   ],
   "source": [
    "#computation of probability with AK-MCS\n",
    "my_AK_non_lin_osc.compute_proba()"
   ]
  },
  {
   "cell_type": "code",
   "execution_count": 18,
   "metadata": {},
   "outputs": [
    {
     "name": "stdout",
     "output_type": "stream",
     "text": [
      "Probability of failure: 0.029339999999999995\n",
      "Coefficient of variation: 0.048281886667285424\n",
      "Simulation budget: 49\n"
     ]
    }
   ],
   "source": [
    "print('Probability of failure:',my_AK_non_lin_osc.getFailureProbability())\n",
    "print('Coefficient of variation:',my_AK_non_lin_osc.getCoefficientOfVariation())\n",
    "print('Simulation budget:',my_AK_non_lin_osc.getSimBudget())"
   ]
  },
  {
   "cell_type": "code",
   "execution_count": null,
   "metadata": {},
   "outputs": [],
   "source": []
  },
  {
   "cell_type": "code",
   "execution_count": null,
   "metadata": {},
   "outputs": [],
   "source": []
  }
 ],
 "metadata": {
  "kernelspec": {
   "display_name": "Python 3",
   "language": "python",
   "name": "python3"
  },
  "language_info": {
   "codemirror_mode": {
    "name": "ipython",
    "version": 3
   },
   "file_extension": ".py",
   "mimetype": "text/x-python",
   "name": "python",
   "nbconvert_exporter": "python",
   "pygments_lexer": "ipython3",
   "version": "3.7.9"
  }
 },
 "nbformat": 4,
 "nbformat_minor": 4
}
