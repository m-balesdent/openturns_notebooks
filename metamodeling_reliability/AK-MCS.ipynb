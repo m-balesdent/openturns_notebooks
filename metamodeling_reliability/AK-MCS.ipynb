{
 "cells": [
  {
   "cell_type": "code",
   "execution_count": 1,
   "metadata": {},
   "outputs": [],
   "source": [
    "import openturns as ot\n",
    "import numpy as np\n",
    "import matplotlib as mpl"
   ]
  },
  {
   "cell_type": "markdown",
   "metadata": {},
   "source": [
    "# Implementation of AK-MCS\n",
    "\n",
    "## Sources :  \n",
    "* Echard, B., Gayton, N., & Lemaire, M. (2011). AK-MCS: an active learning reliability method combining Kriging and Monte Carlo simulation. Structural Safety, 33(2), 145-154.\n",
    "* B. Echard Phd thesis\n",
    "\n",
    "This notebook implements the AK- MCS method which couples Gaussian Process based surrogate model and Crude Monte Carlo algorithm.\n",
    "\n",
    "\n",
    "In case of rare event probability estimation, the surrogate model has to be accurate in the zones that are relevant to the failure probability estimation i.e. in the vicinity of failure threshold $T$ and in the high probability content regions. The use of the exact function $\\phi$ and its surrogate $\\hat{\\phi}$ in the probability calculation will lead to the same result if $\\forall \\mathbf{x} \\in \\mathbb{R}^d, \\mathbf{1}_{\\phi(\\mathbf{x})>T} = \\mathbf{1}_{\\hat{\\phi}(\\mathbf{x},\\mathcal{X})>T}$. In other words, the surrogate model might not be representative of the exact function outside the zones of interest as it does not take part of the probability estimation. From the initial training set $\\mathcal{X}$, the Gaussian process properties (i.e. estimation of the predicted error variance) are  valuable to determine the additional samples which have to be evaluated on $\\phi(\\cdot)$ to refine its surrogate model. Different refinement strategies have been developed in the literature. Here, the method described in [Echard 2011] is implemented  (\"U criterion\").\n",
    "\n",
    "\n",
    "This method determines a new sample point $\\mathbf{x}$ to add to the training set $\\mathcal{X}$ by solving the following optimisation problem:\n",
    "\\begin{equation}\n",
    "\\underset{\\mathbf{x}}{\\max}  \\left[1 - \\Phi_{0,1}\\left( \\frac{|T-\\hat{\\phi}(\\mathbf{x},\\mathcal{X})|}{\\hat{\\sigma}(\\mathbf{x},\\mathcal{X})}\\right)\\right], \\label{eq:echard}\n",
    "\\end{equation}\n",
    "where $\\Phi_{0,1}(\\cdot)$ is the cdf of the standard Gaussian distribution, $\\hat{\\phi}$ the mean prediction of the Kriging and $\\hat{\\sigma}$ the estimated standard deviation of the prediction error. The used criterion generates a sample for which the Kriging prediction is closed to the threshold  (numerator) and which presents a high prediction error (denominator). Due to the monotonicity of the involved cdf, the optimisation problem is equivalent to:\n",
    "\\begin{equation}\n",
    "\\underset{\\mathbf{x}}{\\min}\\;  \\frac{|T-\\hat{\\phi}(\\mathbf{x},\\mathcal{X})|}{\\hat{\\sigma}(\\mathbf{x},\\mathcal{X})}. \\label{eq:echard2}\n",
    "\\end{equation}\n",
    "This criterion has been coupled with CMC. In practice, the optimisation problem is not solved, and given a sample set $\\{\\mathbf{X}_1,\\dots, \\mathbf{X}_N\\}$ provided by CMC the new sample which will be added to the training set is determined by\n",
    "\\begin{equation*}\n",
    "\\mathbf{X} = \\underset{\\mathbf{X}_1,\\dots,\\mathbf{X}_N}{\\text{argmin}}  \\left\\{\\frac{|T-\\hat{\\phi}(\\mathbf{X}_1,\\mathcal{X})|}{\\hat{\\sigma}(\\mathbf{X}_1,\\mathcal{X})},\\dots, \\frac{|T-\\hat{\\phi}(\\mathbf{X}_N,\\mathcal{X})|}{\\hat{\\sigma}(\\mathbf{X}_N,\\mathcal{X})}     \\right\\}.\n",
    "\\end{equation*}\n",
    "\n",
    "\n",
    "In this notebook, this criterion is implemented with MCS simulation. The \"double loop\" that controls the coefficient of variation is not implemented in this notebook. The accuracy of the algorithm is driven by the number of samples in the Monte Carlo experiment."
   ]
  },
  {
   "cell_type": "markdown",
   "metadata": {},
   "source": [
    "## Definition of algorithm AK-MCS  class (implemented here with \"U\" criterion, see sources)"
   ]
  },
  {
   "cell_type": "code",
   "execution_count": 2,
   "metadata": {},
   "outputs": [],
   "source": [
    "### Definition of parameters \n",
    "# event : ThresholdEvent based on composite vector of input variables on limit state function \n",
    "# n_MC : number of CMC samples\n",
    "# n_DoE : number of samples in initial Kriging DoE\n",
    "# basis : basis of kriging model\n",
    "# cov_model : covariance model of kriging\n",
    "# sim_budget : maximal number of evaluation of limit state function\n",
    "# u_criterion : threshold value for \"u criterion\"\n",
    "# verbose : verbosity parameter \n",
    "\n",
    "class AK_MCSAlgorithm(object):\n",
    "    \n",
    "    def __init__(self,event,n_MC,n_DoE,sim_budget,basis, cov_model,u_criterion = 2,verbose = False):\n",
    "        self.n_MC = n_MC\n",
    "        self.n_DoE = n_DoE\n",
    "        self.limit_state_function = event.getFunction()\n",
    "        self.S = event.getThreshold()\n",
    "        self.basis = basis\n",
    "        self.cov_model = cov_model\n",
    "        self.dim = event.getAntecedent().getDimension()\n",
    "        self.proba = 0.\n",
    "        self.distrib = event.getAntecedent().getDistribution()\n",
    "        self.nb_eval = 0\n",
    "        self.cv = None\n",
    "        self.max_sim = sim_budget\n",
    "        self.U_criterion = u_criterion \n",
    "        self.DoE = None\n",
    "        self.kriging_model = None\n",
    "        self.verbose = verbose\n",
    "        self.samples = None\n",
    "        self.operator = event.getOperator()\n",
    "        self.event = event\n",
    "        \n",
    "    #Function determining the U criterion of AK -MCS\n",
    "    def compute_U(self,my_krig,list_id_evaluated):\n",
    "        \n",
    "        y_pred = my_krig.getConditionalMean(self.samples)\n",
    "        y_var_pred = my_krig.getConditionalMarginalVariance(self.samples)\n",
    "        \n",
    "        U = np.abs(ot.Point([self.S]*int(self.n_MC))-y_pred)/np.sqrt(y_var_pred)\n",
    "            \n",
    "        if len(list_id_evaluated)>0:\n",
    "            U[list_id_evaluated] = 5e5\n",
    "        return U\n",
    "\n",
    "    #Function computing the probability of failure\n",
    "    def compute_proba(self):\n",
    "            \n",
    "            #Generation of experiment\n",
    "            ot.RandomGenerator.SetSeed(1)\n",
    "            myExperiment = ot.MonteCarloExperiment(self.distrib, self.n_MC)\n",
    "            self.samples = myExperiment.generate()\n",
    "            \n",
    "            #Generation of DoE\n",
    "            DoE_inputs = self.samples[0:self.n_DoE]\n",
    "            # Calculation of True function of the DoE\n",
    "            DoE_responses = self.limit_state_function(DoE_inputs)\n",
    "            \n",
    "            list_id_samples_evaluated = np.linspace(0,self.n_DoE-1,self.n_DoE,dtype = int).tolist()\n",
    "            #Definition of Kriging algorithm\n",
    "            algokriging = ot.KrigingAlgorithm(DoE_inputs, \n",
    "                                              DoE_responses,\n",
    "                                              self.cov_model,\n",
    "                                              self.basis)\n",
    "\n",
    "            algokriging.run()\n",
    "            my_krig = algokriging.getResult()\n",
    "            updated_cov = my_krig.getCovarianceModel()\n",
    "            U_y_pred = self.compute_U(my_krig,list_id_samples_evaluated)\n",
    "            id_opt_U=np.argmin(U_y_pred)\n",
    "            current_min_U = np.min(U_y_pred)\n",
    "            nb_pt_sim = 0\n",
    "            list_id_samples_evaluated.append(id_opt_U)\n",
    "            \n",
    "            while nb_pt_sim<self.max_sim and current_min_U < self.U_criterion:\n",
    "                    #evaluation of true function\n",
    "                    x_new = self.samples[int(id_opt_U)]\n",
    "                    y_new = self.limit_state_function(x_new)\n",
    "\n",
    "                    DoE_inputs.add(x_new)\n",
    "                    DoE_responses.add(y_new)\n",
    "                    \n",
    "                    \n",
    "                    # Definition of Kriging model\n",
    "                    startingPoint =updated_cov.getScale()\n",
    "                    algokriging = ot.KrigingAlgorithm(DoE_inputs, \n",
    "                                                      DoE_responses,\n",
    "                                                      updated_cov,\n",
    "                                                      basis)\n",
    "                    \n",
    "                    \n",
    "                    solver_kriging = ot.NLopt('GN_DIRECT')\n",
    "                    solver_kriging.setStartingPoint(startingPoint)\n",
    "                    algokriging.setOptimizationAlgorithm(solver_kriging)\n",
    "                    algokriging.setOptimizationBounds(ot.Interval([0.01]*self.dim, [100]*self.dim))\n",
    "                    algokriging.run()\n",
    "                    my_krig = algokriging.getResult()\n",
    "                    updated_cov = my_krig.getCovarianceModel()\n",
    "\n",
    "                    # computation of U\n",
    "\n",
    "                    U_y_pred = self.compute_U(my_krig,list_id_samples_evaluated)\n",
    "                    current_min_U=np.min(U_y_pred)\n",
    "                    id_opt_U = np.argmin(U_y_pred)         \n",
    "                    nb_pt_sim = nb_pt_sim+1\n",
    "                    list_id_samples_evaluated.append(id_opt_U)\n",
    "                    \n",
    "\n",
    "                    y = my_krig.getConditionalMean(self.samples)\n",
    "                    I = [self.operator(y[i],self.S) for i in range(self.n_MC)]\n",
    "                    int_I = [int(i) for i in I]\n",
    "\n",
    "                    Pf = 1/self.n_MC*np.sum(np.array(int_I))\n",
    "                    \n",
    "                    self.cv = np.sqrt((1-Pf)/(self.n_MC*Pf))\n",
    "\n",
    "                    self.proba = Pf\n",
    "                    self.nb_eval = self.n_DoE+nb_pt_sim\n",
    "                    self.DoE = [DoE_inputs,DoE_responses]\n",
    "                    self.kriging_model = my_krig\n",
    "            \n",
    "                    if self.verbose == True:\n",
    "                        if nb_pt_sim == 1:\n",
    "                            print('current_min_U', '| Nb_sim',' | Probability estimate', ' | Coefficient of variation')\n",
    "                            print('{:9e}'.format(current_min_U),' | ','{:5d}'.format(int(nb_pt_sim)),' |      ','{:11e}'.format(Pf),'   |      ','{:11e}'.format(self.cv))\n",
    "\n",
    "                        else:\n",
    "                            print('{:9e}'.format(current_min_U),' | ','{:5d}'.format(int(nb_pt_sim)),' |      ','{:11e}'.format(Pf),'   |      ','{:11e}'.format(self.cv))\n",
    "                   \n",
    "                \n",
    "            return \n",
    "                   \n",
    "    #Accessor to the number of evaluated samples             \n",
    "    def getSimBudget(self):\n",
    "        return self.nb_eval\n",
    "    \n",
    "    #Accessor to the kriging model \n",
    "    def getKrigingModel(self):\n",
    "        \n",
    "        return self.kriging_model\n",
    "                   \n",
    "    #Accessor to the DoE\n",
    "    def getDoE(self):\n",
    "        return self.DoE\n",
    "    \n",
    "    #Accessor to the failure probability\n",
    "    def getFailureProbability(self):\n",
    "        return self.proba\n",
    "    \n",
    "    #Accessor to the failure probability\n",
    "    def getCoefficientOfVariation(self):\n",
    "        return self.cv        \n",
    "    \n",
    "    \n",
    "    #Accessor to the MonteCarlo samples\n",
    "    def getMonteCarloSamples(self):\n",
    "        return self.samples"
   ]
  },
  {
   "cell_type": "markdown",
   "metadata": {},
   "source": [
    "## Numerical experiments"
   ]
  },
  {
   "cell_type": "markdown",
   "metadata": {},
   "source": [
    "## Experiment 1 : Probability estimation on cantilever beam example\n",
    "\n",
    "http://openturns.github.io/openturns/latest/examples/reliability_sensitivity/estimate_probability_importance_sampling.html\n",
    "\n",
    "\n",
    "Analytical example of a cantilever beam, with Young’s modulus E, length L and section modulus I.\n",
    "\n",
    "One end of the cantilever beam is built in a wall and we apply a concentrated bending load F at the other end of the beam, resulting in a deviation:\n",
    "\n",
    "$$d = \\frac{FL^3}{3EI}$$\n",
    "\n",
    "Failure occurs when the beam deviation is too large:\n",
    "\n",
    "$$d \\ge 30 (cm)$$\n",
    "\n",
    "Four independent random variables are considered:\n",
    "* E: Young’s modulus [Pa]\n",
    "* F: load [N]\n",
    "* L: length [m]\n",
    "* I: section [m^4]\n",
    "\n",
    "Stochastic model (simplified model, no units):\n",
    "\n",
    "    E ~ Beta(0.93, 2.27, 2.8e7, 4.8e7)\n",
    "\n",
    "    F ~ LogNormal(30000, 9000, 15000)\n",
    "\n",
    "    L ~ Uniform(250, 260)\n",
    "\n",
    "    I ~ Beta(2.5, 1.5, 3.1e2, 4.5e2)"
   ]
  },
  {
   "cell_type": "markdown",
   "metadata": {},
   "source": [
    "### Definition of input vector distribution"
   ]
  },
  {
   "cell_type": "code",
   "execution_count": 3,
   "metadata": {},
   "outputs": [],
   "source": [
    "# Create the marginal distributions of the parameters\n",
    "dist_E = ot.Beta(0.93, 2.27, 2.8e7, 4.8e7)\n",
    "dist_F = ot.LogNormalMuSigma(30000, 9000, 15000).getDistribution()\n",
    "dist_L = ot.Uniform(250, 260)\n",
    "dist_I = ot.Beta(2.5, 1.5, 3.1e2, 4.5e2)\n",
    "marginals = [dist_E, dist_F, dist_L, dist_I]\n",
    "\n",
    "# Create the Copula\n",
    "RS = ot.CorrelationMatrix(4)\n",
    "RS[2, 3] = -0.2\n",
    "# Evaluate the correlation matrix of the Normal copula from RS\n",
    "R = ot.NormalCopula.GetCorrelationFromSpearmanCorrelation(RS)\n",
    "# Create the Normal copula parametrized by R\n",
    "copula = ot.NormalCopula(R)\n",
    "# Create the joint probability distribution\n",
    "dist_x = ot.ComposedDistribution(marginals, copula)"
   ]
  },
  {
   "cell_type": "markdown",
   "metadata": {},
   "source": [
    "### Definition of model"
   ]
  },
  {
   "cell_type": "code",
   "execution_count": 4,
   "metadata": {},
   "outputs": [],
   "source": [
    "# create the model\n",
    "beam = ot.SymbolicFunction(['E', 'F', 'L', 'I'], ['F*L^3/(3*E*I)'])\n",
    "\n",
    "vect = ot.RandomVector(dist_x)\n",
    "G = ot.CompositeRandomVector(beam, vect)\n",
    "event_beam = ot.ThresholdEvent(G, ot.Greater(),30)"
   ]
  },
  {
   "cell_type": "markdown",
   "metadata": {},
   "source": [
    "### Probability reference assessment with Monte Carlo simulations"
   ]
  },
  {
   "cell_type": "code",
   "execution_count": 5,
   "metadata": {},
   "outputs": [
    {
     "name": "stdout",
     "output_type": "stream",
     "text": [
      "Pf: 0.005800000000000004\n",
      "Coefficient of variation: 0.13092509045383505\n"
     ]
    }
   ],
   "source": [
    "#MonteCarlo experiment\n",
    "n_MC_cantilever = int(1e4)\n",
    "# create a Monte Carlo algorithm\n",
    "experiment = ot.MonteCarloExperiment()\n",
    "algo = ot.ProbabilitySimulationAlgorithm(event_beam, experiment)\n",
    "algo.setMaximumOuterSampling(n_MC_cantilever)\n",
    "algo.run()\n",
    "# retrieve results\n",
    "result = algo.getResult()\n",
    "probability = result.getProbabilityEstimate()\n",
    "print('Pf:', probability)\n",
    "print('Coefficient of variation:',result.getCoefficientOfVariation())"
   ]
  },
  {
   "cell_type": "markdown",
   "metadata": {},
   "source": [
    "## Definition of AK-MCS "
   ]
  },
  {
   "cell_type": "code",
   "execution_count": 6,
   "metadata": {},
   "outputs": [],
   "source": [
    "# Definition of Kriging model\n",
    "dim_cantilever = 4\n",
    "n_MCS_cantilever = int(1e4)\n",
    "\n",
    "basis = ot.LinearBasisFactory(dim_cantilever).build()\n",
    "covarianceModel = ot.MaternModel([.1],[.1],1.5)\n",
    "n_DoE_cantilever = 20\n",
    "sim_budget_cantilever = 100\n",
    "verbose = True\n",
    "criterion = 2\n",
    "my_AK_beam = AK_MCSAlgorithm(event_beam,\n",
    "                                    n_MCS_cantilever,\n",
    "                                    n_DoE_cantilever,\n",
    "                                    sim_budget_cantilever,\n",
    "                                    basis,\n",
    "                                    covarianceModel,\n",
    "                                    criterion,\n",
    "                                    verbose)"
   ]
  },
  {
   "cell_type": "markdown",
   "metadata": {},
   "source": [
    "### Computation of failure probability with AK-MCS"
   ]
  },
  {
   "cell_type": "code",
   "execution_count": 7,
   "metadata": {},
   "outputs": [
    {
     "name": "stderr",
     "output_type": "stream",
     "text": [
      "D:\\mbalesde\\Logiciels\\Externes\\Anaconda3\\lib\\site-packages\\ipykernel_launcher.py:40: RuntimeWarning: invalid value encountered in sqrt\n"
     ]
    },
    {
     "name": "stdout",
     "output_type": "stream",
     "text": [
      "current_min_U | Nb_sim  | Probability estimate  | Coefficient of variation\n",
      "6.108016e-02  |      1  |       7.800000e-03    |       1.127853e-01\n",
      "6.248585e-02  |      2  |       5.100000e-03    |       1.396705e-01\n",
      "7.627553e-02  |      3  |       5.600000e-03    |       1.332559e-01\n",
      "1.075048e-01  |      4  |       5.500000e-03    |       1.344687e-01\n",
      "1.113572e-01  |      5  |       5.800000e-03    |       1.309251e-01\n",
      "1.892149e-01  |      6  |       6.100000e-03    |       1.276458e-01\n",
      "1.334320e-01  |      7  |       6.600000e-03    |       1.226846e-01\n",
      "2.456001e-01  |      8  |       6.600000e-03    |       1.226846e-01\n",
      "4.718937e-02  |      9  |       6.400000e-03    |       1.245994e-01\n",
      "6.605974e-01  |     10  |       6.400000e-03    |       1.245994e-01\n",
      "9.504248e-01  |     11  |       6.400000e-03    |       1.245994e-01\n",
      "9.958722e-01  |     12  |       6.400000e-03    |       1.245994e-01\n",
      "1.161162e+00  |     13  |       6.400000e-03    |       1.245994e-01\n",
      "1.768052e+00  |     14  |       6.400000e-03    |       1.245994e-01\n",
      "1.634703e+00  |     15  |       6.400000e-03    |       1.245994e-01\n",
      "1.880347e+00  |     16  |       6.400000e-03    |       1.245994e-01\n",
      "1.257123e+00  |     17  |       6.400000e-03    |       1.245994e-01\n",
      "2.040956e+00  |     18  |       6.400000e-03    |       1.245994e-01\n"
     ]
    }
   ],
   "source": [
    "#computation of probability with AK-MCS\n",
    "my_AK_beam.compute_proba()"
   ]
  },
  {
   "cell_type": "code",
   "execution_count": 8,
   "metadata": {},
   "outputs": [
    {
     "name": "stdout",
     "output_type": "stream",
     "text": [
      "Probability of failure: 0.0064\n",
      "Simulation budget: 38\n"
     ]
    }
   ],
   "source": [
    "print('Probability of failure:',my_AK_beam.getFailureProbability())\n",
    "print('Simulation budget:',my_AK_beam.getSimBudget())"
   ]
  },
  {
   "cell_type": "markdown",
   "metadata": {},
   "source": [
    "## Experiment 2 : \"four branch function\"\n",
    "\n",
    "$$G(x_1,x_2) = min \\begin{pmatrix}3+0.1(x_1-x_2)^2-\\frac{(x_1+x_2)}{\\sqrt{2}};\\\\3+0.1(x_1-x_2)^2+\\frac{(x_1+x_2)}{\\sqrt{2}};\\\\\n",
    "(x_1-x_2)+ \\frac{k}{\\sqrt{2}};\\\\\n",
    "(x_2-x_1)+ \\frac{k}{\\sqrt{2}}\n",
    "\\end{pmatrix}$$\n",
    "\n",
    "with : \n",
    "* $k$ is equal to 6 or 7\n",
    "* $x_1 \\sim \\mathcal{N}(0,1)$\n",
    "* $x_2 \\sim \\mathcal{N}(0,1)$\n"
   ]
  },
  {
   "cell_type": "markdown",
   "metadata": {},
   "source": [
    "### Definition of input variable probability distributions"
   ]
  },
  {
   "cell_type": "code",
   "execution_count": 9,
   "metadata": {},
   "outputs": [],
   "source": [
    "dim_inputs = 2\n",
    "dist_x = ot.Normal([0.0, 0.0], [1., 1.], ot.CorrelationMatrix(dim_inputs))\n",
    "inputVector = ot.RandomVector(dist_x)"
   ]
  },
  {
   "cell_type": "markdown",
   "metadata": {},
   "source": [
    "### Definition of limit state function"
   ]
  },
  {
   "cell_type": "code",
   "execution_count": 10,
   "metadata": {},
   "outputs": [],
   "source": [
    "#Definition of limit state function\n",
    "def four_branch(x):\n",
    "    x1 = x[0]\n",
    "    x2  = x[1]\n",
    "    k = x[2]\n",
    "    g1 = 3+0.1*(x1-x2)**2-(x1+x2)/np.sqrt(2)\n",
    "    g2 = 3+0.1*(x1-x2)**2+(x1+x2)/np.sqrt(2)\n",
    "    g3 = (x1-x2)+k/np.sqrt(2)\n",
    "    g4 =(x2-x1)+k/np.sqrt(2)\n",
    "    return [min((g1,g2,g3,g4))]\n",
    "\n",
    "# Definition of python function\n",
    "my_four_branch = ot.PythonFunction(3, 1, four_branch)\n",
    "\n",
    "# Transformation of python function to parametric function\n",
    "index_frozen = [2]\n",
    "my_four_branch_6 = ot.ParametricFunction(my_four_branch, index_frozen, [6])\n",
    "my_four_branch_7 = ot.ParametricFunction(my_four_branch, index_frozen, [7])\n",
    "\n",
    "# Definition of event\n",
    "Y = ot.CompositeRandomVector(my_four_branch_6, inputVector)\n",
    "my_event4b = ot.ThresholdEvent(Y,ot.Less(),0.0)"
   ]
  },
  {
   "cell_type": "markdown",
   "metadata": {},
   "source": [
    "### Estimation of reference probability"
   ]
  },
  {
   "cell_type": "code",
   "execution_count": 11,
   "metadata": {},
   "outputs": [
    {
     "name": "stdout",
     "output_type": "stream",
     "text": [
      "Failure probability 0.004399999999999991\n",
      "Coefficient of variation 0.1504236441762826\n"
     ]
    }
   ],
   "source": [
    "n_MC = np.int(1e4)\n",
    "\n",
    "# Creation of event\n",
    "ot.RandomGenerator.SetSeed(1)\n",
    "\n",
    "# create a Monte Carlo algorithm\n",
    "experiment = ot.MonteCarloExperiment()\n",
    "algo = ot.ProbabilitySimulationAlgorithm(my_event4b, experiment)\n",
    "algo.setMaximumOuterSampling(int(n_MC))\n",
    "algo.run()\n",
    "\n",
    "# retrieve results\n",
    "result = algo.getResult()\n",
    "probability = result.getProbabilityEstimate()\n",
    "print('Failure probability', probability)\n",
    "print('Coefficient of variation', result.getCoefficientOfVariation())"
   ]
  },
  {
   "cell_type": "markdown",
   "metadata": {},
   "source": [
    "### Definition of AK-MCS experiment"
   ]
  },
  {
   "cell_type": "code",
   "execution_count": 12,
   "metadata": {},
   "outputs": [],
   "source": [
    "# Definition of Kriging model\n",
    "dim_4b = 2\n",
    "basis = ot.ConstantBasisFactory(dim_4b).build()\n",
    "covarianceModel = ot.MaternModel(dim_4b)\n",
    "n_MC_4b = 10000\n",
    "n_DoE_4b = 20\n",
    "sim_budget_4b = 200\n",
    "verbose = True\n",
    "criterion = 2\n",
    "my_AK_four_branch = AK_MCSAlgorithm(my_event4b,\n",
    "                                    n_MC_4b,\n",
    "                                    n_DoE_4b,\n",
    "                                    sim_budget_4b,\n",
    "                                    basis,\n",
    "                                    covarianceModel,\n",
    "                                    criterion,\n",
    "                                    verbose)"
   ]
  },
  {
   "cell_type": "markdown",
   "metadata": {},
   "source": [
    "### Computation of the failure probability"
   ]
  },
  {
   "cell_type": "code",
   "execution_count": 13,
   "metadata": {},
   "outputs": [
    {
     "name": "stderr",
     "output_type": "stream",
     "text": [
      "D:\\mbalesde\\Logiciels\\Externes\\Anaconda3\\lib\\site-packages\\ipykernel_launcher.py:40: RuntimeWarning: invalid value encountered in sqrt\n",
      "D:\\mbalesde\\Logiciels\\Externes\\Anaconda3\\lib\\site-packages\\ipykernel_launcher.py:40: RuntimeWarning: divide by zero encountered in true_divide\n"
     ]
    },
    {
     "name": "stdout",
     "output_type": "stream",
     "text": [
      "current_min_U | Nb_sim  | Probability estimate  | Coefficient of variation\n",
      "2.270647e-02  |      1  |       2.800000e-03    |       1.887175e-01\n",
      "3.042375e-03  |      2  |       2.500000e-03    |       1.997498e-01\n",
      "1.886776e-02  |      3  |       2.300000e-03    |       2.082745e-01\n",
      "2.219049e-02  |      4  |       2.200000e-03    |       2.129661e-01\n",
      "2.774722e-02  |      5  |       2.300000e-03    |       2.082745e-01\n",
      "1.353568e-02  |      6  |       3.400000e-03    |       1.712068e-01\n",
      "5.643867e-03  |      7  |       3.300000e-03    |       1.737902e-01\n",
      "9.760928e-02  |      8  |       3.000000e-03    |       1.823001e-01\n",
      "8.855628e-02  |      9  |       2.600000e-03    |       1.958610e-01\n",
      "1.363684e-01  |     10  |       2.600000e-03    |       1.958610e-01\n",
      "2.069560e-01  |     11  |       2.700000e-03    |       1.921901e-01\n",
      "2.717826e-01  |     12  |       2.700000e-03    |       1.921901e-01\n",
      "4.710679e-01  |     13  |       2.600000e-03    |       1.958610e-01\n",
      "7.097386e-02  |     14  |       3.300000e-03    |       1.737902e-01\n",
      "2.669687e-01  |     15  |       3.500000e-03    |       1.687348e-01\n",
      "1.078257e-01  |     16  |       3.800000e-03    |       1.619129e-01\n",
      "2.965868e-01  |     17  |       3.900000e-03    |       1.598156e-01\n",
      "5.418143e-01  |     18  |       3.900000e-03    |       1.598156e-01\n",
      "5.798264e-01  |     19  |       3.900000e-03    |       1.598156e-01\n",
      "6.386564e-01  |     20  |       3.900000e-03    |       1.598156e-01\n",
      "7.549418e-01  |     21  |       3.900000e-03    |       1.598156e-01\n",
      "9.157466e-01  |     22  |       3.900000e-03    |       1.598156e-01\n",
      "7.891206e-01  |     23  |       3.900000e-03    |       1.598156e-01\n",
      "9.074753e-01  |     24  |       3.900000e-03    |       1.598156e-01\n",
      "1.088864e+00  |     25  |       3.900000e-03    |       1.598156e-01\n",
      "1.178724e+00  |     26  |       3.900000e-03    |       1.598156e-01\n",
      "1.194404e+00  |     27  |       3.900000e-03    |       1.598156e-01\n",
      "4.735690e-02  |     28  |       4.100000e-03    |       1.558533e-01\n",
      "4.327161e-01  |     29  |       4.000000e-03    |       1.577973e-01\n",
      "2.147141e-01  |     30  |       4.200000e-03    |       1.539790e-01\n",
      "1.966214e-01  |     31  |       4.200000e-03    |       1.539790e-01\n",
      "2.919752e-01  |     32  |       4.300000e-03    |       1.521703e-01\n",
      "3.608322e-01  |     33  |       4.300000e-03    |       1.521703e-01\n",
      "1.403671e+00  |     34  |       4.400000e-03    |       1.504236e-01\n",
      "1.744412e+00  |     35  |       4.400000e-03    |       1.504236e-01\n",
      "1.115332e+00  |     36  |       4.400000e-03    |       1.504236e-01\n",
      "2.009821e+00  |     37  |       4.400000e-03    |       1.504236e-01\n"
     ]
    }
   ],
   "source": [
    "#computation of probability with AK-MCS\n",
    "my_AK_four_branch.compute_proba()"
   ]
  },
  {
   "cell_type": "markdown",
   "metadata": {},
   "source": [
    " ### Post treatments"
   ]
  },
  {
   "cell_type": "code",
   "execution_count": 14,
   "metadata": {},
   "outputs": [
    {
     "name": "stdout",
     "output_type": "stream",
     "text": [
      "Probability of failure 0.0044\n",
      "Simulation budget 57\n",
      "Coefficient of variation 0.1504236441762821\n"
     ]
    }
   ],
   "source": [
    "print('Probability of failure',my_AK_four_branch.getFailureProbability())\n",
    "print('Simulation budget',my_AK_four_branch.getSimBudget())\n",
    "print('Coefficient of variation',my_AK_four_branch.getCoefficientOfVariation())"
   ]
  },
  {
   "cell_type": "markdown",
   "metadata": {},
   "source": [
    "### Post processing"
   ]
  },
  {
   "cell_type": "code",
   "execution_count": 15,
   "metadata": {},
   "outputs": [],
   "source": [
    "#Kriging model \n",
    "kr = my_AK_four_branch.getKrigingModel()\n",
    "[DoE_four_branch_x,DoE_four_branch_y]= my_AK_four_branch.getDoE()"
   ]
  },
  {
   "cell_type": "code",
   "execution_count": 16,
   "metadata": {},
   "outputs": [
    {
     "data": {
      "image/png": "[encoded data removed]",
      "text/plain": [
       "<Figure size 1944x648 with 6 Axes>"
      ]
     },
     "metadata": {
      "needs_background": "light"
     },
     "output_type": "display_data"
    }
   ],
   "source": [
    "#Plot of surrogate model\n",
    "import matplotlib.pyplot as plt\n",
    "\n",
    "grid_size = 100\n",
    "x1 = np.linspace(-4,4,grid_size)\n",
    "x2 = np.linspace(-4,4,grid_size)\n",
    "\n",
    "xx1,xx2 = np.meshgrid(x1,x2)\n",
    "\n",
    "xx1_ = xx1.reshape((grid_size**2,1))\n",
    "xx2_ = xx2.reshape((grid_size**2,1))\n",
    "\n",
    "x = np.concatenate((xx1_,xx2_),1)\n",
    "                  \n",
    "y_true = np.array(my_four_branch_7(x))\n",
    "y_mean_krig =np.array(kr.getConditionalMean(x))     \n",
    "                   \n",
    "y_sigma_krig = np.array(np.sqrt(kr.getConditionalMarginalVariance(x)))\n",
    "\n",
    "y_true = y_true.reshape((grid_size,grid_size))\n",
    "y_mean_krig = y_mean_krig.reshape((grid_size,grid_size))\n",
    "y_sigma_krig= y_sigma_krig.reshape((grid_size,grid_size))\n",
    "\n",
    "cmap = mpl.cm.hsv\n",
    "norm = mpl.colors.Normalize(vmin=-10, vmax=10)\n",
    "%matplotlib inline \n",
    "fig, (ax0, ax1,ax2) = plt.subplots(ncols=3,figsize=(27,9))\n",
    "im1 = ax0.pcolormesh(xx1,xx2,y_true,norm = norm,cmap = cmap)\n",
    "fig.colorbar(im1, ax=ax0)\n",
    "ax0.title.set_text('True function')\n",
    "\n",
    "im2 = ax1.pcolormesh(xx1,xx2,y_mean_krig,norm = norm,cmap = cmap)\n",
    "ax1.scatter(DoE_four_branch_x[0:my_AK_four_branch.n_DoE,0],DoE_four_branch_x[0:my_AK_four_branch.n_DoE,1],color = 'r')\n",
    "ax1.scatter(DoE_four_branch_x[my_AK_four_branch.n_DoE:,0],DoE_four_branch_x[my_AK_four_branch.n_DoE:,1])\n",
    "fig.colorbar(im2, ax=ax1)\n",
    "ax1.title.set_text('Kriging response and added samples')\n",
    "\n",
    "im3 = ax2.pcolormesh(xx1,xx2,y_sigma_krig,norm = norm,cmap = cmap)\n",
    "fig.colorbar(im3, ax=ax2)\n",
    "ax2.title.set_text('Kriging error')"
   ]
  },
  {
   "cell_type": "markdown",
   "metadata": {},
   "source": [
    "## Experiment 3 : \"Non linear oscillator\"\n",
    "\n",
    "$G(c_1,c_2,m,r,t_1,F_1)  = 3r-\\left|\\frac{2 F_1}{m \\omega_0^2}sin\\left(\\frac{\\omega_0 t_1}{2}\\right)\\right|$\n",
    "\n",
    "with : \n",
    "* $\\omega_0 = \\sqrt{\\left(\\frac{c_1+c_2}{m}\\right)}$\n",
    "* $m \\sim \\mathcal{N}(1,0.05)$\n",
    "* $c_1 \\sim \\mathcal{N}(1,0.1)$\n",
    "* $c_2 \\sim \\mathcal{N}(0.1,0.01)$\n",
    "* $r \\sim \\mathcal{N}(0.5,0.05)$\n",
    "* $F_1 \\sim \\mathcal{N}(1.,0.2)$\n",
    "* $r \\sim \\mathcal{N}(1.,0.2)$"
   ]
  },
  {
   "cell_type": "code",
   "execution_count": 17,
   "metadata": {},
   "outputs": [],
   "source": [
    "#Definition of classical function\n",
    "def non_lin_osc(x):\n",
    "    c1 = x[0]\n",
    "    c2  = x[1]\n",
    "    m = x[2]\n",
    "    r = x[3]\n",
    "    t1 = x[4]\n",
    "    F1= x[5]\n",
    "    \n",
    "    omega = np.sqrt((c1+c2)/m)\n",
    "    \n",
    "    G = 3*r - np.abs(2*F1/(m*omega**2)*np.sin(omega*t1/2))\n",
    "    return [G]\n",
    "\n",
    "# Definition de la pythonfunction generale\n",
    "non_lin_osc = ot.PythonFunction(6, 1, non_lin_osc)"
   ]
  },
  {
   "cell_type": "code",
   "execution_count": 18,
   "metadata": {},
   "outputs": [],
   "source": [
    "dist_c1=ot.Normal(1, 0.1)\n",
    "dist_c2=ot.Normal(0.1, 0.01)\n",
    "dist_m=ot.Normal(1.,0.05 )\n",
    "dist_r =ot.Normal(0.5, 0.05)\n",
    "dist_t1 =ot.Normal(1., 0.2)\n",
    "dist_F1=ot.Normal(1., 0.2)\n",
    "std_dev = [dist_c1.getStandardDeviation()[0],dist_c2.getStandardDeviation()[0],dist_m.getStandardDeviation()[0],\n",
    "           dist_r.getStandardDeviation()[0],dist_t1.getStandardDeviation()[0],dist_F1.getStandardDeviation()[0]]\n",
    "dim_inputs=6\n",
    "marginals = [dist_c1,dist_c2,dist_m,dist_r,dist_t1,dist_F1]\n",
    "dist_x = ot.ComposedDistribution(marginals)\n",
    "\n",
    "# Creation of event\n",
    "vect = ot.RandomVector(dist_x)\n",
    "G = ot.CompositeRandomVector(non_lin_osc, vect)\n",
    "event_osc = ot.ThresholdEvent(G, ot.Less(), 0.0)"
   ]
  },
  {
   "cell_type": "markdown",
   "metadata": {},
   "source": [
    "### Estimation of reference probability"
   ]
  },
  {
   "cell_type": "code",
   "execution_count": 19,
   "metadata": {},
   "outputs": [
    {
     "name": "stdout",
     "output_type": "stream",
     "text": [
      "Failure probability 0.025960264900662253\n",
      "Coefficient of variation 0.0996954410713017\n"
     ]
    }
   ],
   "source": [
    "n_MC = np.int(1e4)\n",
    "\n",
    "# create a Monte Carlo algorithm\n",
    "experiment = ot.MonteCarloExperiment()\n",
    "algo = ot.ProbabilitySimulationAlgorithm(event_osc, experiment)\n",
    "algo.setMaximumOuterSampling(int(n_MC))\n",
    "\n",
    "algo.run()\n",
    "\n",
    "# retrieve results\n",
    "result = algo.getResult()\n",
    "probability = result.getProbabilityEstimate()\n",
    "print('Failure probability', probability)\n",
    "print('Coefficient of variation', result.getCoefficientOfVariation())"
   ]
  },
  {
   "cell_type": "markdown",
   "metadata": {},
   "source": [
    "## Definition of AK MCS experiment"
   ]
  },
  {
   "cell_type": "code",
   "execution_count": 20,
   "metadata": {},
   "outputs": [],
   "source": [
    "# Definition of Kriging model\n",
    "dim_osc = 6\n",
    "basis = ot.ConstantBasisFactory(dim_osc).build()\n",
    "covarianceModel = ot.SquaredExponential([0.1]*dim_osc, [1.0])\n",
    "n_MC_osc = 10000\n",
    "n_DoE_osc = 40\n",
    "sim_budget_osc = 200\n",
    "verbose = True\n",
    "\n",
    "my_AK_non_lin_osc = AK_MCSAlgorithm(event_osc,\n",
    "                                    n_MC_osc,\n",
    "                                    n_DoE_osc,\n",
    "                                    sim_budget_osc,\n",
    "                                    basis,\n",
    "                                    covarianceModel,\n",
    "                                    2,\n",
    "                                    verbose)"
   ]
  },
  {
   "cell_type": "markdown",
   "metadata": {},
   "source": [
    "## Computation of failure probability with AK MCS"
   ]
  },
  {
   "cell_type": "code",
   "execution_count": 21,
   "metadata": {},
   "outputs": [
    {
     "name": "stderr",
     "output_type": "stream",
     "text": [
      "D:\\mbalesde\\Logiciels\\Externes\\Anaconda3\\lib\\site-packages\\ipykernel_launcher.py:40: RuntimeWarning: invalid value encountered in sqrt\n",
      "D:\\mbalesde\\Logiciels\\Externes\\Anaconda3\\lib\\site-packages\\ipykernel_launcher.py:40: RuntimeWarning: divide by zero encountered in true_divide\n"
     ]
    },
    {
     "name": "stdout",
     "output_type": "stream",
     "text": [
      "current_min_U | Nb_sim  | Probability estimate  | Coefficient of variation\n",
      "4.695067e-02  |      1  |       2.710000e-02    |       5.991692e-02\n",
      "4.963439e-01  |      2  |       2.710000e-02    |       5.991692e-02\n",
      "3.544150e-01  |      3  |       2.710000e-02    |       5.991692e-02\n",
      "6.233007e-01  |      4  |       2.720000e-02    |       5.980360e-02\n",
      "9.124284e-01  |      5  |       2.720000e-02    |       5.980360e-02\n",
      "1.398456e+00  |      6  |       2.720000e-02    |       5.980360e-02\n",
      "6.022304e-01  |      7  |       2.730000e-02    |       5.969090e-02\n",
      "1.698626e+00  |      8  |       2.730000e-02    |       5.969090e-02\n",
      "2.022035e+00  |      9  |       2.730000e-02    |       5.969090e-02\n"
     ]
    }
   ],
   "source": [
    "#computation of probability with AK-MCS\n",
    "my_AK_non_lin_osc.compute_proba()"
   ]
  },
  {
   "cell_type": "code",
   "execution_count": 22,
   "metadata": {},
   "outputs": [
    {
     "name": "stdout",
     "output_type": "stream",
     "text": [
      "Probability of failure: 0.0273\n",
      "Coefficient of variation: 0.05969090100680055\n",
      "Simulation budget: 49\n"
     ]
    }
   ],
   "source": [
    "print('Probability of failure:',my_AK_non_lin_osc.getFailureProbability())\n",
    "print('Coefficient of variation:',my_AK_non_lin_osc.getCoefficientOfVariation())\n",
    "print('Simulation budget:',my_AK_non_lin_osc.getSimBudget())"
   ]
  },
  {
   "cell_type": "code",
   "execution_count": null,
   "metadata": {},
   "outputs": [],
   "source": []
  }
 ],
 "metadata": {
  "kernelspec": {
   "display_name": "Python 3",
   "language": "python",
   "name": "python3"
  },
  "language_info": {
   "codemirror_mode": {
    "name": "ipython",
    "version": 3
   },
   "file_extension": ".py",
   "mimetype": "text/x-python",
   "name": "python",
   "nbconvert_exporter": "python",
   "pygments_lexer": "ipython3",
   "version": "3.7.1"
  }
 },
 "nbformat": 4,
 "nbformat_minor": 4
}
